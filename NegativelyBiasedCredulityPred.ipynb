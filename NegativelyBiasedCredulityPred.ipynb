{
  "cells": [
    {
      "cell_type": "markdown",
      "metadata": {
        "id": "kCJBI1pHUpH9"
      },
      "source": [
        "\n",
        "\n",
        "\n",
        "## Import/Install Modules"
      ]
    },
    {
      "cell_type": "code",
      "execution_count": null,
      "metadata": {
        "colab": {
          "base_uri": "https://localhost:8080/"
        },
        "id": "alAseNA_jHyV",
        "outputId": "7be2346d-8a49-437b-ab3a-9a19ab3c9119"
      },
      "outputs": [
        {
          "output_type": "stream",
          "name": "stdout",
          "text": [
            "Collecting demoji\n",
            "  Downloading demoji-1.1.0-py3-none-any.whl (42 kB)\n",
            "\u001b[?25l     \u001b[90m━━━━━━━━━━━━━━━━━━━━━━━━━━━━━━━━━━━━━━━━\u001b[0m \u001b[32m0.0/42.9 kB\u001b[0m \u001b[31m?\u001b[0m eta \u001b[36m-:--:--\u001b[0m\r\u001b[2K     \u001b[91m━━━━━━━━━━━━━━━━━━━━━━━━━━━━\u001b[0m\u001b[91m╸\u001b[0m\u001b[90m━━━━━━━━━━━\u001b[0m \u001b[32m30.7/42.9 kB\u001b[0m \u001b[31m789.3 kB/s\u001b[0m eta \u001b[36m0:00:01\u001b[0m\r\u001b[2K     \u001b[90m━━━━━━━━━━━━━━━━━━━━━━━━━━━━━━━━━━━━━━━━\u001b[0m \u001b[32m42.9/42.9 kB\u001b[0m \u001b[31m693.8 kB/s\u001b[0m eta \u001b[36m0:00:00\u001b[0m\n",
            "\u001b[?25hInstalling collected packages: demoji\n",
            "Successfully installed demoji-1.1.0\n",
            "Collecting sentence-transformers\n",
            "  Downloading sentence-transformers-2.2.2.tar.gz (85 kB)\n",
            "\u001b[2K     \u001b[90m━━━━━━━━━━━━━━━━━━━━━━━━━━━━━━━━━━━━━━━━\u001b[0m \u001b[32m86.0/86.0 kB\u001b[0m \u001b[31m568.8 kB/s\u001b[0m eta \u001b[36m0:00:00\u001b[0m\n",
            "\u001b[?25h  Preparing metadata (setup.py) ... \u001b[?25l\u001b[?25hdone\n",
            "Requirement already satisfied: transformers<5.0.0,>=4.6.0 in /usr/local/lib/python3.10/dist-packages (from sentence-transformers) (4.35.2)\n",
            "Requirement already satisfied: tqdm in /usr/local/lib/python3.10/dist-packages (from sentence-transformers) (4.66.1)\n",
            "Requirement already satisfied: torch>=1.6.0 in /usr/local/lib/python3.10/dist-packages (from sentence-transformers) (2.1.0+cu121)\n",
            "Requirement already satisfied: torchvision in /usr/local/lib/python3.10/dist-packages (from sentence-transformers) (0.16.0+cu121)\n",
            "Requirement already satisfied: numpy in /usr/local/lib/python3.10/dist-packages (from sentence-transformers) (1.23.5)\n",
            "Requirement already satisfied: scikit-learn in /usr/local/lib/python3.10/dist-packages (from sentence-transformers) (1.2.2)\n",
            "Requirement already satisfied: scipy in /usr/local/lib/python3.10/dist-packages (from sentence-transformers) (1.11.4)\n",
            "Requirement already satisfied: nltk in /usr/local/lib/python3.10/dist-packages (from sentence-transformers) (3.8.1)\n",
            "Collecting sentencepiece (from sentence-transformers)\n",
            "  Downloading sentencepiece-0.1.99-cp310-cp310-manylinux_2_17_x86_64.manylinux2014_x86_64.whl (1.3 MB)\n",
            "\u001b[2K     \u001b[90m━━━━━━━━━━━━━━━━━━━━━━━━━━━━━━━━━━━━━━━━\u001b[0m \u001b[32m1.3/1.3 MB\u001b[0m \u001b[31m20.1 MB/s\u001b[0m eta \u001b[36m0:00:00\u001b[0m\n",
            "\u001b[?25hRequirement already satisfied: huggingface-hub>=0.4.0 in /usr/local/lib/python3.10/dist-packages (from sentence-transformers) (0.20.1)\n",
            "Requirement already satisfied: filelock in /usr/local/lib/python3.10/dist-packages (from huggingface-hub>=0.4.0->sentence-transformers) (3.13.1)\n",
            "Requirement already satisfied: fsspec>=2023.5.0 in /usr/local/lib/python3.10/dist-packages (from huggingface-hub>=0.4.0->sentence-transformers) (2023.6.0)\n",
            "Requirement already satisfied: requests in /usr/local/lib/python3.10/dist-packages (from huggingface-hub>=0.4.0->sentence-transformers) (2.31.0)\n",
            "Requirement already satisfied: pyyaml>=5.1 in /usr/local/lib/python3.10/dist-packages (from huggingface-hub>=0.4.0->sentence-transformers) (6.0.1)\n",
            "Requirement already satisfied: typing-extensions>=3.7.4.3 in /usr/local/lib/python3.10/dist-packages (from huggingface-hub>=0.4.0->sentence-transformers) (4.5.0)\n",
            "Requirement already satisfied: packaging>=20.9 in /usr/local/lib/python3.10/dist-packages (from huggingface-hub>=0.4.0->sentence-transformers) (23.2)\n",
            "Requirement already satisfied: sympy in /usr/local/lib/python3.10/dist-packages (from torch>=1.6.0->sentence-transformers) (1.12)\n",
            "Requirement already satisfied: networkx in /usr/local/lib/python3.10/dist-packages (from torch>=1.6.0->sentence-transformers) (3.2.1)\n",
            "Requirement already satisfied: jinja2 in /usr/local/lib/python3.10/dist-packages (from torch>=1.6.0->sentence-transformers) (3.1.2)\n",
            "Requirement already satisfied: triton==2.1.0 in /usr/local/lib/python3.10/dist-packages (from torch>=1.6.0->sentence-transformers) (2.1.0)\n",
            "Requirement already satisfied: regex!=2019.12.17 in /usr/local/lib/python3.10/dist-packages (from transformers<5.0.0,>=4.6.0->sentence-transformers) (2023.6.3)\n",
            "Requirement already satisfied: tokenizers<0.19,>=0.14 in /usr/local/lib/python3.10/dist-packages (from transformers<5.0.0,>=4.6.0->sentence-transformers) (0.15.0)\n",
            "Requirement already satisfied: safetensors>=0.3.1 in /usr/local/lib/python3.10/dist-packages (from transformers<5.0.0,>=4.6.0->sentence-transformers) (0.4.1)\n",
            "Requirement already satisfied: click in /usr/local/lib/python3.10/dist-packages (from nltk->sentence-transformers) (8.1.7)\n",
            "Requirement already satisfied: joblib in /usr/local/lib/python3.10/dist-packages (from nltk->sentence-transformers) (1.3.2)\n",
            "Requirement already satisfied: threadpoolctl>=2.0.0 in /usr/local/lib/python3.10/dist-packages (from scikit-learn->sentence-transformers) (3.2.0)\n",
            "Requirement already satisfied: pillow!=8.3.*,>=5.3.0 in /usr/local/lib/python3.10/dist-packages (from torchvision->sentence-transformers) (9.4.0)\n",
            "Requirement already satisfied: MarkupSafe>=2.0 in /usr/local/lib/python3.10/dist-packages (from jinja2->torch>=1.6.0->sentence-transformers) (2.1.3)\n",
            "Requirement already satisfied: charset-normalizer<4,>=2 in /usr/local/lib/python3.10/dist-packages (from requests->huggingface-hub>=0.4.0->sentence-transformers) (3.3.2)\n",
            "Requirement already satisfied: idna<4,>=2.5 in /usr/local/lib/python3.10/dist-packages (from requests->huggingface-hub>=0.4.0->sentence-transformers) (3.6)\n",
            "Requirement already satisfied: urllib3<3,>=1.21.1 in /usr/local/lib/python3.10/dist-packages (from requests->huggingface-hub>=0.4.0->sentence-transformers) (2.0.7)\n",
            "Requirement already satisfied: certifi>=2017.4.17 in /usr/local/lib/python3.10/dist-packages (from requests->huggingface-hub>=0.4.0->sentence-transformers) (2023.11.17)\n",
            "Requirement already satisfied: mpmath>=0.19 in /usr/local/lib/python3.10/dist-packages (from sympy->torch>=1.6.0->sentence-transformers) (1.3.0)\n",
            "Building wheels for collected packages: sentence-transformers\n",
            "  Building wheel for sentence-transformers (setup.py) ... \u001b[?25l\u001b[?25hdone\n",
            "  Created wheel for sentence-transformers: filename=sentence_transformers-2.2.2-py3-none-any.whl size=125923 sha256=c1b6f63aa6d6b45410918a49afaf4ed23445cd0a58a21c6b2448370b77f62385\n",
            "  Stored in directory: /root/.cache/pip/wheels/62/f2/10/1e606fd5f02395388f74e7462910fe851042f97238cbbd902f\n",
            "Successfully built sentence-transformers\n",
            "Installing collected packages: sentencepiece, sentence-transformers\n",
            "Successfully installed sentence-transformers-2.2.2 sentencepiece-0.1.99\n",
            "Collecting umap-learn\n",
            "  Downloading umap-learn-0.5.5.tar.gz (90 kB)\n",
            "\u001b[2K     \u001b[90m━━━━━━━━━━━━━━━━━━━━━━━━━━━━━━━━━━━━━━━━\u001b[0m \u001b[32m90.9/90.9 kB\u001b[0m \u001b[31m820.8 kB/s\u001b[0m eta \u001b[36m0:00:00\u001b[0m\n",
            "\u001b[?25h  Preparing metadata (setup.py) ... \u001b[?25l\u001b[?25hdone\n",
            "Requirement already satisfied: numpy>=1.17 in /usr/local/lib/python3.10/dist-packages (from umap-learn) (1.23.5)\n",
            "Requirement already satisfied: scipy>=1.3.1 in /usr/local/lib/python3.10/dist-packages (from umap-learn) (1.11.4)\n",
            "Requirement already satisfied: scikit-learn>=0.22 in /usr/local/lib/python3.10/dist-packages (from umap-learn) (1.2.2)\n",
            "Requirement already satisfied: numba>=0.51.2 in /usr/local/lib/python3.10/dist-packages (from umap-learn) (0.58.1)\n",
            "Collecting pynndescent>=0.5 (from umap-learn)\n",
            "  Downloading pynndescent-0.5.11-py3-none-any.whl (55 kB)\n",
            "\u001b[2K     \u001b[90m━━━━━━━━━━━━━━━━━━━━━━━━━━━━━━━━━━━━━━━━\u001b[0m \u001b[32m55.8/55.8 kB\u001b[0m \u001b[31m2.9 MB/s\u001b[0m eta \u001b[36m0:00:00\u001b[0m\n",
            "\u001b[?25hRequirement already satisfied: tqdm in /usr/local/lib/python3.10/dist-packages (from umap-learn) (4.66.1)\n",
            "Requirement already satisfied: llvmlite<0.42,>=0.41.0dev0 in /usr/local/lib/python3.10/dist-packages (from numba>=0.51.2->umap-learn) (0.41.1)\n",
            "Requirement already satisfied: joblib>=0.11 in /usr/local/lib/python3.10/dist-packages (from pynndescent>=0.5->umap-learn) (1.3.2)\n",
            "Requirement already satisfied: threadpoolctl>=2.0.0 in /usr/local/lib/python3.10/dist-packages (from scikit-learn>=0.22->umap-learn) (3.2.0)\n",
            "Building wheels for collected packages: umap-learn\n",
            "  Building wheel for umap-learn (setup.py) ... \u001b[?25l\u001b[?25hdone\n",
            "  Created wheel for umap-learn: filename=umap_learn-0.5.5-py3-none-any.whl size=86832 sha256=22c37b7dec740830053874b88457066defeaec205a6ae130b2f05240c23c376a\n",
            "  Stored in directory: /root/.cache/pip/wheels/3a/70/07/428d2b58660a1a3b431db59b806a10da736612ebbc66c1bcc5\n",
            "Successfully built umap-learn\n",
            "Installing collected packages: pynndescent, umap-learn\n",
            "Successfully installed pynndescent-0.5.11 umap-learn-0.5.5\n"
          ]
        }
      ],
      "source": [
        "# Imports\n",
        "# Basic\n",
        "import pandas as pd\n",
        "import numpy as np\n",
        "import seaborn as sns\n",
        "from matplotlib import pyplot as plt\n",
        "import sklearn\n",
        "import matplotlib\n",
        "import random\n",
        "import pickle as pk\n",
        "import os\n",
        "from scipy.stats import uniform, randint, beta\n",
        "\n",
        "from sklearn.metrics import auc, accuracy_score, confusion_matrix, mean_squared_error\n",
        "from sklearn.model_selection import cross_val_score, GridSearchCV, KFold, RandomizedSearchCV, train_test_split\n",
        "from sklearn.metrics import accuracy_score,roc_auc_score,f1_score\n",
        "from sklearn.svm import SVC\n",
        "from sklearn.ensemble import RandomForestClassifier\n",
        "from scipy.stats import spearmanr\n",
        "\n",
        "import sys\n",
        "import statsmodels\n",
        "!pip install demoji\n",
        "import demoji\n",
        "!pip install -U sentence-transformers\n",
        "!pip install umap-learn\n",
        "import umap\n",
        "from sentence_transformers import SentenceTransformer\n",
        "import tensorflow as tf\n",
        "from tensorflow import keras\n",
        "from keras.callbacks import EarlyStopping\n",
        "from tensorflow.keras import regularizers\n",
        "from tensorflow.keras.models import Sequential\n",
        "from tensorflow.keras.layers import Embedding, Flatten, Dense, Dropout, LSTM, InputLayer, BatchNormalization, LeakyReLU, Normalization, Softmax\n",
        "from tensorflow.keras.optimizers import Adam\n",
        "from tensorflow.keras.optimizers.schedules import ExponentialDecay\n",
        "from sklearn.model_selection import GridSearchCV\n",
        "\n",
        "#!pip install scikeras==0.1.8\n",
        "#from scikeras.wrappers import KerasClassifier\n",
        "from keras.metrics import AUC\n",
        "\n",
        "import xgboost as xgb\n",
        "from xgboost import XGBClassifier\n",
        "\n",
        "from scipy.stats import ttest_ind, spearmanr\n",
        "from glob import glob\n"
      ]
    },
    {
      "cell_type": "code",
      "execution_count": null,
      "metadata": {
        "colab": {
          "base_uri": "https://localhost:8080/"
        },
        "id": "fybWCnzYjrdi",
        "outputId": "a7a2315d-d2d3-4895-ae13-f9a4ab329c58"
      },
      "outputs": [
        {
          "output_type": "stream",
          "name": "stdout",
          "text": [
            "Mounted at /content/drive\n"
          ]
        }
      ],
      "source": [
        "# Mount your drive\n",
        "from google.colab import drive\n",
        "drive.mount('/content/drive')"
      ]
    },
    {
      "cell_type": "code",
      "execution_count": null,
      "metadata": {
        "colab": {
          "base_uri": "https://localhost:8080/"
        },
        "id": "Kl4VOu2MjtRi",
        "outputId": "e8ed4037-7d89-4e40-e478-41e3214523e4"
      },
      "outputs": [
        {
          "output_type": "stream",
          "name": "stdout",
          "text": [
            "/content/drive/MyDrive/Negatively Biased Credulity/Data/Twitter/Cleaned Data\n"
          ]
        }
      ],
      "source": [
        "# Change directory\n",
        "%cd /content/drive/MyDrive/Negatively Biased Credulity/Data/Twitter/Cleaned Data"
      ]
    },
    {
      "cell_type": "code",
      "source": [],
      "metadata": {
        "id": "ZlQaJFW_Mdkf"
      },
      "execution_count": null,
      "outputs": []
    },
    {
      "cell_type": "markdown",
      "metadata": {
        "id": "I8Qb48UNUqcM"
      },
      "source": [
        "## Install and Import Libraries"
      ]
    },
    {
      "cell_type": "markdown",
      "metadata": {
        "id": "JqzfGwUyU0-X"
      },
      "source": [
        "## Read Dataset"
      ]
    },
    {
      "cell_type": "code",
      "execution_count": null,
      "metadata": {
        "id": "jAIqs3rQU6Gq"
      },
      "outputs": [],
      "source": [
        "#Preprocessed data\n",
        "#annotations\n",
        "file='Tweet annotation.csv'\n",
        "\n",
        "data = pd.read_csv(file,low_memory=False,lineterminator='\\n')\n"
      ]
    },
    {
      "cell_type": "code",
      "execution_count": null,
      "metadata": {
        "colab": {
          "base_uri": "https://localhost:8080/"
        },
        "id": "yQ5g69RuH3H1",
        "outputId": "635f80a4-11e2-45d3-9e88-49b8821889c3"
      },
      "outputs": [
        {
          "output_type": "stream",
          "name": "stdout",
          "text": [
            "['text', 4020]\n",
            "['Is this tweet spam?', 4020]\n",
            "['Does the tweet describe a hazard (something that could impose harm or other costs on the author of the tweet or on others)?', 4020]\n",
            "['Does the tweet provide information on how to avoid, cope with, or overcome the hazard described?', 4020]\n",
            "['On a scale of 0-100, how much do you think that the author of the tweet is tweeting this information because they believe that it accurately describes a real hazard in the world, where 0 = the author does not believe that the information is accurate, and is instead sending it for some other reason (e.g., as a joke; to ridicule people who believe this sort of thing; etc.), and 100 = the author believes that the information is entirely accurate? - Author confidence', 4020]\n",
            "['On a scale of 0-100, how confident is the author of the tweet that the hazard can be adequately managed, where 0 = not at all, and 100 = extremely? - Author confidence', 4020]\n",
            "['Does the tweet describe a benefit (something that provides resources, opportunities, or other good things to the author of the tweet or to others)?', 4020]\n",
            "['Does the tweet provide information on how to obtain the benefit described?', 4020]\n",
            "['On a scale of 0-100, how much do you think that the author of the tweet is tweeting this information because they believe that it accurately describes a real benefit in the world, where 0 = the author does not believe that the information is accurate, and is instead sending it for some other reason (e.g., as a joke; to ridicule people who believe this sort of thing; etc.), and 100 = the author believes that the information is entirely accurate? - Author confidence', 4020]\n",
            "['On a scale of 0-100, how confident is the author of the tweet that the benefit can be obtained, where 0 = not at all, and 100 = extremely? - Author confidence', 4020]\n",
            "['If the tweet describes a harm or benefit, on a scale of 0-100, how confidently does the author of the tweet attribute the harm/benefit to a person? - Author confidence', 4020]\n",
            "['If the tweet describes a harm or benefit, on a scale of 0-100, how confidently does the author of the tweet attribute the harm/benefit to an event or circumstance? - Author confidence', 4020]\n",
            "['What is your political orientation? - Political orientation', 4020]\n",
            "['What is your gender?', 4020]\n",
            "['What is your age?', 4020]\n",
            "['Do you have children under 12?', 4020]\n"
          ]
        }
      ],
      "source": [
        "# clean data\n",
        "# make columns readable\n",
        "data.columns = [c.replace('_1','') if not ('_' in c and 'Q' not in c) else 'Q'+c.replace('_1','') for c in data.columns]\n",
        "# this question checks if someone is paying attention; everyone chose \"4\" so it is not needed\n",
        "data = data.drop(['Q11119'],axis=1)\n",
        "cols = data.columns\n",
        "\n",
        "# where are the questions for each text located\n",
        "pos_qs = [ii for ii,c in enumerate(cols) if 'Q' in c]\n",
        "# number of questions per annotations\n",
        "num_qs = 11\n",
        "# where do the questions start (starting from the first and ending at the 10th annotation)\n",
        "q_start_pos = [22-num_qs]+pos_qs[5::11]\n",
        "\n",
        "# here we extract the exact questions\n",
        "col_text = {}\n",
        "for c in cols:\n",
        "    col_text[c] = data.iloc[0][c]\n",
        "questions = [col_text[c] for c in cols[q_start_pos[1]:q_start_pos[1]+11]]\n",
        "# demographics\n",
        "demogs = [col_text[c] for c in cols if 'QD' in c]\n",
        "# all of the key data: text, questions, demographics per annotator\n",
        "annotations = {'text':[]}\n",
        "for q in questions:\n",
        "    annotations[q] = []\n",
        "for d in demogs:\n",
        "    annotations[d] = []\n",
        "\n",
        "# data cleaning\n",
        "data = data[12:]\n",
        "# find all data where humans completed the task and took > 3 minutes, 20 seconds (200 seconds)\n",
        "data = data.loc[data['Progress'].astype(float).values==100,]\n",
        "data = data.loc[data['Duration (in seconds)'].astype(float).values>200,]\n",
        "\n",
        "# for each row of this file, find the exact text humans annotated\n",
        "for ii,row in data.iterrows():\n",
        "    if ii > 0:\n",
        "        # all the tweets are those whose elements are not null and not questions\n",
        "        texts = [col_text[c] for null,c in zip(row.isnull()[q_start_pos[0]+num_qs:],cols[q_start_pos[0]+num_qs:]) if not null and 'Q' not in c and c in col_text.keys()][:-4]\n",
        "        line_annots = {}\n",
        "        # for each text,\n",
        "        for q1,text in zip(q_start_pos[1:],texts):\n",
        "            # positions of all the questions associated with the text\n",
        "            q_cols = cols[q1:q1+num_qs]\n",
        "            # add tweet\n",
        "            line_annots['text'] = [text]\n",
        "            # add questions\n",
        "            for q,c in zip(questions,q_cols):\n",
        "                line_annots[q]=[row[c]]\n",
        "            for c in cols:\n",
        "                # demographic questions\n",
        "                if 'QD' in c:\n",
        "                    line_annots[col_text[c]]=[row[c]]\n",
        "        # if we have found all the data\n",
        "        if set(list(line_annots.keys()))== set(list(annotations.keys())):\n",
        "            # append text, questions, demographics\n",
        "            for q1,text in zip(q_start_pos[1:],texts):\n",
        "                q_cols = cols[q1:q1+num_qs]\n",
        "                annotations['text'].append(text)\n",
        "                for q,c in zip(questions,q_cols):\n",
        "                    annotations[q].append(row[c])\n",
        "                for c in cols:\n",
        "                    if 'QD' in c:\n",
        "                        annotations[col_text[c]].append(row[c])\n",
        "            lens= []\n",
        "            for key in annotations.keys():\n",
        "                lens.append(len(annotations[key]))\n",
        "for c in annotations.keys():\n",
        "    print([c,len(annotations[c])])\n",
        "annotations = pd.DataFrame(annotations)\n",
        "\n",
        "\n",
        "\n"
      ]
    },
    {
      "cell_type": "code",
      "source": [
        "\n"
      ],
      "metadata": {
        "id": "b2S0wvC7LLGJ"
      },
      "execution_count": null,
      "outputs": []
    },
    {
      "cell_type": "code",
      "source": [
        "#\n",
        "hazard_col = 'Does the tweet describe a hazard (something that could impose harm or other costs on the author of the tweet or on others)?'\n",
        "benefit_col = 'Does the tweet describe a benefit (something that provides resources, opportunities, or other good things to the author of the tweet or to others)?'\n",
        "\n",
        "pol_col='What is your political orientation? - Political orientation'\n",
        "cons=annotations.loc[annotations[pol_col].values.astype(int)>50,hazard_col].replace('Yes',1).replace('No',0)\n",
        "plt.subplots(1,1,figsize=(6,6))\n",
        "lib=annotations.loc[annotations[pol_col].values.astype(int)<50,hazard_col].replace('Yes',1).replace('No',0)\n",
        "plt.bar([0,1],[lib.mean()*100,cons.mean()*100],color=['c','darkred'])\n",
        "err = [np.sqrt((lib.mean()*100*(100-lib.mean()*100))/len(lib)),np.sqrt((cons.mean()*100*(100-cons.mean()*100))/len(cons))]\n",
        "plt.errorbar([0,1],[lib.mean()*100,cons.mean()*100],yerr=err,color='k',linestyle='',linewidth=8)\n",
        "\n",
        "plt.xticks([0,1],['Liberal','Conservative'])\n",
        "plt.ylabel('% Tweets Labeled Hazard')\n"
      ],
      "metadata": {
        "colab": {
          "base_uri": "https://localhost:8080/",
          "height": 546
        },
        "id": "t7HnWbYcK5BI",
        "outputId": "211d605b-001e-480a-bfd9-9f5285dd79cf"
      },
      "execution_count": null,
      "outputs": [
        {
          "output_type": "execute_result",
          "data": {
            "text/plain": [
              "Text(0, 0.5, '% Tweets Labeled Hazard')"
            ]
          },
          "metadata": {},
          "execution_count": 23
        },
        {
          "output_type": "display_data",
          "data": {
            "text/plain": [
              "<Figure size 600x600 with 1 Axes>"
            ],
            "image/png": "[encoded data removed]"
          },
          "metadata": {}
        }
      ]
    },
    {
      "cell_type": "code",
      "source": [
        "pol_haz = annotations[[pol_col,hazard_col]].replace('Yes',1).replace('No',0).values.astype(float)\n",
        "dc=10\n",
        "pol_haz_binned = [pol_haz[(pol_haz[:,0]>=conf) & (pol_haz[:,0]<conf+dc)][:,1].mean() for conf in np.arange(0,100+dc,dc)]\n",
        "\n",
        "plt.plot(pol_haz_binned)\n",
        "#plt.plot(pol_haz[:,0],pol_haz[:,1],'k.')"
      ],
      "metadata": {
        "colab": {
          "base_uri": "https://localhost:8080/",
          "height": 454
        },
        "id": "4ZVcojOsdxmN",
        "outputId": "1152ce6d-b62c-4445-9791-f956fb1a57ab"
      },
      "execution_count": null,
      "outputs": [
        {
          "output_type": "execute_result",
          "data": {
            "text/plain": [
              "[<matplotlib.lines.Line2D at 0x7d81a6722680>]"
            ]
          },
          "metadata": {},
          "execution_count": 24
        },
        {
          "output_type": "display_data",
          "data": {
            "text/plain": [
              "<Figure size 640x480 with 1 Axes>"
            ],
            "image/png": "[encoded data removed]"
          },
          "metadata": {}
        }
      ]
    },
    {
      "cell_type": "code",
      "execution_count": null,
      "metadata": {
        "colab": {
          "base_uri": "https://localhost:8080/"
        },
        "id": "GUpx_YM35evL",
        "outputId": "dd629ec9-112c-403b-f306-b330b7c4da6e"
      },
      "outputs": [
        {
          "output_type": "stream",
          "name": "stderr",
          "text": [
            "<ipython-input-25-0002ed67ee90>:8: SettingWithCopyWarning: \n",
            "A value is trying to be set on a copy of a slice from a DataFrame.\n",
            "Try using .loc[row_indexer,col_indexer] = value instead\n",
            "\n",
            "See the caveats in the documentation: https://pandas.pydata.org/pandas-docs/stable/user_guide/indexing.html#returning-a-view-versus-a-copy\n",
            "  text_haz_ben[hazard_col] = text_haz_ben[hazard_col].replace('Yes',1).replace('No',0).dropna()\n",
            "<ipython-input-25-0002ed67ee90>:9: SettingWithCopyWarning: \n",
            "A value is trying to be set on a copy of a slice from a DataFrame.\n",
            "Try using .loc[row_indexer,col_indexer] = value instead\n",
            "\n",
            "See the caveats in the documentation: https://pandas.pydata.org/pandas-docs/stable/user_guide/indexing.html#returning-a-view-versus-a-copy\n",
            "  text_haz_ben[benefit_col] = text_haz_ben[benefit_col].replace('Yes',1).replace('No',0).dropna()\n"
          ]
        },
        {
          "output_type": "stream",
          "name": "stdout",
          "text": [
            "[0.0651, 0.02]\n",
            "1312\n"
          ]
        }
      ],
      "source": [
        "# convert raw data to overall annotations per text\n",
        "\n",
        "\n",
        "hazard_col='Does the tweet describe a hazard (something that could impose harm or other costs on the author of the tweet or on others)?'\n",
        "benefit_col = 'Does the tweet describe a benefit (something that provides resources, opportunities, or other good things to the author of the tweet or to others)?'\n",
        "text_haz_ben=annotations[['text',hazard_col,benefit_col]]\n",
        "\n",
        "text_haz_ben[hazard_col] = text_haz_ben[hazard_col].replace('Yes',1).replace('No',0).dropna()\n",
        "text_haz_ben[benefit_col] = text_haz_ben[benefit_col].replace('Yes',1).replace('No',0).dropna()\n",
        "unique_text = text_haz_ben['text'].drop_duplicates()\n",
        "haz_ben_annots = text_haz_ben.groupby('text')\n",
        "GT_labels = {'text':[],'hazard':[],'benefit':[],'old_text':[]}\n",
        "for t in unique_text:\n",
        "    annots = haz_ben_annots.get_group(t)\n",
        "    # require at least 3 annotations\n",
        "    if len(annots) < 2: continue\n",
        "    ben = annots[benefit_col].values.sum()/len(annots)\n",
        "    haz = annots[hazard_col].values.sum()/len(annots)\n",
        "    all_replace={}\n",
        "    replaced_text = []\n",
        "    # replace emojis\n",
        "    replace = demoji.findall(t)\n",
        "    new_t = t\n",
        "    for word, initial in replace.items():\n",
        "        new_t = new_t.replace(word, initial)\n",
        "    GT_labels['old_text'].append(t)\n",
        "    GT_labels['text'].append(new_t)\n",
        "    GT_labels['hazard'].append(haz)\n",
        "    GT_labels['benefit'].append(ben)\n",
        "\n",
        "GT_labels = pd.DataFrame(GT_labels)\n",
        "r,p = spearmanr(GT_labels['hazard'],GT_labels['benefit'])\n",
        "print([round(r,4),round(p,2)])\n",
        "\n",
        "\n",
        "#Sentences are encoded by calling model.encode()\n",
        "model = SentenceTransformer('stsb-xlm-r-multilingual')#'all-mpnet-base-v2')\n",
        "\n",
        "embeddings = model.encode(GT_labels['text'].values)\n",
        "GT_labels['embeddings'] = [e for e in embeddings]\n",
        "fit = umap.UMAP()\n",
        "trans = fit.fit(embeddings)\n",
        "\n",
        "\n",
        "umap_embed = trans.transform(embeddings)\n",
        "\n",
        "print(len(umap_embed))"
      ]
    },
    {
      "cell_type": "markdown",
      "metadata": {
        "id": "zWWtvpsAHgSg"
      },
      "source": [
        "[link text](https://)**GPT Responses**"
      ]
    },
    {
      "cell_type": "code",
      "execution_count": null,
      "metadata": {
        "id": "XknYdT0ZV-Fe"
      },
      "outputs": [],
      "source": [
        "# Dataframe sample\n",
        "# GPT data\n",
        "# 'threat_1' means these are randomly sampled files from sampled_threat_tweets_1.csv (hazard tweets); see GPTprompt for methodology\n",
        "# 'random_0' means these are randomly sampled files from sampled_random_tweets_0.csv (random tweets); see GPTprompt for methodology\n",
        "\n",
        "\n",
        "\n"
      ]
    },
    {
      "cell_type": "code",
      "execution_count": null,
      "metadata": {
        "id": "huKionsk4gCg"
      },
      "outputs": [],
      "source": [
        "# clean responses\n",
        "if False:\n",
        "  hazard_gpt_file = 'gpt35_responses_threat_1.csv'\n",
        "  random_gpt_file = 'gpt35_responses_random_0.csv'\n",
        "  gpt_threat = pd.read_csv(hazard_gpt_file)\n",
        "  gpt_random = pd.read_csv(random_gpt_file)\n",
        "  gpt_threat[hazard_col] = [str(r).split(',')[0].split('.')[0].split('\\n')[0].split(' ')[0].lower() for r in gpt_threat['responses'].values]\n",
        "  gpt_threat[hazard_col] =gpt_threat[hazard_col].replace({'yes':1,'no':0})\n",
        "  gpt_threat[hazard_col] = gpt_threat[hazard_col]\n",
        "  gpt_threat[hazard_col] =gpt_threat[hazard_col].replace({'yes':1,'no':0})\n",
        "  gpt_threat = gpt_threat[[(t == 1) or (t == 0) for t in gpt_threat[hazard_col].values]]\n",
        "  gpt_threat = gpt_threat.dropna()\n",
        "\n",
        "  gpt_random[hazard_col] = [str(r).split(',')[0].split('.')[0].split('\\n')[0].split(' ')[0].lower() for r in gpt_random['responses'].values]\n",
        "  gpt_random[hazard_col] = gpt_random[hazard_col]\n",
        "  gpt_random[hazard_col] =gpt_random[hazard_col].replace({'yes':1,'no':0})\n",
        "  gpt_random = gpt_random[[(t == 1) or (t == 0) for t in gpt_random[hazard_col].values]]\n",
        "  gpt_random = gpt_random.dropna()\n",
        "  gpt_random[hazard_col] = gpt_random[hazard_col].astype(int)\n",
        "\n",
        "  gpt = pd.concat([gpt_random,gpt_threat]).sample(frac=1.0)\n",
        "  all_replace={}\n",
        "  replaced_text = []\n",
        "  for t in gpt['text'].values:\n",
        "      replace = demoji.findall(t)\n",
        "      new_t = t\n",
        "      for word, initial in replace.items():\n",
        "          new_t = new_t.replace(word, initial)\n",
        "      replaced_text.append(new_t)\n",
        "      for key in replace.keys():\n",
        "          all_replace[key] = replace[key]\n",
        "  gpt['new_text'] = replaced_text\n",
        "  embeddings = model.encode(gpt['new_text'].values)\n",
        "  gpt['embeddings'] = [e for e in embeddings]\n",
        "  gpt = gpt.reset_index()\n",
        "  gpt['hazard'] = gpt[hazard_col]\n"
      ]
    },
    {
      "cell_type": "code",
      "execution_count": null,
      "metadata": {
        "id": "hnIDZxMJ4k8F"
      },
      "outputs": [],
      "source": [
        "# convert tweet emojis into embeddable format, embed\n",
        "\n"
      ]
    },
    {
      "cell_type": "markdown",
      "metadata": {
        "id": "PyPQ0jtNdjPS"
      },
      "source": [
        "## Plotting data\n",
        "\n",
        "```\n",
        "# This is formatted as code\n",
        "```\n",
        "\n"
      ]
    },
    {
      "cell_type": "code",
      "execution_count": null,
      "metadata": {
        "id": "zddSYa4dHrW1"
      },
      "outputs": [],
      "source": [
        "# pseudo-labels: gpt\n",
        "# ground truth: GT_labels\n",
        "\n",
        "\n",
        "fit = umap.UMAP()\n",
        "\n",
        "\n",
        "umap_trans = fit.fit([list(v) for v in GT_labels['embeddings'].values])\n",
        "umap_gt_embed = umap_trans.transform([list(v) for v in GT_labels['embeddings'].values])\n",
        "\n",
        "#umap_pseudo_embed = umap_trans.transform([list(v) for v in gpt['embeddings'].values])\n",
        "\n"
      ]
    },
    {
      "cell_type": "code",
      "execution_count": null,
      "metadata": {
        "colab": {
          "base_uri": "https://localhost:8080/",
          "height": 422
        },
        "id": "GZ3ZgLtS7Mrq",
        "outputId": "e84d8383-9acb-45d8-c0b6-7546034810b9"
      },
      "outputs": [
        {
          "output_type": "display_data",
          "data": {
            "text/plain": [
              "<Figure size 500x500 with 1 Axes>"
            ],
            "image/png": "[encoded data removed]"
          },
          "metadata": {}
        }
      ],
      "source": [
        "GT_labels['umap_x'] = umap_gt_embed[:,0]\n",
        "GT_labels['umap_y'] = umap_gt_embed[:,1]\n",
        "\n",
        "#gpt['umap_x'] = umap_pseudo_embed[:,0]\n",
        "#gpt['umap_y'] = umap_pseudo_embed[:,1]\n",
        "\n",
        "\n",
        "fig,ax = plt.subplots(1,1,figsize=(5,5))\n",
        "\n",
        "sns.scatterplot(data = GT_labels.loc[GT_labels['hazard']>=0.5],x='umap_x',y='umap_y',color='orange',alpha=0.3,marker='o',ax=ax,label='GT Hazard')\n",
        "sns.scatterplot(data =GT_labels.loc[GT_labels['hazard']<0.5],x='umap_x',y='umap_y',color='blue',alpha=0.3,marker='s',ax=ax,label='GT Not Hazard')\n",
        "plt.legend()\n",
        "plt.axis('off')\n",
        "plt.show()\n",
        "\n",
        "#fig,ax = plt.subplots(1,1,figsize=(5,5))\n",
        "#sns.scatterplot(data = gpt.loc[gpt['hazard']>=0.5],x='umap_x',y='umap_y',color='orange',alpha=0.6,s=13,marker='o',ax=ax,label='Pseduo-Label Hazard')\n",
        "#sns.scatterplot(data =gpt.loc[gpt['hazard']<0.5],x='umap_x',y='umap_y',color='blue',alpha=0.1,s=13,marker='s',ax=ax,label='Pseduo-Label Not Hazard')\n",
        "\n",
        "#plt.legend()\n",
        "#plt.axis('off')\n",
        "#plt.show()"
      ]
    },
    {
      "cell_type": "markdown",
      "metadata": {
        "id": "4O8k0WBoeR8S"
      },
      "source": [
        "## Training model"
      ]
    },
    {
      "cell_type": "markdown",
      "metadata": {
        "id": "NPa9ZYErKQts"
      },
      "source": [
        "### hyperparameter tuning"
      ]
    },
    {
      "cell_type": "code",
      "execution_count": null,
      "metadata": {
        "colab": {
          "base_uri": "https://localhost:8080/"
        },
        "id": "7dzQ_CcND8kg",
        "outputId": "0ad69c4d-cbc3-495b-f558-34ebc7b99a2c"
      },
      "outputs": [
        {
          "output_type": "stream",
          "name": "stdout",
          "text": [
            "1338\n",
            "1338\n",
            "1338\n",
            "1338\n"
          ]
        }
      ],
      "source": [
        "# GPT 3.5 & 4.0 as of April 14, 2023\n",
        "gt_data = GT_labels.sample(frac=1)\n",
        "gpt_file = 'gpt35_qualtrics-prompt_responses.csv'#'gpt35_alt-prompt_responses.csv'\n",
        "gpt_labels = pd.read_csv(gpt_file)\n",
        "print(len(gpt_labels))\n",
        "gpt_texts = set(gpt_labels['text'].values.tolist())\n",
        "response_gpt_labels = gpt_labels.groupby('text')\n",
        "gpt_pred = []\n",
        "for text in gt_data['old_text'].values:\n",
        "    #text = GT_labels.loc[[(v==[embed]).all() for v in GT_labels['embeddings']],'old_text'].values[0]\n",
        "    #if 'Ethiopian' in text:\n",
        "    #  print(text)\n",
        "    label = 0\n",
        "    if text in gpt_texts:\n",
        "        response = response_gpt_labels.get_group(text)['responses'].values[0]\n",
        "        if 'Yes' in response[:4]:\n",
        "            label = 1\n",
        "\n",
        "        elif 'No' in response[:4]:\n",
        "            label = 0\n",
        "    else:\n",
        "      print('error')\n",
        "    gpt_pred.append(label)\n",
        "gt_data['gpt_pred'] = gpt_pred\n",
        "\n",
        "gpt_file = 'gpt4_responses.csv'\n",
        "gpt_labels = pd.read_csv(gpt_file)\n",
        "print(len(gpt_labels))\n",
        "gpt_texts = set(gpt_labels['text'].values.tolist())\n",
        "response_gpt_labels = gpt_labels.groupby('text')\n",
        "\n",
        "gpt_pred = []\n",
        "for text in gt_data['old_text'].values:\n",
        "    #text = GT_labels.loc[[(v==[embed]).all() for v in GT_labels['embeddings']],'old_text'].values[0]\n",
        "    #if 'Ethiopian' in text:\n",
        "    #  print(text)\n",
        "    label = 0\n",
        "    if text in gpt_texts:\n",
        "        response = response_gpt_labels.get_group(text)['responses'].values[0]\n",
        "        if 'Yes' in response[:4]:\n",
        "            label = 1\n",
        "\n",
        "        elif 'No' in response[:4]:\n",
        "            label = 0\n",
        "    else:\n",
        "      print('error')\n",
        "    gpt_pred.append(label)\n",
        "gt_data['gpt4_pred'] = gpt_pred\n",
        "\n",
        "gpt_file = 'gpt35_cons_qualtrics-prompt_responses.csv'\n",
        "gpt_labels = pd.read_csv(gpt_file)\n",
        "print(len(gpt_labels))\n",
        "gpt_texts = set(gpt_labels['text'].values.tolist())\n",
        "response_gpt_labels = gpt_labels.groupby('text')\n",
        "gpt_pred = []\n",
        "for text in gt_data['old_text'].values:\n",
        "    #text = GT_labels.loc[[(v==[embed]).all() for v in GT_labels['embeddings']],'old_text'].values[0]\n",
        "    #if 'Ethiopian' in text:\n",
        "    #  print(text)\n",
        "    label = 0\n",
        "    if text in gpt_texts:\n",
        "        response = response_gpt_labels.get_group(text)['responses'].values[0]\n",
        "        if 'Yes' in response[:4]:\n",
        "            label = 1\n",
        "\n",
        "        elif 'No' in response[:4]:\n",
        "            label = 0\n",
        "    else:\n",
        "      print('error')\n",
        "    gpt_pred.append(label)\n",
        "gt_data['gpt_soc_pred'] = gpt_pred\n",
        "\n",
        "gpt_file = 'gpt35_lib_qualtrics-prompt_responses.csv'\n",
        "gpt_labels = pd.read_csv(gpt_file)\n",
        "print(len(gpt_labels))\n",
        "gpt_texts = set(gpt_labels['text'].values.tolist())\n",
        "response_gpt_labels = gpt_labels.groupby('text')\n",
        "gpt_pred = []\n",
        "for text in gt_data['old_text'].values:\n",
        "    #text = GT_labels.loc[[(v==[embed]).all() for v in GT_labels['embeddings']],'old_text'].values[0]\n",
        "    #if 'Ethiopian' in text:\n",
        "    #  print(text)\n",
        "    label = 0\n",
        "    if text in gpt_texts:\n",
        "        response = response_gpt_labels.get_group(text)['responses'].values[0]\n",
        "        if 'Yes' in response[:4]:\n",
        "            label = 1\n",
        "\n",
        "        elif 'No' in response[:4]:\n",
        "            label = 0\n",
        "    else:\n",
        "      print('error')\n",
        "    gpt_pred.append(label)\n",
        "gt_data['gpt_lib_pred'] = gpt_pred\n",
        "\n",
        "gt_xy =gt_data[['embeddings','hazard','gpt_pred','gpt_soc_pred','gpt4_pred','gpt_lib_pred']].replace([None],np.nan).dropna()\n",
        "\n",
        "#pseudo_label_data = gpt.sample(frac=1)[['embeddings','hazard']].replace([None],np.nan).dropna()\n",
        "X = np.array([v.astype('float32') for v in gt_xy['embeddings'].values])\n",
        "y = np.array([[round(l),gp,gps,gpt4,gptl] for l,gp,gps,gpt4,gptl in gt_xy[['hazard','gpt_pred','gpt_soc_pred','gpt4_pred','gpt_lib_pred']].values])\n",
        "\n",
        "#X_pseudo = np.array([e.astype('float32') for e in pseudo_label_data['embeddings'].values])\n",
        "#y_pseudo = np.array([round(l) for l in pseudo_label_data['hazard'].values])\n",
        "\n"
      ]
    },
    {
      "cell_type": "code",
      "execution_count": null,
      "metadata": {
        "colab": {
          "base_uri": "https://localhost:8080/",
          "height": 750
        },
        "id": "4toRoJN_FWqW",
        "outputId": "fa708f00-ab48-46e0-bc55-413ccc819eb6"
      },
      "outputs": [
        {
          "output_type": "stream",
          "name": "stderr",
          "text": [
            "WARNING:matplotlib.font_manager:findfont: Font family 'Arial' not found.\n",
            "WARNING:matplotlib.font_manager:findfont: Font family 'Arial' not found.\n",
            "WARNING:matplotlib.font_manager:findfont: Font family 'Arial' not found.\n",
            "WARNING:matplotlib.font_manager:findfont: Font family 'Arial' not found.\n",
            "WARNING:matplotlib.font_manager:findfont: Font family 'Arial' not found.\n",
            "WARNING:matplotlib.font_manager:findfont: Font family 'Arial' not found.\n",
            "WARNING:matplotlib.font_manager:findfont: Font family 'Arial' not found.\n",
            "WARNING:matplotlib.font_manager:findfont: Font family 'Arial' not found.\n",
            "WARNING:matplotlib.font_manager:findfont: Font family 'Arial' not found.\n",
            "WARNING:matplotlib.font_manager:findfont: Font family 'Arial' not found.\n",
            "WARNING:matplotlib.font_manager:findfont: Font family 'Arial' not found.\n"
          ]
        },
        {
          "output_type": "display_data",
          "data": {
            "text/plain": [
              "<Figure size 600x600 with 1 Axes>"
            ],
            "image/png": "[encoded data removed]"
          },
          "metadata": {}
        },
        {
          "output_type": "stream",
          "name": "stdout",
          "text": [
            "[0.0, 0.0]\n"
          ]
        }
      ],
      "source": [
        "\n",
        "matplotlib.rcParams.update({'font.size': 15})\n",
        "labelfonts = {'fontname':'Arial','fontsize':15}\n",
        "#num_agree = np.array(gpt_soc_labels['gpt_pred'].values==gpt_labels['gpt_pred'].values).astype(int).mean()\n",
        "#tot_num = len(gpt_soc_labels)\n",
        "\n",
        "#print(num_agree/tot_num)\n",
        "#num_agree = np.array(gpt_soc_labels['text'].values==gpt_labels['text'].values).astype(int).mean()\n",
        "#print(num_agree/tot_num)\n",
        "#print(pd.merge(gpt_labels,gpt_soc_labels,on='text')[['gpt_pred','gpt_soc_pred']])\n",
        "#preds = pd.merge(gpt_labels,gpt_soc_labels,on='text')\n",
        "\n",
        "#print((preds['gpt_pred']==preds['gpt_soc_pred']).values.astype(int).mean())\n",
        "\n",
        "fig,ax = plt.subplots(1,1,figsize=(6,6))\n",
        "\n",
        "not_hazard = gt_data.loc[gt_data['hazard']<0.5,'gpt_soc_pred'].values.mean()\n",
        "not_hazard_error = gt_data.loc[gt_data['hazard']<0.5,'gpt_soc_pred'].values.std()/np.sqrt(len(gt_data.loc[gt_data['hazard']<0.5]))\n",
        "\n",
        "hazard = gt_data.loc[gt_data['hazard']>=0.5,'gpt_soc_pred'].values.mean()\n",
        "hazard_error = gt_data.loc[gt_data['hazard']>=0.5,'gpt_soc_pred'].values.std()/np.sqrt(len(gt_data.loc[gt_data['hazard']>=0.5]))\n",
        "\n",
        "plt.bar([0,3],[not_hazard*100,hazard*100],label='Social Conserv. Prompt',color='r',alpha=0.4)\n",
        "plt.errorbar([0,3],[not_hazard*100,hazard*100],yerr=[not_hazard_error*100,hazard_error*100],color='k',linestyle='')\n",
        "\n",
        "\n",
        "\n",
        "not_hazard = gt_data.loc[gt_data['hazard']<0.5,'gpt_pred'].values.mean()\n",
        "not_hazard_error = gt_data.loc[gt_data['hazard']<0.5,'gpt_pred'].values.std()/np.sqrt(len(gt_data.loc[gt_data['hazard']<0.5]))\n",
        "hazard = gt_data.loc[gt_data['hazard']>=0.5,'gpt_pred'].values.mean()\n",
        "hazard_error = gt_data.loc[gt_data['hazard']>=0.5,'gpt_pred'].values.std()/np.sqrt(len(gt_data.loc[gt_data['hazard']>=0.5]))\n",
        "plt.bar([1,4],[not_hazard*100,hazard*100],label='Regular GPT',color='gray',alpha=0.5)\n",
        "plt.errorbar([1,4],[not_hazard*100,hazard*100],yerr=[not_hazard_error*100,hazard_error*100],color='k',linestyle='')\n",
        "\n",
        "not_hazard = gt_data.loc[gt_data['hazard']<0.5,'gpt_lib_pred'].values.mean()\n",
        "not_hazard_error = gt_data.loc[gt_data['hazard']<0.5,'gpt_lib_pred'].values.std()/np.sqrt(len(gt_data.loc[gt_data['hazard']<0.5]))\n",
        "hazard = gt_data.loc[gt_data['hazard']>=0.5,'gpt_lib_pred'].values.mean()\n",
        "hazard_error = gt_data.loc[gt_data['hazard']>=0.5,'gpt_lib_pred'].values.std()/np.sqrt(len(gt_data.loc[gt_data['hazard']>=0.5]))\n",
        "plt.bar([2,5],[not_hazard*100,hazard*100],label='Liberal Prompt',color='c',alpha=1)\n",
        "plt.errorbar([2,5],[not_hazard*100,hazard*100],yerr=[not_hazard_error*100,hazard_error*100],color='k',linestyle='')\n",
        "\n",
        "\n",
        "plt.legend(fontsize=13,loc='upper left')\n",
        "plt.xticks([1,4],['True Non-Hazard','True Hazard'],**labelfonts)\n",
        "plt.ylabel('% Tweets Predicted Hazard',**labelfonts)\n",
        "plt.ylim([0,60])\n",
        "plt.show()\n",
        "\n",
        "\n",
        "ttest_non_hazard = ttest_ind(gt_data.loc[gt_data['hazard']<0.5,'gpt_soc_pred'].values,gt_data.loc[gt_data['hazard']<0.5,'gpt_pred'].values)\n",
        "\n",
        "ttest_hazard = ttest_ind(gt_data.loc[gt_data['hazard']>=0.5,'gpt_soc_pred'].values,gt_data.loc[gt_data['hazard']>=0.5,'gpt_pred'].values)\n",
        "print([round(ttest_non_hazard.pvalue,4),round(ttest_hazard.pvalue,4)])"
      ]
    },
    {
      "cell_type": "code",
      "execution_count": null,
      "metadata": {
        "id": "-Rh7fWMGKS50"
      },
      "outputs": [],
      "source": [
        "\n",
        "# Reset index\n",
        "# Model #Avoid overfitting using dropout layers, batch normalization, feature normalization, regularization, and leaky relu/elu\n",
        "embedding_dim = 768\n",
        "\n",
        "metrics = {'NN_auc':[],'NN_f1':[],'RF_auc':[],'RF_f1':[],'SVM_auc':[],'SVM_f1':[],'XGB_auc':[],'XGB_f1':[],'gpt_auc':[],'gpt_f1':[],'base_f1':[]}\n",
        "metrics = {'gpt_auc':[],'gpt_f1':[],'gpt_soc_auc':[],'gpt_soc_f1':[],'gpt_lib_auc':[],'gpt_lib_f1':[],'gpt4_auc':[],'gpt4_f1':[]}\n",
        "for ii in range(50):\n",
        "    X_train, X_test, y_train, y_test = train_test_split(X, y,train_size=0.9, random_state=ii)\n",
        "    y_train = y_train[:,0].round()\n",
        "    gpt_p = y_test[:,1]\n",
        "    gpt_s_p = y_test[:,2]\n",
        "    gpt4_p = y_test[:,3]\n",
        "    gptl_p = y_test[:,4]\n",
        "    y_test = y_test[:,0].round()\n",
        "    auc = roc_auc_score(y_test, gpt_p)\n",
        "    f1=f1_score(y_test, gpt_p)\n",
        "    metrics['gpt_auc'].append(auc)\n",
        "    metrics['gpt_f1'].append(f1)\n",
        "    auc = roc_auc_score(y_test, gpt_s_p)\n",
        "    f1=f1_score(y_test, gpt_s_p)\n",
        "    metrics['gpt_soc_auc'].append(auc)\n",
        "    metrics['gpt_soc_f1'].append(f1)\n",
        "    auc = roc_auc_score(y_test, gpt4_p)\n",
        "    f1=f1_score(y_test, gpt4_p)\n",
        "    metrics['gpt4_auc'].append(auc)\n",
        "    metrics['gpt4_f1'].append(f1)\n",
        "    auc = roc_auc_score(y_test, gptl_p)\n",
        "    f1=f1_score(y_test, gptl_p)\n",
        "    metrics['gpt_lib_auc'].append(auc)\n",
        "    metrics['gpt_lib_f1'].append(f1)\n",
        "    if False:\n",
        "\n",
        "      embedding_normalizer = Normalization(input_shape=[embedding_dim,], axis=None)\n",
        "      embedding_normalizer.adapt(X_train)\n",
        "      def modeling(l2_lambda=0.001, relu_alpha=0.1, dropout_rate=0.7):\n",
        "          model = Sequential([\n",
        "          embedding_normalizer,\n",
        "          Dense(int(embedding_dim/3),kernel_regularizer=regularizers.l2(l2_lambda)),\n",
        "          LeakyReLU(relu_alpha), #alpha=negative coefficient for the slope\n",
        "          BatchNormalization(),\n",
        "          Dropout(dropout_rate),\n",
        "          Dense(int(embedding_dim/9), kernel_regularizer=regularizers.l2(l2_lambda)),\n",
        "          LeakyReLU(relu_alpha),\n",
        "          BatchNormalization(),\n",
        "          Dropout(dropout_rate),\n",
        "          Dense(int(embedding_dim/27),kernel_regularizer=regularizers.l2(l2_lambda)),\n",
        "          LeakyReLU(relu_alpha),\n",
        "          BatchNormalization(),\n",
        "          Dropout(dropout_rate),\n",
        "          #Dense(int(embedding_dim/16),kernel_regularizer=regularizers.l2(l2_lambda)),\n",
        "          #LeakyReLU(relu_alpha),\n",
        "          #BatchNormalization(),\n",
        "          #Dropout(dropout_rate),\n",
        "          Dense(1, activation=tf.keras.activations.sigmoid)\n",
        "          ])\n",
        "          model.compile(loss='binary_crossentropy',optimizer='adam',metrics=['binary_crossentropy',AUC()])\n",
        "          return model\n",
        "\n",
        "      es = EarlyStopping(monitor='val_loss', mode='min', verbose=1, patience=5) #min_delta=1 #baseline=26\n",
        "\n",
        "\n",
        "      m = modeling()\n",
        "      #history = m.fit(X_pseudo, y_pseudo, validation_split=0.1, epochs=100, batch_size=32, verbose=2,callbacks=[es]) #callbacks=[es])\n",
        "\n",
        "      history = m.fit(X_train, y_train, validation_split=0.1, epochs=100, batch_size=32, verbose=2,callbacks=[es]) #callbacks=[es])\n",
        "      y_pred = m.predict(X_test)\n",
        "      metrics['NN_auc'].append(roc_auc_score(y_test, y_pred))\n",
        "      metrics['NN_f1'].append(f1_score(y_test,y_pred.round()))\n",
        "      #,'RF_auc':[],'RF_f1':[],'SVM_auc':[],'SVM_f1':[],'XGB_auc':[],'XGB_f1':[]}\n",
        "      clf = RandomForestClassifier(max_depth=10, random_state=42)\n",
        "      clf.fit(X_train, y_train)\n",
        "\n",
        "      pred_prob = clf.predict_proba(X_test)[:,1]\n",
        "      pred = clf.predict(X_test)\n",
        "      auc = roc_auc_score(y_test, pred_prob)\n",
        "      f1=f1_score(y_test, pred)\n",
        "      metrics['RF_auc'].append(auc)\n",
        "      metrics['RF_f1'].append(f1)\n",
        "      clf = SVC(probability=True)\n",
        "      clf.fit(X_train, y_train)\n",
        "\n",
        "      pred_prob = clf.predict_proba(X_test)[:,1]\n",
        "      pred = clf.predict(X_test)\n",
        "      auc = roc_auc_score(y_test, pred_prob)\n",
        "      f1=f1_score(y_test, pred)\n",
        "      metrics['SVM_auc'].append(auc)\n",
        "      metrics['SVM_f1'].append(f1)\n",
        "\n",
        "      clf = XGBClassifier()\n",
        "      clf.fit(X_train, y_train)\n",
        "\n",
        "      pred_prob = clf.predict_proba(X_test)[:,1]\n",
        "      auc = roc_auc_score(y_test, pred_prob)\n",
        "\n",
        "      pred = clf.predict(X_test)\n",
        "      f1=f1_score(y_test, pred)\n",
        "      metrics['XGB_auc'].append(auc)\n",
        "      metrics['XGB_f1'].append(f1)\n",
        "\n",
        "\n",
        "\n",
        "\n",
        "\n",
        "      print([auc,f1])\n",
        "\n",
        "      f1_base=f1_score(y_test,[1]*len(y_test))\n",
        "      metrics['base_f1'].append(f1_base)\n",
        "\n",
        "pd.DataFrame(metrics).to_csv('metrics_gpt_vs_gpt_s.csv',index=False)\n",
        "\n",
        "#pd.DataFrame(metrics).to_csv('metrics_gpt.csv',index=False)"
      ]
    },
    {
      "cell_type": "code",
      "source": [],
      "metadata": {
        "id": "wvB0WGP1R6W-"
      },
      "execution_count": null,
      "outputs": []
    },
    {
      "cell_type": "code",
      "source": [
        "metrics = pd.read_csv('metrics_gpt_vs_gpt_s.csv')\n",
        "\n",
        "for col in metrics.columns:\n",
        "  if 'auc' in col:\n",
        "      print([col,round(metrics[col].values.mean(),3),round(metrics[col].values.std(),3)])\n",
        "\n",
        "for col in metrics.columns:\n",
        "  if 'f1' in col:\n",
        "      print([col,round(metrics[col].values.mean(),3),round(metrics[col].values.std(),3)])\n"
      ],
      "metadata": {
        "colab": {
          "base_uri": "https://localhost:8080/"
        },
        "id": "118p5v_TTxEJ",
        "outputId": "60e203d1-1acf-4947-dc98-065c4e0b8849"
      },
      "execution_count": null,
      "outputs": [
        {
          "output_type": "stream",
          "name": "stdout",
          "text": [
            "['gpt_auc', 0.671, 0.038]\n",
            "['gpt_soc_auc', 0.539, 0.025]\n",
            "['gpt_lib_auc', 0.625, 0.041]\n",
            "['gpt4_auc', 0.677, 0.042]\n",
            "['gpt_f1', 0.544, 0.056]\n",
            "['gpt_soc_f1', 0.19, 0.071]\n",
            "['gpt_lib_f1', 0.447, 0.075]\n",
            "['gpt4_f1', 0.555, 0.061]\n"
          ]
        }
      ]
    },
    {
      "cell_type": "code",
      "execution_count": null,
      "metadata": {
        "id": "XNiegHDpCrdV"
      },
      "outputs": [],
      "source": []
    },
    {
      "cell_type": "code",
      "execution_count": null,
      "metadata": {
        "colab": {
          "base_uri": "https://localhost:8080/"
        },
        "id": "PXHJQ6qpM7Zg",
        "outputId": "509c5756-bec6-4689-fa3d-ca3f4ef947d9"
      },
      "outputs": [
        {
          "output_type": "stream",
          "name": "stdout",
          "text": [
            "['NN_auc', 0.723, 0.047]\n",
            "['RF_auc', 0.73, 0.045]\n",
            "['SVM_auc', 0.737, 0.045]\n",
            "['XGB_auc', 0.723, 0.043]\n",
            "['NN_f1', 0.453, 0.077]\n",
            "['RF_f1', 0.214, 0.078]\n",
            "['SVM_f1', 0.409, 0.069]\n",
            "['XGB_f1', 0.434, 0.077]\n",
            "['base_f1', 0.482, 0.042]\n"
          ]
        }
      ],
      "source": [
        "metrics = pd.read_csv('metrics.csv')\n",
        "\n",
        "for col in metrics.columns:\n",
        "  if 'auc' in col:\n",
        "      print([col,round(metrics[col].values.mean(),3),round(metrics[col].values.std(),3)])\n",
        "\n",
        "for col in metrics.columns:\n",
        "  if 'f1' in col:\n",
        "      print([col,round(metrics[col].values.mean(),3),round(metrics[col].values.std(),3)])\n"
      ]
    },
    {
      "cell_type": "code",
      "execution_count": null,
      "metadata": {
        "colab": {
          "base_uri": "https://localhost:8080/"
        },
        "id": "gZOU9_4evqen",
        "outputId": "ea65a3f1-c00c-4af7-bd5a-d3fb162ed8c5"
      },
      "outputs": [
        {
          "output_type": "stream",
          "name": "stdout",
          "text": [
            "['NN_auc', 0.724, 0.04]\n",
            "['RF_auc', 0.716, 0.04]\n",
            "['SVM_auc', 0.719, 0.038]\n",
            "['XGB_auc', 0.704, 0.039]\n",
            "['gpt_auc', 0.679, 0.04]\n",
            "['NN_f1', 0.411, 0.078]\n",
            "['RF_f1', 0.212, 0.07]\n",
            "['SVM_f1', 0.396, 0.064]\n",
            "['XGB_f1', 0.408, 0.075]\n",
            "['gpt_f1', 0.562, 0.056]\n",
            "['base_f1', 0.477, 0.039]\n"
          ]
        }
      ],
      "source": [
        "metrics = pd.read_csv('metrics_gpt.csv')\n",
        "\n",
        "for col in metrics.columns:\n",
        "  if 'auc' in col:\n",
        "      print([col,round(metrics[col].values.mean(),3),round(metrics[col].values.std(),3)])\n",
        "\n",
        "for col in metrics.columns:\n",
        "  if 'f1' in col:\n",
        "      print([col,round(metrics[col].values.mean(),3),round(metrics[col].values.std(),3)])\n"
      ]
    },
    {
      "cell_type": "code",
      "source": [],
      "metadata": {
        "id": "swPcf6-1ZbDV"
      },
      "execution_count": null,
      "outputs": []
    },
    {
      "cell_type": "code",
      "source": [
        "\n",
        "matplotlib.rcParams.update({'font.size': 15})\n",
        "labelfonts = {'fontname':'Arial','fontsize':15}\n",
        "metrics = pd.read_csv('metrics_gpt_vs_gpt_s.csv')\n",
        "aucs={}\n",
        "for col in metrics.columns:\n",
        "  if 'auc' in col:\n",
        "      key = col.replace('gpt','GPT').replace('_soc','-SocCons').replace('_lib','-LibCons')\n",
        "      if key=='GPT_auc':\n",
        "        key='GPT3.5_auc'\n",
        "      if 'Soc' in key:\n",
        "        key = 'GPT3.5-SocCons_auc'\n",
        "      if 'Lib' in key:\n",
        "        key = 'GPT3.5-LibCons_auc'\n",
        "      print(key)\n",
        "      aucs[key]=[round(metrics[col].values.mean(),3),round(metrics[col].values.std(),3),len(metrics[col])]\n",
        "print( aucs)\n",
        "metrics = pd.read_csv('metrics.csv')\n",
        "for col in metrics.columns:\n",
        "  if 'auc' in col:\n",
        "      aucs[col]=[round(metrics[col].values.mean(),3),round(metrics[col].values.std(),3),len(metrics[col])]\n",
        "metrics = pd.read_csv('metrics_gpt.csv')\n",
        "for col in metrics.columns:\n",
        "  if 'NN_auc' in col:\n",
        "      aucs['NN-pre_auc']=[round(metrics[col].values.mean(),3),round(metrics[col].values.std(),3),len(metrics[col])]\n",
        "aucs = pd.DataFrame(aucs)\n",
        "bars = [aucs[c][0] for c in ['GPT3.5_auc','XGB_auc','NN_auc','NN-pre_auc']+sorted(aucs.columns)[6:-1]]#'GPT3.5-SocCons_auc','GPT3.5-LibCons_auc','GPT4_auc',\n",
        "stds = [aucs[c][1] for c in ['GPT3.5_auc','XGB_auc','NN_auc','NN-pre_auc']+sorted(aucs.columns)[6:-1]]\n",
        "\n",
        "ax,fig = plt.subplots(1,1,figsize=(6,6))\n",
        "errors = [aucs[c][1]/np.sqrt(aucs[c][2]) for c in ['GPT3.5_auc','XGB_auc','NN_auc','NN-pre_auc']+sorted(aucs.columns)[6:-1]]# 'GPT3.5-SocCons_auc','GPT3.5-LibCons_auc','GPT4_auc',\n",
        "jet = plt.get_cmap('jet')\n",
        "plt.bar(list(range(len(aucs.columns)))[:-3],bars,color=[jet(i/(len(aucs.columns)-1-3)) for i in range(len(aucs.columns))])\n",
        "plt.errorbar(list(range(len(aucs.columns)))[:-3],bars,yerr=stds,color='gray',linestyle='',linewidth=3,label='St. Dev.')\n",
        "\n",
        "plt.errorbar(list(range(len(aucs.columns)))[:-3],bars,yerr=errors,color='k',linewidth=8,alpha=1,linestyle='',label='St. Errors')\n",
        "plt.xticks(list(range(len(aucs.columns)))[:-3],[c.split('_')[0] for c in ['GPT3.5_auc','XGB_auc','NN_auc','NN-pre_auc']+sorted(aucs.columns)[6:-1]],rotation=60)# 'GPT3.5-SocCons_auc','GPT3.5-LibCons_auc','GPT4_auc',\n",
        "plt.ylabel('ROC-AUC')\n",
        "plt.legend(fontsize=14,loc='upper left')\n",
        "plt.ylim([0.5,0.8])\n",
        "plt.tight_layout()\n",
        "plt.savefig('AUC_comparisons.pdf')\n",
        "plt.show()"
      ],
      "metadata": {
        "colab": {
          "base_uri": "https://localhost:8080/",
          "height": 681
        },
        "id": "xiPEuf6sV3Hw",
        "outputId": "cf3d13d9-cd40-4fba-e395-68b341dfad27"
      },
      "execution_count": null,
      "outputs": [
        {
          "output_type": "stream",
          "name": "stdout",
          "text": [
            "GPT3.5_auc\n",
            "GPT3.5-SocCons_auc\n",
            "GPT3.5-LibCons_auc\n",
            "GPT4_auc\n",
            "{'GPT3.5_auc': [0.671, 0.038, 50], 'GPT3.5-SocCons_auc': [0.539, 0.025, 50], 'GPT3.5-LibCons_auc': [0.625, 0.041, 50], 'GPT4_auc': [0.677, 0.042, 50]}\n"
          ]
        },
        {
          "output_type": "display_data",
          "data": {
            "text/plain": [
              "<Figure size 600x600 with 1 Axes>"
            ],
            "image/png": "[encoded data removed]"
          },
          "metadata": {}
        }
      ]
    },
    {
      "cell_type": "code",
      "execution_count": null,
      "metadata": {
        "id": "AUmNWI0inaZu",
        "colab": {
          "base_uri": "https://localhost:8080/"
        },
        "outputId": "0487bd6b-22a0-477b-8c6f-7e97a596b5de"
      },
      "outputs": [
        {
          "output_type": "execute_result",
          "data": {
            "text/plain": [
              "['GPT3.5-LibCons_auc',\n",
              " 'GPT3.5-SocCons_auc',\n",
              " 'GPT3.5_auc',\n",
              " 'GPT4_auc',\n",
              " 'NN-pre_auc',\n",
              " 'NN_auc',\n",
              " 'RF_auc',\n",
              " 'SVM_auc',\n",
              " 'XGB_auc']"
            ]
          },
          "metadata": {},
          "execution_count": 13
        }
      ],
      "source": [
        "sorted(aucs)\n"
      ]
    },
    {
      "cell_type": "code",
      "execution_count": null,
      "metadata": {
        "id": "yWBt4ILvZOly",
        "colab": {
          "base_uri": "https://localhost:8080/",
          "height": 250
        },
        "outputId": "1ed0e541-71ca-4b22-d656-39391baffac1"
      },
      "outputs": [
        {
          "output_type": "error",
          "ename": "NameError",
          "evalue": "ignored",
          "traceback": [
            "\u001b[0;31m---------------------------------------------------------------------------\u001b[0m",
            "\u001b[0;31mNameError\u001b[0m                                 Traceback (most recent call last)",
            "\u001b[0;32m<ipython-input-19-71b6076e1539>\u001b[0m in \u001b[0;36m<cell line: 2>\u001b[0;34m()\u001b[0m\n\u001b[1;32m      1\u001b[0m \u001b[0;32mimport\u001b[0m \u001b[0mpickle\u001b[0m \u001b[0;32mas\u001b[0m \u001b[0mpk\u001b[0m\u001b[0;34m\u001b[0m\u001b[0;34m\u001b[0m\u001b[0m\n\u001b[0;32m----> 2\u001b[0;31m \u001b[0mgt_data\u001b[0m \u001b[0;34m=\u001b[0m \u001b[0mGT_labels\u001b[0m\u001b[0;34m.\u001b[0m\u001b[0msample\u001b[0m\u001b[0;34m(\u001b[0m\u001b[0mfrac\u001b[0m\u001b[0;34m=\u001b[0m\u001b[0;36m1\u001b[0m\u001b[0;34m)\u001b[0m\u001b[0;34m\u001b[0m\u001b[0;34m\u001b[0m\u001b[0m\n\u001b[0m\u001b[1;32m      3\u001b[0m \u001b[0mgt_xy\u001b[0m \u001b[0;34m=\u001b[0m\u001b[0mgt_data\u001b[0m\u001b[0;34m[\u001b[0m\u001b[0;34m[\u001b[0m\u001b[0;34m'embeddings'\u001b[0m\u001b[0;34m,\u001b[0m\u001b[0;34m'hazard'\u001b[0m\u001b[0;34m]\u001b[0m\u001b[0;34m]\u001b[0m\u001b[0;34m.\u001b[0m\u001b[0mreplace\u001b[0m\u001b[0;34m(\u001b[0m\u001b[0;34m[\u001b[0m\u001b[0;32mNone\u001b[0m\u001b[0;34m]\u001b[0m\u001b[0;34m,\u001b[0m\u001b[0mnp\u001b[0m\u001b[0;34m.\u001b[0m\u001b[0mnan\u001b[0m\u001b[0;34m)\u001b[0m\u001b[0;34m.\u001b[0m\u001b[0mdropna\u001b[0m\u001b[0;34m(\u001b[0m\u001b[0;34m)\u001b[0m\u001b[0;34m\u001b[0m\u001b[0;34m\u001b[0m\u001b[0m\n\u001b[1;32m      4\u001b[0m \u001b[0mX\u001b[0m \u001b[0;34m=\u001b[0m \u001b[0mnp\u001b[0m\u001b[0;34m.\u001b[0m\u001b[0marray\u001b[0m\u001b[0;34m(\u001b[0m\u001b[0;34m[\u001b[0m\u001b[0mv\u001b[0m\u001b[0;34m.\u001b[0m\u001b[0mastype\u001b[0m\u001b[0;34m(\u001b[0m\u001b[0;34m'float32'\u001b[0m\u001b[0;34m)\u001b[0m \u001b[0;32mfor\u001b[0m \u001b[0mv\u001b[0m \u001b[0;32min\u001b[0m \u001b[0mgt_xy\u001b[0m\u001b[0;34m[\u001b[0m\u001b[0;34m'embeddings'\u001b[0m\u001b[0;34m]\u001b[0m\u001b[0;34m.\u001b[0m\u001b[0mvalues\u001b[0m\u001b[0;34m]\u001b[0m\u001b[0;34m)\u001b[0m\u001b[0;34m\u001b[0m\u001b[0;34m\u001b[0m\u001b[0m\n\u001b[1;32m      5\u001b[0m \u001b[0my\u001b[0m \u001b[0;34m=\u001b[0m \u001b[0mnp\u001b[0m\u001b[0;34m.\u001b[0m\u001b[0marray\u001b[0m\u001b[0;34m(\u001b[0m\u001b[0;34m[\u001b[0m\u001b[0mround\u001b[0m\u001b[0;34m(\u001b[0m\u001b[0ml\u001b[0m\u001b[0;34m)\u001b[0m \u001b[0;32mfor\u001b[0m \u001b[0ml\u001b[0m \u001b[0;32min\u001b[0m \u001b[0mgt_xy\u001b[0m\u001b[0;34m[\u001b[0m\u001b[0;34m'hazard'\u001b[0m\u001b[0;34m]\u001b[0m\u001b[0;34m.\u001b[0m\u001b[0mvalues\u001b[0m\u001b[0;34m]\u001b[0m\u001b[0;34m)\u001b[0m\u001b[0;34m\u001b[0m\u001b[0;34m\u001b[0m\u001b[0m\n",
            "\u001b[0;31mNameError\u001b[0m: name 'GT_labels' is not defined"
          ]
        }
      ],
      "source": [
        "import pickle as pk\n",
        "gt_data = GT_labels.sample(frac=1)\n",
        "gt_xy =gt_data[['embeddings','hazard']].replace([None],np.nan).dropna()\n",
        "X = np.array([v.astype('float32') for v in gt_xy['embeddings'].values])\n",
        "y = np.array([round(l) for l in gt_xy['hazard'].values])\n",
        "clf = SVC(probability=True)\n",
        "clf.fit(X, y)\n",
        "filename = 'finalized_model_SVM.sav'\n",
        "pk.dump(clf, open(filename, 'wb'))\n",
        "\n",
        "clf = RandomForestClassifier(max_depth=10, random_state=42)\n",
        "clf.fit(X, y)\n",
        "filename = 'finalized_model_RF.sav'\n",
        "pk.dump(clf, open(filename, 'wb'))\n",
        "\n",
        "\n",
        "clf = XGBClassifier()\n",
        "clf.fit(X, y)\n",
        "filename = 'finalized_model_XGB.sav'\n",
        "pk.dump(clf, open(filename, 'wb'))\n",
        "#loaded_model = pickle.load(open(filename, 'rb'))\n",
        "\n",
        "\n",
        "\n",
        "embedding_normalizer = Normalization(input_shape=[embedding_dim,], axis=None)\n",
        "embedding_normalizer.adapt(X)\n",
        "def modeling(l2_lambda=0.001, relu_alpha=0.1, dropout_rate=0.7):\n",
        "    model = Sequential([\n",
        "    embedding_normalizer,\n",
        "    Dense(int(embedding_dim/3),kernel_regularizer=regularizers.l2(l2_lambda)),\n",
        "    LeakyReLU(relu_alpha), #alpha=negative coefficient for the slope\n",
        "    BatchNormalization(),\n",
        "    Dropout(dropout_rate),\n",
        "    Dense(int(embedding_dim/9), kernel_regularizer=regularizers.l2(l2_lambda)),\n",
        "    LeakyReLU(relu_alpha),\n",
        "    BatchNormalization(),\n",
        "    Dropout(dropout_rate),\n",
        "    Dense(int(embedding_dim/27),kernel_regularizer=regularizers.l2(l2_lambda)),\n",
        "    LeakyReLU(relu_alpha),\n",
        "    BatchNormalization(),\n",
        "    Dropout(dropout_rate),\n",
        "    #Dense(int(embedding_dim/16),kernel_regularizer=regularizers.l2(l2_lambda)),\n",
        "    #LeakyReLU(relu_alpha),\n",
        "    #BatchNormalization(),\n",
        "    #Dropout(dropout_rate),\n",
        "    Dense(1, activation=tf.keras.activations.sigmoid)\n",
        "    ])\n",
        "    model.compile(loss='binary_crossentropy',optimizer='adam',metrics=['binary_crossentropy',AUC()])\n",
        "    return model\n",
        "\n",
        "es = EarlyStopping(monitor='val_loss', mode='min', verbose=1, patience=5) #min_delta=1 #baseline=26\n",
        "\n",
        "\n",
        "m = modeling()\n",
        "\n",
        "history = m.fit(X, y, validation_split=0.1, epochs=100, batch_size=32, verbose=2,callbacks=[es]) #callbacks=[es])\n",
        "\n",
        "#m.save('finalized_model_NN.sav')\n",
        "\n",
        "\n"
      ]
    },
    {
      "cell_type": "code",
      "execution_count": null,
      "metadata": {
        "id": "Nd725UC3QI__",
        "colab": {
          "base_uri": "https://localhost:8080/",
          "height": 250
        },
        "outputId": "231efd2c-d685-4d02-96fb-a61ec0866fdf"
      },
      "outputs": [
        {
          "output_type": "error",
          "ename": "NameError",
          "evalue": "ignored",
          "traceback": [
            "\u001b[0;31m---------------------------------------------------------------------------\u001b[0m",
            "\u001b[0;31mNameError\u001b[0m                                 Traceback (most recent call last)",
            "\u001b[0;32m<ipython-input-26-ca785471787d>\u001b[0m in \u001b[0;36m<cell line: 3>\u001b[0;34m()\u001b[0m\n\u001b[1;32m      1\u001b[0m \u001b[0;31m# baselines\u001b[0m\u001b[0;34m\u001b[0m\u001b[0;34m\u001b[0m\u001b[0m\n\u001b[1;32m      2\u001b[0m \u001b[0;34m\u001b[0m\u001b[0m\n\u001b[0;32m----> 3\u001b[0;31m \u001b[0mX_train\u001b[0m\u001b[0;34m,\u001b[0m \u001b[0mX_test\u001b[0m\u001b[0;34m,\u001b[0m \u001b[0my_train\u001b[0m\u001b[0;34m,\u001b[0m \u001b[0my_test\u001b[0m \u001b[0;34m=\u001b[0m \u001b[0mtrain_test_split\u001b[0m\u001b[0;34m(\u001b[0m\u001b[0mX\u001b[0m\u001b[0;34m,\u001b[0m \u001b[0my\u001b[0m\u001b[0;34m,\u001b[0m\u001b[0mtrain_size\u001b[0m\u001b[0;34m=\u001b[0m\u001b[0;36m0.9\u001b[0m\u001b[0;34m,\u001b[0m \u001b[0mrandom_state\u001b[0m\u001b[0;34m=\u001b[0m\u001b[0;36m10\u001b[0m\u001b[0;34m)\u001b[0m\u001b[0;34m\u001b[0m\u001b[0;34m\u001b[0m\u001b[0m\n\u001b[0m\u001b[1;32m      4\u001b[0m \u001b[0;34m\u001b[0m\u001b[0m\n\u001b[1;32m      5\u001b[0m \u001b[0mclf\u001b[0m \u001b[0;34m=\u001b[0m \u001b[0mSVC\u001b[0m\u001b[0;34m(\u001b[0m\u001b[0mprobability\u001b[0m\u001b[0;34m=\u001b[0m\u001b[0;32mTrue\u001b[0m\u001b[0;34m)\u001b[0m\u001b[0;34m\u001b[0m\u001b[0;34m\u001b[0m\u001b[0m\n",
            "\u001b[0;31mNameError\u001b[0m: name 'X' is not defined"
          ]
        }
      ],
      "source": [
        "# baselines\n",
        "\n",
        "X_train, X_test, y_train, y_test = train_test_split(X, y,train_size=0.9, random_state=10)\n",
        "\n",
        "clf = SVC(probability=True)\n",
        "clf.fit(X_train, y_train)\n",
        "\n",
        "preds = clf.predict_proba(X_test)[:,1]\n",
        "conf=np.arange(0,1.1,0.1)\n",
        "mean_conf = (conf[:-1]+conf[1:])/2\n",
        "print(mean_conf)\n",
        "neg_cases = [len(y_test[(preds>c1) & (preds<=c2)]) - np.sum(y_test[(preds>c1) & (preds<=c2)]) for c1,c2 in zip(conf[:-1],conf[1:])]\n",
        "pos_cases = [np.sum(y_test[(preds>c1) & (preds<=c2)]) for c1,c2 in zip(conf[:-1],conf[1:])]\n",
        "\n",
        "interval = []\n",
        "expectation = []\n",
        "confidence=0.95\n",
        "for a,b in zip(pos_cases,neg_cases):\n",
        "    interval.append(beta.interval(confidence, a+1, b+1)) # add 1 for uniformprior\n",
        "    expectation.append(a/(a+b))\n",
        "interval = np.array(interval)\n",
        "plt.subplots(1,1,figsize=(6,6))\n",
        "plt.plot(mean_conf,expectation,'sr-')\n",
        "plt.plot([0,1],[0,1],'k--')\n",
        "plt.fill_between(mean_conf,interval[:,1],interval[:,0],color='r',alpha=0.1)\n",
        "plt.xlabel('Confidence')\n",
        "plt.ylabel('Fraction positive')\n",
        "plt.xlim([0,1])\n",
        "plt.ylim([0,1])\n",
        "plt.show()"
      ]
    },
    {
      "cell_type": "code",
      "source": [
        "\n",
        "\n"
      ],
      "metadata": {
        "id": "g4-AOMDUbxgH"
      },
      "execution_count": null,
      "outputs": []
    },
    {
      "cell_type": "code",
      "execution_count": null,
      "metadata": {
        "id": "QsVyw1mGTMPw"
      },
      "outputs": [],
      "source": [
        "data = pd.read_csv('urbanlegend_dataset_CODER#S.csv')\n",
        "data.columns = ['number','hazard','hazard_aspect','hazard_central','hazard_severe','hazard_overcome','benefit','benefit_aspect','benefit_central','benefit_severe','benefit_obtain','coder']\n",
        "cleaned_data = data[['number','hazard','hazard_severe','benefit','benefit_severe']].replace('Y',1).replace('N',0).replace('S',1).replace('M',0)\n",
        "cleaned_data['hazard_severe'] = cleaned_data['hazard_severe'].fillna(0)\n",
        "cleaned_data['benefit_severe'] = cleaned_data['benefit_severe'].fillna(0)\n",
        "cleaned_data = cleaned_data.dropna()\n",
        "labeled_data = pd.read_excel('Urban Legend Data_ 2022 Snopes, Encyclopedia & 2014.xlsx',sheet_name='2014 Data')\n",
        "#labeled_data = pd.read_csv('2014_labeled_data.csv')\n",
        "titles = labeled_data['Title'].drop_duplicates()\n",
        "\n",
        "title2num = {t:ii+1 for ii,t in enumerate(titles)}\n",
        "number=[title2num[t] for t in labeled_data['Title'].values]\n",
        "labeled_data['number']= number\n",
        "num_cleaned_data = cleaned_data.groupby('number')\n",
        "mean_hazard = {}\n",
        "for number in cleaned_data['number'].drop_duplicates():\n",
        "  h= cleaned_data.loc[cleaned_data['number']==number,'hazard'].values.mean()\n",
        "  mean_hazard[number] = h\n",
        "\n",
        "hazard_label = []\n",
        "for n,line in labeled_data.iterrows():\n",
        "  hazard_label.append(mean_hazard[line['number']])\n",
        "labeled_data['hazard'] = np.array(hazard_label).round()\n",
        "labeled_data['mean_hazard'] = np.array(hazard_label)\n",
        "labeled_data=pd.merge(left=pd.read_csv('2014_labeled_data.csv')[['Example','summary']],right=labeled_data,on='Example')"
      ]
    },
    {
      "cell_type": "code",
      "execution_count": null,
      "metadata": {
        "id": "rK79EnB8L8mZ"
      },
      "outputs": [],
      "source": [
        "embedding_dim = 768\n",
        "#loaded_model = pk.load(open(filename, 'rb'))\n",
        "embed_model = SentenceTransformer('stsb-xlm-r-multilingual')#'all-mpnet-base-v2')\n",
        "#labeled_data['']\n",
        "embeddings = embed_model.encode(labeled_data['summary'].values.astype(str))\n",
        "from tensorflow import keras\n",
        "\n",
        "#filename = 'finalized_model.sav'\n",
        "#loaded_model = pk.load(open(filename, 'rb'))\n",
        "\n",
        "X = embeddings\n",
        "y = labeled_data['hazard'].values\n",
        "num = labeled_data['number'].values\n",
        "metrics = {'SVM_pre_f1':[],'SVM_pre_auc':[],'SVM_f1':[],'SVM_auc':[],'RF_pre_f1':[],'RF_pre_auc':[],'RF_f1':[],'RF_auc':[],'XGB_pre_f1':[],'XGB_pre_auc':[],'XGB_f1':[],'XGB_auc':[],'NN_pre_f1':[],'NN_pre_auc':[],'NN_f1':[],'NN_auc':[],'base_f1':[]}\n",
        "for i in range(50):\n",
        "\n",
        "\n",
        "  num_list = list(np.unique(num))\n",
        "  random.shuffle(num_list)\n",
        "  train_ind = np.where(np.in1d(num, num_list[:190]))[0]\n",
        "  test_ind = np.where(np.in1d(num, num_list[190:]))[0]\n",
        "  #print(set(list(test_ind)).intersection(set(list(train_ind))))\n",
        "  # 80% training, 20% testing\n",
        "  X_train = X[train_ind]\n",
        "  y_train = y[train_ind].round()\n",
        "  X_test = X[test_ind]\n",
        "  y_test = y[test_ind].round()\n",
        "\n",
        "  filename = 'finalized_model_SVM.sav'\n",
        "  loaded_model = pk.load(open(filename, 'rb'))\n",
        "  f1 = f1_score(y_test,loaded_model.predict(X_test))\n",
        "  auc = roc_auc_score(y_test,loaded_model.predict_proba(X_test)[:,1])\n",
        "  metrics['SVM_pre_f1'].append(f1)\n",
        "  metrics['SVM_pre_auc'].append(auc)\n",
        "  loaded_model.fit(X_train,y_train)\n",
        "  new_preds = loaded_model.predict_proba(X_test)[:,1]\n",
        "  f1 = f1_score(y_test,new_preds.round())\n",
        "  auc = roc_auc_score(y_test,new_preds)\n",
        "  print(auc)\n",
        "  metrics['SVM_f1'].append(f1)\n",
        "  metrics['SVM_auc'].append(auc)\n",
        "\n",
        "  filename = 'finalized_model_RF.sav'\n",
        "  loaded_model = pk.load(open(filename, 'rb'))\n",
        "  f1 = f1_score(y_test,loaded_model.predict(X_test))\n",
        "  auc = roc_auc_score(y_test,loaded_model.predict_proba(X_test)[:,1])\n",
        "  metrics['RF_pre_f1'].append(f1)\n",
        "  metrics['RF_pre_auc'].append(auc)\n",
        "  loaded_model.fit(X_train,y_train)\n",
        "  new_preds = loaded_model.predict_proba(X_test)[:,1]\n",
        "  f1 = f1_score(y_test,new_preds.round())\n",
        "  auc = roc_auc_score(y_test.round(),new_preds)\n",
        "  print(auc)\n",
        "  metrics['RF_f1'].append(f1)\n",
        "  metrics['RF_auc'].append(auc)\n",
        "\n",
        "  filename = 'finalized_model_XGB.sav'\n",
        "  loaded_model = pk.load(open(filename, 'rb'))\n",
        "  f1 = f1_score(y_test,loaded_model.predict(X_test))\n",
        "  auc = roc_auc_score(y_test,loaded_model.predict_proba(X_test)[:,1])\n",
        "  metrics['XGB_pre_f1'].append(f1)\n",
        "  metrics['XGB_pre_auc'].append(auc)\n",
        "  loaded_model.fit(X_train,y_train)\n",
        "  new_preds = loaded_model.predict_proba(X_test)[:,1]\n",
        "  f1 = f1_score(y_test,new_preds.round())\n",
        "  auc = roc_auc_score(y_test,new_preds)\n",
        "  print(auc)\n",
        "  metrics['XGB_f1'].append(f1)\n",
        "  metrics['XGB_auc'].append(auc)\n",
        "\n",
        "  loaded_model = keras.models.load_model('finalized_model_NN.sav')\n",
        "  embedding_normalizer = Normalization(input_shape=[embedding_dim,], axis=None)\n",
        "  embedding_normalizer.adapt(X_train)\n",
        "  def modeling(l2_lambda=0.001, relu_alpha=0.1, dropout_rate=0.7):\n",
        "      model = Sequential([\n",
        "      embedding_normalizer,\n",
        "      Dense(int(embedding_dim/3),kernel_regularizer=regularizers.l2(l2_lambda)),\n",
        "      LeakyReLU(relu_alpha), #alpha=negative coefficient for the slope\n",
        "      BatchNormalization(),\n",
        "      Dropout(dropout_rate),\n",
        "      Dense(int(embedding_dim/9), kernel_regularizer=regularizers.l2(l2_lambda)),\n",
        "      LeakyReLU(relu_alpha),\n",
        "      BatchNormalization(),\n",
        "      Dropout(dropout_rate),\n",
        "      Dense(int(embedding_dim/27),kernel_regularizer=regularizers.l2(l2_lambda)),\n",
        "      LeakyReLU(relu_alpha),\n",
        "      BatchNormalization(),\n",
        "      Dropout(dropout_rate),\n",
        "      #Dense(int(embedding_dim/16),kernel_regularizer=regularizers.l2(l2_lambda)),\n",
        "      #LeakyReLU(relu_alpha),\n",
        "      #BatchNormalization(),\n",
        "      #Dropout(dropout_rate),\n",
        "      Dense(1, activation=tf.keras.activations.sigmoid)\n",
        "      ])\n",
        "      model.compile(loss='binary_crossentropy',optimizer='adam',metrics=['binary_crossentropy',AUC()])\n",
        "      return model\n",
        "\n",
        "  es = EarlyStopping(monitor='val_loss', mode='min', verbose=1, patience=5) #min_delta=1 #baseline=26\n",
        "  y_pred = loaded_model.predict(X_test)\n",
        "  metrics['NN_pre_auc'].append(roc_auc_score(y_test, y_pred))\n",
        "  metrics['NN_pre_f1'].append(f1_score(y_test,y_pred.round()))\n",
        "  history = loaded_model.fit(X_train, y_train, validation_split=0.1, epochs=100, batch_size=32, verbose=2,callbacks=[es]) #callbacks=[es])\n",
        "  y_pred = loaded_model.predict(X_test)\n",
        "  metrics['NN_auc'].append(roc_auc_score(y_test, y_pred))\n",
        "  metrics['NN_f1'].append(f1_score(y_test,y_pred.round()))\n",
        "\n",
        "  f1_base=f1_score(y_test,[1]*len(y_test))\n",
        "  metrics['base_f1'].append(f1_base)\n",
        "\n",
        "pd.DataFrame(metrics).to_csv('UL_metrics.csv',index=False)\n",
        "\n",
        "\n",
        "embedding_dim = 768\n",
        "#loaded_model = pk.load(open(filename, 'rb'))\n",
        "embed_model = SentenceTransformer('stsb-xlm-r-multilingual')#'all-mpnet-base-v2')\n",
        "#labeled_data['']\n",
        "embeddings = embed_model.encode(labeled_data['summary'].values.astype(str))\n",
        "from tensorflow import keras\n",
        "\n",
        "#embed_model = SentenceTransformer('all-mpnet-base-v2')\n",
        "#labeled_data['']\n",
        "#embeddings = embed_model.encode(labeled_data['Claim'].values.astype(str))\n",
        "X = embeddings\n",
        "y = labeled_data['hazard'].values.round()\n",
        "\n",
        "model = keras.models.load_model('finalized_model_NN.sav')\n",
        "embedding_normalizer = Normalization(input_shape=[embedding_dim,], axis=None)\n",
        "embedding_normalizer.adapt(X)\n",
        "def modeling(l2_lambda=0.001, relu_alpha=0.1, dropout_rate=0.7):\n",
        "    model = Sequential([\n",
        "    embedding_normalizer,\n",
        "    Dense(int(embedding_dim/3),kernel_regularizer=regularizers.l2(l2_lambda)),\n",
        "    LeakyReLU(relu_alpha), #alpha=negative coefficient for the slope\n",
        "    BatchNormalization(),\n",
        "    Dropout(dropout_rate),\n",
        "    Dense(int(embedding_dim/9), kernel_regularizer=regularizers.l2(l2_lambda)),\n",
        "    LeakyReLU(relu_alpha),\n",
        "    BatchNormalization(),\n",
        "    Dropout(dropout_rate),\n",
        "    Dense(int(embedding_dim/27),kernel_regularizer=regularizers.l2(l2_lambda)),\n",
        "    LeakyReLU(relu_alpha),\n",
        "    BatchNormalization(),\n",
        "    Dropout(dropout_rate),\n",
        "    #Dense(int(embedding_dim/16),kernel_regularizer=regularizers.l2(l2_lambda)),\n",
        "    #LeakyReLU(relu_alpha),\n",
        "    #BatchNormalization(),\n",
        "    #Dropout(dropout_rate),\n",
        "    Dense(1, activation=tf.keras.activations.sigmoid)\n",
        "    ])\n",
        "    model.compile(loss='binary_crossentropy',optimizer='adam',metrics=['binary_crossentropy',AUC()])\n",
        "    return model\n",
        "\n",
        "es = EarlyStopping(monitor='val_loss', mode='min', verbose=1, patience=5) #min_delta=1 #baseline=26\n",
        "history = model.fit(X, y, validation_split=0.1, epochs=100, batch_size=32, verbose=2,callbacks=[es]) #callbacks=[es])\n",
        "\n",
        "\n",
        "model.save('finalized_model_NN_UL.sav')\n",
        "\n",
        "\n"
      ]
    },
    {
      "cell_type": "code",
      "source": [
        "clf = pk.load(open('finalized_model_SVM.sav','rb'))#SVC(probability=True)\n",
        "clf.fit(X, y)\n",
        "filename = 'finalized_model_SVM_UL.sav'\n",
        "pk.dump(clf, open(filename, 'wb'))\n",
        "\n",
        "labeled_data['summary_embedding'] = [e for e in X]\n",
        "labeled_data.to_csv('Cleaned_2014_data.csv',index=False)"
      ],
      "metadata": {
        "id": "5Yq9CZGVW1qe"
      },
      "execution_count": null,
      "outputs": []
    },
    {
      "cell_type": "code",
      "source": [
        "\n",
        "matplotlib.rcParams.update({'font.size': 15})\n",
        "labelfonts = {'fontname':'Arial','fontsize':15}\n",
        "metrics = pd.read_csv('UL_metrics.csv')\n",
        "aucs = {}\n",
        "for col in metrics.columns:\n",
        "  if 'auc' in col:\n",
        "      key = col.replace('_pre','-pre')\n",
        "      aucs[key]=[round(metrics[col].values.mean(),3),round(metrics[col].values.std(),3),len(metrics[col])]\n",
        "aucs = pd.DataFrame(aucs)\n",
        "bars = [aucs[c][0] for c in sorted(aucs.columns)]\n",
        "stds = [aucs[c][1] for c in sorted(aucs.columns)]\n",
        "\n",
        "ax,fig = plt.subplots(1,1,figsize=(6,6))\n",
        "errors = [aucs[c][1]/np.sqrt(aucs[c][2]) for c in sorted(aucs.columns)]\n",
        "jet = plt.get_cmap('jet')\n",
        "plt.bar(list(range(len(aucs.columns))),bars,color=[jet(i/(len(aucs.columns)-1)) for i in range(len(aucs.columns))])\n",
        "plt.errorbar(list(range(len(aucs.columns))),bars,yerr=stds,color='gray',linestyle='',linewidth=3,label='St. Dev.')\n",
        "\n",
        "plt.errorbar(list(range(len(aucs.columns))),bars,yerr=errors,color='k',linewidth=8,alpha=1,linestyle='',label='St. Errors')\n",
        "plt.xticks(list(range(len(aucs.columns))),[c.split('_')[0] for c in sorted(aucs.columns)],rotation=60)\n",
        "plt.ylabel('ROC-AUC')\n",
        "plt.legend(fontsize=14,loc='upper right')\n",
        "plt.ylim([0.5,1.0])\n",
        "plt.tight_layout()\n",
        "plt.savefig('AUC_UL.pdf',transparent=True)\n",
        "plt.show()"
      ],
      "metadata": {
        "colab": {
          "base_uri": "https://localhost:8080/",
          "height": 592
        },
        "id": "LKH_x8efUYKC",
        "outputId": "2f276f56-7491-47f1-d051-d899497af144"
      },
      "execution_count": null,
      "outputs": [
        {
          "output_type": "display_data",
          "data": {
            "text/plain": [
              "<Figure size 600x600 with 1 Axes>"
            ],
            "image/png": "[encoded data removed]"
          },
          "metadata": {}
        }
      ]
    },
    {
      "cell_type": "code",
      "source": [
        "# applying NN to understand hazards in ULs\n",
        "filename = 'finalized_model_SVM_UL.sav'\n",
        "model = SentenceTransformer('stsb-xlm-r-multilingual')#'all-mpnet-base-v2')#'all-MiniLM-L6-v2')\n",
        "\n",
        "clf = pk.load(open(filename,'rb'))#SVC(probability=True)\n",
        "unlabeled_data_SNOPES = pd.read_excel('Urban Legend Data_ 2022 Snopes, Encyclopedia & 2014.xlsx',sheet_name='992 SNOPES LEGENDS')\n",
        "\n",
        "unlabeled_data_SNOPES = pd.merge(unlabeled_data_SNOPES,pd.read_csv('unlabeled_SNOPES.csv'),on='LEGEND TEXT ')\n",
        "unlabeled_data_SNOPES['summary_embedding'] = [e for e in model.encode(unlabeled_data_SNOPES['summary'].values)]\n",
        "#unlabeled_data_SNOPES['hazard_pred'] = clf.predict_proba([u for u in unlabeled_data_SNOPES['summary_embedding'].values])\n",
        "\n",
        "unlabeled_data_SNOPES['hazard_pred'] = [clf.predict_proba([u])[0,1] for u in unlabeled_data_SNOPES['summary_embedding'].values]\n",
        "unlabeled_data_Enc = pd.read_excel('Urban Legend Data_ 2022 Snopes, Encyclopedia & 2014.xlsx',sheet_name='255 Encyclopedia Of Urban Legen')\n",
        "unlabeled_data_Enc = unlabeled_data_Enc[['NARRATIVE MYTH/Legend Title ','LEGEND TEXT ']]\n",
        "unlabeled_data_Enc = pd.merge(unlabeled_data_Enc,pd.read_csv('unlabeled_Enc.csv'),on=['LEGEND TEXT ','NARRATIVE MYTH/Legend Title '])\n",
        "unlabeled_data_Enc.columns = ['title','text','summary']\n",
        "\n",
        "#unlabeled_data_Enc['summary_embedding'] = model.encode(unlabeled_data_Enc['summary'].values)\n",
        "unlabeled_data_Enc['summary_embedding'] = [e for e in model.encode(unlabeled_data_Enc['summary'].values)]\n",
        "#unlabeled_data_Enc['hazard_pred'] = clf.predict_proba(unlabeled_data_Enc['summary_embedding'].values)\n",
        "unlabeled_data_Enc['hazard_pred'] = [clf.predict_proba([u])[0,1] for u in unlabeled_data_Enc['summary_embedding'].values]\n",
        "\n",
        "unlabeled_data_SNOPES.to_csv('unlabeled_data_SNOPES.csv',index=False)\n",
        "unlabeled_data_Enc.to_csv('unlabeled_data_Enc.csv',index=False)\n"
      ],
      "metadata": {
        "id": "Bz7g5ASB7bFY"
      },
      "execution_count": null,
      "outputs": []
    },
    {
      "cell_type": "code",
      "execution_count": null,
      "metadata": {
        "id": "NFf_M7rfEbpD"
      },
      "outputs": [],
      "source": []
    },
    {
      "cell_type": "code",
      "source": [
        "embed_model = SentenceTransformer('stsb-xlm-r-multilingual')#'all-mpnet-base-v2')\n",
        "embeddings = embed_model.encode(labeled_data['summary'].values.astype(str))\n",
        "X = embeddings\n",
        "y = labeled_data['hazard'].values.round()\n",
        "\n",
        "#labeled_data[['summary','hazard']]\n",
        "fit = umap.UMAP()\n",
        "all_embeddings = np.concatenate([X,np.array([e for e in unlabeled_data_Enc['summary_embedding'].values]),np.array([e for e in unlabeled_data_SNOPES['summary_embedding'].values])])\n",
        "\n",
        "trans = fit.fit(all_embeddings)\n",
        "\n",
        "\n",
        "umap_embed = trans.transform(X)\n",
        "labeled_data['umap_x']=umap_embed[:,0]\n",
        "labeled_data['umap_y']=umap_embed[:,1]\n",
        "\n",
        "\n",
        "umap_embed = trans.transform(np.array([e for e in unlabeled_data_SNOPES['summary_embedding'].values]))\n",
        "unlabeled_data_SNOPES['umap_x']=umap_embed[:,0]\n",
        "unlabeled_data_SNOPES['umap_y']=umap_embed[:,1]\n",
        "\n",
        "\n",
        "umap_embed = trans.transform(np.array([e for e in unlabeled_data_Enc['summary_embedding'].values]))\n",
        "unlabeled_data_Enc['umap_x']=umap_embed[:,0]\n",
        "unlabeled_data_Enc['umap_y']=umap_embed[:,1]\n",
        "\n",
        "unlabeled_data_SNOPES.to_csv('unlabeled_data_SNOPES.csv',index=False)\n",
        "unlabeled_data_Enc.to_csv('unlabeled_data_Enc.csv',index=False)\n",
        "labeled_data.to_csv('Cleaned_2014_data.csv',index=False)"
      ],
      "metadata": {
        "id": "PSeCSYcsDBO0"
      },
      "execution_count": null,
      "outputs": []
    },
    {
      "cell_type": "code",
      "source": [
        "#all_embeddings = np.concatenate([X,unlabeled_data_Enc['summary_embedding'].values,unlabeled_data_SNOPES['summary_embedding'].values],axis=1)\n",
        "\n",
        "matplotlib.rcParams.update({'font.size': 15})\n",
        "labelfonts = {'fontname':'Arial','fontsize':15}\n",
        "\n",
        "all_umap_x_hazard = pd.concat([labeled_data.loc[labeled_data['hazard']>0.5,'umap_x'],unlabeled_data_SNOPES.loc[unlabeled_data_SNOPES['hazard_pred']>0.5,'umap_x'],unlabeled_data_Enc.loc[unlabeled_data_Enc['hazard_pred']>0.5,'umap_x']])\n",
        "all_umap_y_hazard = pd.concat([labeled_data.loc[labeled_data['hazard']>0.5,'umap_y'],unlabeled_data_SNOPES.loc[unlabeled_data_SNOPES['hazard_pred']>0.5,'umap_y'],unlabeled_data_Enc.loc[unlabeled_data_Enc['hazard_pred']>0.5,'umap_y']])\n",
        "all_umap_x_nohazard = pd.concat([labeled_data.loc[labeled_data['hazard']<0.5,'umap_x'],unlabeled_data_SNOPES.loc[unlabeled_data_SNOPES['hazard_pred']<0.5,'umap_x'],unlabeled_data_Enc.loc[unlabeled_data_Enc['hazard_pred']<0.5,'umap_x']])\n",
        "all_umap_y_nohazard = pd.concat([labeled_data.loc[labeled_data['hazard']<0.5,'umap_y'],unlabeled_data_SNOPES.loc[unlabeled_data_SNOPES['hazard_pred']<0.5,'umap_y'],unlabeled_data_Enc.loc[unlabeled_data_Enc['hazard_pred']<0.5,'umap_y']])\n",
        "plt.plot(all_umap_x_hazard,all_umap_y_hazard,'r.',label='Hazard')\n",
        "plt.plot(all_umap_x_nohazard,all_umap_y_nohazard,'kx',label='Not Hazard')\n",
        "plt.legend()\n",
        "plt.axis('off')\n",
        "plt.show()\n",
        "\n"
      ],
      "metadata": {
        "colab": {
          "base_uri": "https://localhost:8080/",
          "height": 406
        },
        "id": "hgN72eJiGoNA",
        "outputId": "9651642b-8f46-43ef-a81f-0937d5710da3"
      },
      "execution_count": null,
      "outputs": [
        {
          "output_type": "display_data",
          "data": {
            "text/plain": [
              "<Figure size 640x480 with 1 Axes>"
            ],
            "image/png": "[encoded data removed]"
          },
          "metadata": {}
        }
      ]
    },
    {
      "cell_type": "code",
      "source": [
        "fig,ax=plt.subplots(1,1,figsize=(6,6))\n",
        "plt.bar([0,1],[len(all_umap_x_nohazard),len(all_umap_x_hazard)],color=['r','b'],alpha=0.4)\n",
        "plt.ylabel('Number Urban Legends')\n",
        "plt.xticks([0,1],['Not Hazard','Hazard'])\n",
        "plt.ylim([0,1200])\n",
        "plt.show()"
      ],
      "metadata": {
        "colab": {
          "base_uri": "https://localhost:8080/",
          "height": 536
        },
        "id": "LY9l6adzRKIa",
        "outputId": "6e3eb020-8602-46e2-ebba-a70cbe0e87e3"
      },
      "execution_count": null,
      "outputs": [
        {
          "output_type": "display_data",
          "data": {
            "text/plain": [
              "<Figure size 600x600 with 1 Axes>"
            ],
            "image/png": "[encoded data removed]"
          },
          "metadata": {}
        }
      ]
    },
    {
      "cell_type": "code",
      "source": [
        "#unlabeled_data_SNOPES['hazard_pred']\n",
        "matplotlib.rcParams.update({'font.size': 15})\n",
        "labelfonts = {'fontname':'Arial','fontsize':15}\n",
        "#for n,line in labeled_data.iterrows():\n",
        "#  hazard_label.append(mean_hazard[line['number']])\n",
        "unlabeled_data_SNOPES = pd.read_csv('unlabeled_data_SNOPES.csv')\n",
        "unlabeled_data_Enc= pd.read_csv('unlabeled_data_Enc.csv')\n",
        "fig,ax=plt.subplots(1,1,figsize=(6,6))\n",
        "sns.kdeplot(labeled_data['mean_hazard'],color='r',fill=True,alpha=0.5,label='SNOPES 2014')\n",
        "sns.kdeplot(unlabeled_data_SNOPES['hazard_pred'],color='y',fill=True,alpha=0.5,label='SNOPES 2022')\n",
        "sns.kdeplot(unlabeled_data_Enc['hazard_pred'],color='b',fill=True,alpha=0.5,label='Encyclopedia')\n",
        "plt.legend(loc='upper left')\n",
        "plt.xlabel('Hazard')\n",
        "plt.xlim([-0.1,1.1])\n",
        "plt.savefig('UL_comparisons.pdf',transparent=True)\n",
        "plt.show()"
      ],
      "metadata": {
        "colab": {
          "base_uri": "https://localhost:8080/",
          "height": 561
        },
        "id": "k7UIz639Msw1",
        "outputId": "81eea66b-89ae-4856-8f6b-2d57cec3fc79"
      },
      "execution_count": null,
      "outputs": [
        {
          "output_type": "display_data",
          "data": {
            "text/plain": [
              "<Figure size 600x600 with 1 Axes>"
            ],
            "image/png": "[encoded data removed]"
          },
          "metadata": {}
        }
      ]
    },
    {
      "cell_type": "code",
      "source": [
        "fig,ax=plt.subplots(1,1,figsize=(6,6))\n",
        "\n",
        "all_legends = np.concatenate([labeled_data['mean_hazard'].values,unlabeled_data_SNOPES['hazard_pred'].values,unlabeled_data_Enc['hazard_pred'].values])\n",
        "ax=sns.kdeplot(all_legends,color='k')\n",
        "plt.xlim([-0.1,1.1])\n",
        "kde_x, kde_y = ax.lines[0].get_data()\n",
        "dx=0.007\n",
        "for x0 in np.arange(-0.1,1.1,dx):\n",
        "    ax.fill_between(kde_x, kde_y, where=(kde_x>x0) & (kde_x<=x0+3*dx) ,\n",
        "                interpolate=True, color=plt.cm.seismic(x0))\n",
        "plt.xlabel('Hazard')\n"
      ],
      "metadata": {
        "colab": {
          "base_uri": "https://localhost:8080/",
          "height": 572
        },
        "id": "jj_39OGXOdsr",
        "outputId": "564f2faf-559c-4592-e2a1-37aca192ec43"
      },
      "execution_count": null,
      "outputs": [
        {
          "output_type": "execute_result",
          "data": {
            "text/plain": [
              "Text(0.5, 0, 'Hazard')"
            ]
          },
          "metadata": {},
          "execution_count": 33
        },
        {
          "output_type": "display_data",
          "data": {
            "text/plain": [
              "<Figure size 600x600 with 1 Axes>"
            ],
            "image/png": "[encoded data removed]"
          },
          "metadata": {}
        }
      ]
    },
    {
      "cell_type": "code",
      "source": [
        "if False:\n",
        "  political_scores = pd.read_csv('full_political_scores.csv')\n",
        "  name2score = {name:score for name,score in political_scores[['screen_name', 'political']].values}\n",
        "  all_political_names = set(list(name2score.keys()))\n",
        "data_dir = 'TwitterCOVIDData/'\n",
        "#files=glob('TwitterCOVIDData/*.csv')\n",
        "\n",
        "num_data=0\n",
        "#{'tweet_id':[],'user_pol':[],'date':[],'rt':[],'favs':[],'harm':[]}\n",
        "for year in range(2020,2022):\n",
        "  for month in range(1,13):\n",
        "    for day in range(1,32):\n",
        "      tweet_stats=[]\n",
        "      for hour in range(24):\n",
        "        file = data_dir+'neg_bias_datacoronavirus-clean-'+str(year)+'-'+str(month).zfill(2)+'-'+str(day).zfill(2)+'-'+str(hour).zfill(2)+'.csv'\n",
        "        if not os.path.exists(file): continue\n",
        "        data=pd.read_csv(file,lineterminator='\\n')\n",
        "        # we will both track \"harm\" vs \"not harm\" rts over time (control for RT user features) AND user political position vs RT/not RT\n",
        "        # we don't know who saw tweet, did not R\n",
        "        cols = ['tweetid','rt_tweetid','qtd_tweetid','date','polit_score','harm_tweet','state']\n",
        "        diff_names = np.intersect1d(data.columns, ['tweet_id','rt_tweet_id','qtd_tweet_id'])\n",
        "        if len(diff_names)>0:\n",
        "          if 'tweet_id' in data.columns:\n",
        "              data['tweetid'] = data['tweet_id']\n",
        "          if 'rt_tweet_id' in data.columns:\n",
        "              data['rt_tweetid'] = data['rt_tweet_id']\n",
        "          if 'qtd_tweet_id' in data.columns:\n",
        "              data['qtd_tweetid'] = data['qtd_tweet_id']\n",
        "\n",
        "        for c in cols:\n",
        "          if c not in data.columns:\n",
        "            data[c] = [np.nan]*len(data)\n",
        "        tweet_stats.append(data[cols])\n",
        "      if len(tweet_stats) > 0:\n",
        "        tweet_stats = pd.concat(tweet_stats)\n",
        "        tweet_stats = tweet_stats.reset_index()\n",
        "        tweet_stats.to_csv(data_dir+'neg_bias_datacoronavirus-clean-'+str(year)+'-'+str(month).zfill(2)+'-'+str(day).zfill(2)+'_subset.csv')\n",
        "\n",
        "if False:\n",
        "  for col in ['rt_polit_score','rt_qtd_count', 'rt_rt_count', 'rt_reply_count','rt_fav_count']:\n",
        "    print(col)\n",
        "    new_data = data[['harm_tweet',col,'screen_name','rt_tweetid']].dropna()\n",
        "    new_data = new_data[['harm_tweet',col,'rt_tweetid']].drop_duplicates()\n",
        "    plt.plot(new_data['harm_tweet'],new_data[col].astype(float),'k.',alpha=0.04)\n",
        "\n",
        "    plt.yscale('log')\n",
        "\n",
        "    p,r = spearmanr(new_data['harm_tweet'].astype(float),new_data[col].astype(float))\n",
        "    plt.ylabel(col)\n",
        "    plt.xlabel('Harm Label')\n",
        "    plt.show()\n",
        "\n"
      ],
      "metadata": {
        "colab": {
          "base_uri": "https://localhost:8080/"
        },
        "id": "dXzYhRH3y3ni",
        "outputId": "a1bfc979-79ba-4b90-f8f8-4822eaf57e20"
      },
      "execution_count": null,
      "outputs": [
        {
          "output_type": "stream",
          "name": "stderr",
          "text": [
            "<ipython-input-34-fbbe049c22cd>:17: DtypeWarning: Columns (17) have mixed types. Specify dtype option on import or set low_memory=False.\n",
            "  data=pd.read_csv(file,lineterminator='\\n')\n",
            "<ipython-input-34-fbbe049c22cd>:17: DtypeWarning: Columns (17) have mixed types. Specify dtype option on import or set low_memory=False.\n",
            "  data=pd.read_csv(file,lineterminator='\\n')\n",
            "<ipython-input-34-fbbe049c22cd>:17: DtypeWarning: Columns (17) have mixed types. Specify dtype option on import or set low_memory=False.\n",
            "  data=pd.read_csv(file,lineterminator='\\n')\n",
            "<ipython-input-34-fbbe049c22cd>:17: DtypeWarning: Columns (7,8,9,10,11,12,13,14,17) have mixed types. Specify dtype option on import or set low_memory=False.\n",
            "  data=pd.read_csv(file,lineterminator='\\n')\n",
            "<ipython-input-34-fbbe049c22cd>:17: DtypeWarning: Columns (17) have mixed types. Specify dtype option on import or set low_memory=False.\n",
            "  data=pd.read_csv(file,lineterminator='\\n')\n",
            "<ipython-input-34-fbbe049c22cd>:17: DtypeWarning: Columns (17) have mixed types. Specify dtype option on import or set low_memory=False.\n",
            "  data=pd.read_csv(file,lineterminator='\\n')\n",
            "<ipython-input-34-fbbe049c22cd>:17: DtypeWarning: Columns (17) have mixed types. Specify dtype option on import or set low_memory=False.\n",
            "  data=pd.read_csv(file,lineterminator='\\n')\n",
            "<ipython-input-34-fbbe049c22cd>:17: DtypeWarning: Columns (17) have mixed types. Specify dtype option on import or set low_memory=False.\n",
            "  data=pd.read_csv(file,lineterminator='\\n')\n",
            "<ipython-input-34-fbbe049c22cd>:17: DtypeWarning: Columns (17) have mixed types. Specify dtype option on import or set low_memory=False.\n",
            "  data=pd.read_csv(file,lineterminator='\\n')\n",
            "<ipython-input-34-fbbe049c22cd>:17: DtypeWarning: Columns (17) have mixed types. Specify dtype option on import or set low_memory=False.\n",
            "  data=pd.read_csv(file,lineterminator='\\n')\n",
            "<ipython-input-34-fbbe049c22cd>:17: DtypeWarning: Columns (17) have mixed types. Specify dtype option on import or set low_memory=False.\n",
            "  data=pd.read_csv(file,lineterminator='\\n')\n",
            "<ipython-input-34-fbbe049c22cd>:17: DtypeWarning: Columns (17) have mixed types. Specify dtype option on import or set low_memory=False.\n",
            "  data=pd.read_csv(file,lineterminator='\\n')\n",
            "<ipython-input-34-fbbe049c22cd>:17: DtypeWarning: Columns (17) have mixed types. Specify dtype option on import or set low_memory=False.\n",
            "  data=pd.read_csv(file,lineterminator='\\n')\n",
            "<ipython-input-34-fbbe049c22cd>:17: DtypeWarning: Columns (17) have mixed types. Specify dtype option on import or set low_memory=False.\n",
            "  data=pd.read_csv(file,lineterminator='\\n')\n",
            "<ipython-input-34-fbbe049c22cd>:17: DtypeWarning: Columns (17) have mixed types. Specify dtype option on import or set low_memory=False.\n",
            "  data=pd.read_csv(file,lineterminator='\\n')\n",
            "<ipython-input-34-fbbe049c22cd>:17: DtypeWarning: Columns (17) have mixed types. Specify dtype option on import or set low_memory=False.\n",
            "  data=pd.read_csv(file,lineterminator='\\n')\n",
            "<ipython-input-34-fbbe049c22cd>:17: DtypeWarning: Columns (17) have mixed types. Specify dtype option on import or set low_memory=False.\n",
            "  data=pd.read_csv(file,lineterminator='\\n')\n",
            "<ipython-input-34-fbbe049c22cd>:17: DtypeWarning: Columns (17) have mixed types. Specify dtype option on import or set low_memory=False.\n",
            "  data=pd.read_csv(file,lineterminator='\\n')\n",
            "<ipython-input-34-fbbe049c22cd>:17: DtypeWarning: Columns (17) have mixed types. Specify dtype option on import or set low_memory=False.\n",
            "  data=pd.read_csv(file,lineterminator='\\n')\n",
            "<ipython-input-34-fbbe049c22cd>:17: DtypeWarning: Columns (17) have mixed types. Specify dtype option on import or set low_memory=False.\n",
            "  data=pd.read_csv(file,lineterminator='\\n')\n",
            "<ipython-input-34-fbbe049c22cd>:17: DtypeWarning: Columns (17) have mixed types. Specify dtype option on import or set low_memory=False.\n",
            "  data=pd.read_csv(file,lineterminator='\\n')\n",
            "<ipython-input-34-fbbe049c22cd>:17: DtypeWarning: Columns (17) have mixed types. Specify dtype option on import or set low_memory=False.\n",
            "  data=pd.read_csv(file,lineterminator='\\n')\n",
            "<ipython-input-34-fbbe049c22cd>:17: DtypeWarning: Columns (0,1,18,20,22,23,24,25,26,27,43,44,45,46,47,50,54,56,57,58,61) have mixed types. Specify dtype option on import or set low_memory=False.\n",
            "  data=pd.read_csv(file,lineterminator='\\n')\n",
            "<ipython-input-34-fbbe049c22cd>:17: DtypeWarning: Columns (0,1,18,20,22,23,24,25,26,27,44,47,50,56,57,58) have mixed types. Specify dtype option on import or set low_memory=False.\n",
            "  data=pd.read_csv(file,lineterminator='\\n')\n",
            "<ipython-input-34-fbbe049c22cd>:17: DtypeWarning: Columns (0,1,2,3,4,5,6,7,8,9,10,11,12,13,14,15,16,17,18,19,20,21,22,23,24,25,27,28,29,30,31,32,33,34,35,36,37,38,40,41,42,44,47,48,49,50,51,52,53,57,59,60,62,63,64,65,66,67,68,69,70,71,72,73,74) have mixed types. Specify dtype option on import or set low_memory=False.\n",
            "  data=pd.read_csv(file,lineterminator='\\n')\n",
            "<ipython-input-34-fbbe049c22cd>:17: DtypeWarning: Columns (0,1,2,3,4,5,6,7,8,9,10,11,12,13,14,15,16,17,18,19,20,21,22,23,24,25,26,27,28,29,30,31,32,33,34,35,36,37,38,40,41,42,44,47,48,49,50,51,52,53,54,56,57,58,59,60,61,62,63,64,65,66,67,68,69,70,71,72,73,74) have mixed types. Specify dtype option on import or set low_memory=False.\n",
            "  data=pd.read_csv(file,lineterminator='\\n')\n",
            "<ipython-input-34-fbbe049c22cd>:17: DtypeWarning: Columns (0,1,2,3,4,5,7,8,9,10,11,12,17,18,20,22,23,24,25,26,27,28,29,30,31,32,33,34,35,36,37,38,40,41,42,43,44,45,46,47,48,49,50,51,52,53,54,55,56,57,58,59,60,61,62,63,64,65,66,67,68,69,70,71,72,73,74) have mixed types. Specify dtype option on import or set low_memory=False.\n",
            "  data=pd.read_csv(file,lineterminator='\\n')\n",
            "<ipython-input-34-fbbe049c22cd>:17: DtypeWarning: Columns (17) have mixed types. Specify dtype option on import or set low_memory=False.\n",
            "  data=pd.read_csv(file,lineterminator='\\n')\n",
            "<ipython-input-34-fbbe049c22cd>:17: DtypeWarning: Columns (17) have mixed types. Specify dtype option on import or set low_memory=False.\n",
            "  data=pd.read_csv(file,lineterminator='\\n')\n",
            "<ipython-input-34-fbbe049c22cd>:17: DtypeWarning: Columns (17) have mixed types. Specify dtype option on import or set low_memory=False.\n",
            "  data=pd.read_csv(file,lineterminator='\\n')\n",
            "<ipython-input-34-fbbe049c22cd>:17: DtypeWarning: Columns (0,1,2,3,4,5,6,7,8,9,10,11,12,13,14,15,16,17,18,19,20,21,22,23,24,25,26,27,28,29,30,31,32,33,34,35,36,37,38,40,41,42,44,47,48,49,50,51,52,53,56,57,58,59,60,61,62,63,64,65,66,67,68,69,70,71,72,73,74) have mixed types. Specify dtype option on import or set low_memory=False.\n",
            "  data=pd.read_csv(file,lineterminator='\\n')\n",
            "<ipython-input-34-fbbe049c22cd>:17: DtypeWarning: Columns (17) have mixed types. Specify dtype option on import or set low_memory=False.\n",
            "  data=pd.read_csv(file,lineterminator='\\n')\n",
            "<ipython-input-34-fbbe049c22cd>:17: DtypeWarning: Columns (0,1,17,18,20,22,23,24,25,26,27,43,44,45,46,47,50,54,56,57,58,61) have mixed types. Specify dtype option on import or set low_memory=False.\n",
            "  data=pd.read_csv(file,lineterminator='\\n')\n",
            "<ipython-input-34-fbbe049c22cd>:17: DtypeWarning: Columns (17) have mixed types. Specify dtype option on import or set low_memory=False.\n",
            "  data=pd.read_csv(file,lineterminator='\\n')\n",
            "<ipython-input-34-fbbe049c22cd>:17: DtypeWarning: Columns (0,1,2,3,4,5,6,7,8,9,10,11,12,13,14,15,16,17,18,19,20,21,22,23,24,25,26,27,28,29,30,31,32,33,34,35,36,37,38,40,41,42,43,44,45,46,47,48,49,50,51,52,53,54,56,57,58,59,60,61,62,63,64,65,66,67,68,69,70,71,72,73,74) have mixed types. Specify dtype option on import or set low_memory=False.\n",
            "  data=pd.read_csv(file,lineterminator='\\n')\n",
            "<ipython-input-34-fbbe049c22cd>:17: DtypeWarning: Columns (0,1,2,3,4,5,6,7,8,9,10,11,12,13,14,15,16,17,18,19,20,21,22,23,24,25,26,27,28,29,30,31,32,33,34,35,36,37,38,40,41,42,43,45,46,47,48,49,51,52,53,54,56,57,58,59,60,61,62,63,64,65,66,67,68,69,70,71,72,73,74) have mixed types. Specify dtype option on import or set low_memory=False.\n",
            "  data=pd.read_csv(file,lineterminator='\\n')\n",
            "<ipython-input-34-fbbe049c22cd>:17: DtypeWarning: Columns (17) have mixed types. Specify dtype option on import or set low_memory=False.\n",
            "  data=pd.read_csv(file,lineterminator='\\n')\n",
            "<ipython-input-34-fbbe049c22cd>:17: DtypeWarning: Columns (17) have mixed types. Specify dtype option on import or set low_memory=False.\n",
            "  data=pd.read_csv(file,lineterminator='\\n')\n",
            "<ipython-input-34-fbbe049c22cd>:17: DtypeWarning: Columns (17) have mixed types. Specify dtype option on import or set low_memory=False.\n",
            "  data=pd.read_csv(file,lineterminator='\\n')\n",
            "<ipython-input-34-fbbe049c22cd>:17: DtypeWarning: Columns (17) have mixed types. Specify dtype option on import or set low_memory=False.\n",
            "  data=pd.read_csv(file,lineterminator='\\n')\n",
            "<ipython-input-34-fbbe049c22cd>:17: DtypeWarning: Columns (0,1,17,18,20,22,23,24,25,26,27,44,47,50,56,57,58,61) have mixed types. Specify dtype option on import or set low_memory=False.\n",
            "  data=pd.read_csv(file,lineterminator='\\n')\n",
            "<ipython-input-34-fbbe049c22cd>:17: DtypeWarning: Columns (17) have mixed types. Specify dtype option on import or set low_memory=False.\n",
            "  data=pd.read_csv(file,lineterminator='\\n')\n",
            "<ipython-input-34-fbbe049c22cd>:17: DtypeWarning: Columns (17) have mixed types. Specify dtype option on import or set low_memory=False.\n",
            "  data=pd.read_csv(file,lineterminator='\\n')\n",
            "<ipython-input-34-fbbe049c22cd>:17: DtypeWarning: Columns (17) have mixed types. Specify dtype option on import or set low_memory=False.\n",
            "  data=pd.read_csv(file,lineterminator='\\n')\n",
            "<ipython-input-34-fbbe049c22cd>:17: DtypeWarning: Columns (17) have mixed types. Specify dtype option on import or set low_memory=False.\n",
            "  data=pd.read_csv(file,lineterminator='\\n')\n",
            "<ipython-input-34-fbbe049c22cd>:17: DtypeWarning: Columns (0,1,2,3,4,5,6,7,8,9,10,11,12,13,14,15,16,17,19,21,22,23,24,25,26,27,28,29,30,31,32,33,34,35,36,37,38,40,41,42,43,45,46,47,48,49,51,52,53,54,56,57,58,59,60,61,62,63,64,65,66,67,68,69,70,71,72,73,74) have mixed types. Specify dtype option on import or set low_memory=False.\n",
            "  data=pd.read_csv(file,lineterminator='\\n')\n",
            "<ipython-input-34-fbbe049c22cd>:17: DtypeWarning: Columns (17) have mixed types. Specify dtype option on import or set low_memory=False.\n",
            "  data=pd.read_csv(file,lineterminator='\\n')\n",
            "<ipython-input-34-fbbe049c22cd>:17: DtypeWarning: Columns (0,1,2,3,4,5,6,7,8,9,10,11,12,13,14,15,16,17,18,19,20,21,22,23,24,25,26,27,28,29,30,31,32,33,34,35,36,37,38,40,41,42,43,44,45,46,47,48,49,50,51,52,53,56,57,58,59,60,61,62,63,64,65,66,67,68,69,70,71,72,73,74) have mixed types. Specify dtype option on import or set low_memory=False.\n",
            "  data=pd.read_csv(file,lineterminator='\\n')\n",
            "<ipython-input-34-fbbe049c22cd>:17: DtypeWarning: Columns (17) have mixed types. Specify dtype option on import or set low_memory=False.\n",
            "  data=pd.read_csv(file,lineterminator='\\n')\n",
            "<ipython-input-34-fbbe049c22cd>:17: DtypeWarning: Columns (17) have mixed types. Specify dtype option on import or set low_memory=False.\n",
            "  data=pd.read_csv(file,lineterminator='\\n')\n",
            "<ipython-input-34-fbbe049c22cd>:17: DtypeWarning: Columns (17) have mixed types. Specify dtype option on import or set low_memory=False.\n",
            "  data=pd.read_csv(file,lineterminator='\\n')\n",
            "<ipython-input-34-fbbe049c22cd>:17: DtypeWarning: Columns (17) have mixed types. Specify dtype option on import or set low_memory=False.\n",
            "  data=pd.read_csv(file,lineterminator='\\n')\n"
          ]
        }
      ]
    },
    {
      "cell_type": "code",
      "source": [
        "year=2020\n",
        "month=1\n",
        "data_dir = 'TwitterCOVIDData/'\n",
        "tweet_stats = pd.concat([pd.read_csv(data_dir+'neg_bias_datacoronavirus-clean-'+str(year)+'-'+str(month).zfill(2)+'-'+str(day).zfill(2)+'_subset.csv') for day in range(21,32)])\n",
        "tweet_stats = tweet_stats.reset_index()\n",
        "tweet_stats['date'] = pd.to_datetime(tweet_stats['date'])\n"
      ],
      "metadata": {
        "id": "MLvuLw9cOcCj"
      },
      "execution_count": null,
      "outputs": []
    },
    {
      "cell_type": "code",
      "source": [
        "type(list(all_ids)[0])"
      ],
      "metadata": {
        "colab": {
          "base_uri": "https://localhost:8080/"
        },
        "id": "ziRn1h_yfQGb",
        "outputId": "0c07f7f4-936a-4843-f066-a6513aec1251"
      },
      "execution_count": null,
      "outputs": [
        {
          "output_type": "execute_result",
          "data": {
            "text/plain": [
              "int"
            ]
          },
          "metadata": {},
          "execution_count": 32
        }
      ]
    },
    {
      "cell_type": "code",
      "source": [
        "rt_ids = tweet_stats.loc[~np.isnan(tweet_stats['rt_tweetid']),'rt_tweetid'].drop_duplicates().astype(np.int64).values\n",
        "\n",
        "all_orig_ids = tweet_stats.loc[np.isnan(tweet_stats['rt_tweetid']),'tweetid'].drop_duplicates().astype(np.int64).values\n",
        "rt_data = {'tweet_id':[],'rt_dates':[],'rt_polit':[],'time_since_orig':[],'harm_tweet':[]}\n",
        "num_rt_hours = 72\n",
        "all_ids = set(tweet_stats['tweetid'].dropna().drop_duplicates().values.tolist())\n",
        "\n",
        "id_tweet_stats = tweet_stats.groupby('tweetid')\n",
        "all_rt_ids = set(tweet_stats['rt_tweetid'].dropna().drop_duplicates().values.astype(int).tolist())\n",
        "rt_id_tweet_stats = tweet_stats.groupby('rt_tweetid')\n",
        "for ii,tweetid in enumerate(set(all_ids).intersection(set(list(all_orig_ids))).intersection(all_rt_ids)):#all_orig_ids):\n",
        "  if ii % 1000 ==0:\n",
        "    print(round(ii/len(all_orig_ids)*100,2))\n",
        "    print(len(rt_data['tweet_id']))\n",
        "  if ii == 500000:\n",
        "    break\n",
        "  #orig = tweet_stats.loc[tweet_stats['tweetid']==tweetid,]\n",
        "  #if tweetid in all_ids:\n",
        "  orig = id_tweet_stats.get_group(tweetid)\n",
        "  #else:\n",
        "  #    continue\n",
        "  final_date = np.max(orig['date'].values)\n",
        "  #all_rts = tweet_stats.loc[tweet_stats['rt_tweetid']==tweetid,]\n",
        "  #if tweetid in all_rt_ids:\n",
        "  all_rts = rt_id_tweet_stats.get_group(tweetid)\n",
        "  #else:\n",
        "  #    continue\n",
        "  if len(all_rts) > 0:\n",
        "    # make sure orig_date < num_rt_hours from end\n",
        "\n",
        "    #if (orig['date'].values[0] - final_date)/(10**9*60*60) < num_rt_hours: continue\n",
        "    orig_date = [orig['date'].values[0]]*len(all_rts)\n",
        "    orig_polit = [orig['polit_score'].values[0]]*len(all_rts)\n",
        "    polit_values=all_rts['polit_score'].values.tolist()\n",
        "    dt = ((all_rts['date'].values-orig_date)/(10**9*60*60)).tolist() # hours\n",
        "    dt = dt[dt < num_rt_hours]\n",
        "    date = all_rts['date'].values.tolist()\n",
        "\n",
        "    rt_data['tweet_id']+=[tweetid]*len(all_rts)\n",
        "    rt_data['rt_dates']+=date\n",
        "    rt_data['rt_polit']+=polit_values\n",
        "    rt_data['time_since_orig']+=dt\n",
        "    rt_data['harm_tweet']+=all_rts['harm_tweet'].values.tolist()\n",
        "  else:\n",
        "    rt_data['tweet_id']+=[tweetid]\n",
        "    rt_data['rt_dates']+=[orig['date'].values[0]]\n",
        "    rt_data['rt_polit']+=[orig['polit_score'].values[0]]\n",
        "    rt_data['time_since_orig']+=[np.nan]\n",
        "    rt_data['harm_tweet']+=[orig['harm_tweet'].values[0]]\n",
        "\n",
        "rt_data = pd.DataFrame(rt_data)\n"
      ],
      "metadata": {
        "colab": {
          "base_uri": "https://localhost:8080/",
          "height": 286
        },
        "id": "hvFqY1ZDwZDE",
        "outputId": "15e8c302-5924-475d-ea11-6039635a90d3"
      },
      "execution_count": null,
      "outputs": [
        {
          "output_type": "stream",
          "name": "stdout",
          "text": [
            "0.0\n",
            "0\n"
          ]
        },
        {
          "output_type": "error",
          "ename": "TypeError",
          "evalue": "ignored",
          "traceback": [
            "\u001b[0;31m---------------------------------------------------------------------------\u001b[0m",
            "\u001b[0;31mTypeError\u001b[0m                                 Traceback (most recent call last)",
            "\u001b[0;32m<ipython-input-39-1854b93a00a9>\u001b[0m in \u001b[0;36m<cell line: 11>\u001b[0;34m()\u001b[0m\n\u001b[1;32m     34\u001b[0m     \u001b[0mpolit_values\u001b[0m\u001b[0;34m=\u001b[0m\u001b[0mall_rts\u001b[0m\u001b[0;34m[\u001b[0m\u001b[0;34m'polit_score'\u001b[0m\u001b[0;34m]\u001b[0m\u001b[0;34m.\u001b[0m\u001b[0mvalues\u001b[0m\u001b[0;34m.\u001b[0m\u001b[0mtolist\u001b[0m\u001b[0;34m(\u001b[0m\u001b[0;34m)\u001b[0m\u001b[0;34m\u001b[0m\u001b[0;34m\u001b[0m\u001b[0m\n\u001b[1;32m     35\u001b[0m     \u001b[0mdt\u001b[0m \u001b[0;34m=\u001b[0m \u001b[0;34m(\u001b[0m\u001b[0;34m(\u001b[0m\u001b[0mall_rts\u001b[0m\u001b[0;34m[\u001b[0m\u001b[0;34m'date'\u001b[0m\u001b[0;34m]\u001b[0m\u001b[0;34m.\u001b[0m\u001b[0mvalues\u001b[0m\u001b[0;34m-\u001b[0m\u001b[0morig_date\u001b[0m\u001b[0;34m)\u001b[0m\u001b[0;34m/\u001b[0m\u001b[0;34m(\u001b[0m\u001b[0;36m10\u001b[0m\u001b[0;34m**\u001b[0m\u001b[0;36m9\u001b[0m\u001b[0;34m*\u001b[0m\u001b[0;36m60\u001b[0m\u001b[0;34m*\u001b[0m\u001b[0;36m60\u001b[0m\u001b[0;34m)\u001b[0m\u001b[0;34m)\u001b[0m\u001b[0;34m.\u001b[0m\u001b[0mtolist\u001b[0m\u001b[0;34m(\u001b[0m\u001b[0;34m)\u001b[0m \u001b[0;31m# hours\u001b[0m\u001b[0;34m\u001b[0m\u001b[0;34m\u001b[0m\u001b[0m\n\u001b[0;32m---> 36\u001b[0;31m     \u001b[0mdt\u001b[0m \u001b[0;34m=\u001b[0m \u001b[0mdt\u001b[0m\u001b[0;34m[\u001b[0m\u001b[0mdt\u001b[0m \u001b[0;34m<\u001b[0m \u001b[0mnum_rt_hours\u001b[0m\u001b[0;34m]\u001b[0m\u001b[0;34m\u001b[0m\u001b[0;34m\u001b[0m\u001b[0m\n\u001b[0m\u001b[1;32m     37\u001b[0m     \u001b[0mdate\u001b[0m \u001b[0;34m=\u001b[0m \u001b[0mall_rts\u001b[0m\u001b[0;34m[\u001b[0m\u001b[0;34m'date'\u001b[0m\u001b[0;34m]\u001b[0m\u001b[0;34m.\u001b[0m\u001b[0mvalues\u001b[0m\u001b[0;34m.\u001b[0m\u001b[0mtolist\u001b[0m\u001b[0;34m(\u001b[0m\u001b[0;34m)\u001b[0m\u001b[0;34m\u001b[0m\u001b[0;34m\u001b[0m\u001b[0m\n\u001b[1;32m     38\u001b[0m \u001b[0;34m\u001b[0m\u001b[0m\n",
            "\u001b[0;31mTypeError\u001b[0m: '<' not supported between instances of 'list' and 'int'"
          ]
        }
      ]
    },
    {
      "cell_type": "code",
      "source": [
        "orig['date'].values[0]-final_date"
      ],
      "metadata": {
        "colab": {
          "base_uri": "https://localhost:8080/"
        },
        "id": "M6JXee7ckyAJ",
        "outputId": "6545950e-f2da-4bda-de1b-84d39b4e060a"
      },
      "execution_count": null,
      "outputs": [
        {
          "output_type": "execute_result",
          "data": {
            "text/plain": [
              "numpy.timedelta64(0,'ns')"
            ]
          },
          "metadata": {},
          "execution_count": 38
        }
      ]
    },
    {
      "cell_type": "code",
      "source": [
        "#year=2020\n",
        "#month=1\n",
        "import pandas as pd\n",
        "import random\n",
        "from glob import glob\n",
        "from scipy.stats import spearmanr\n",
        "data_dir = 'TwitterCOVIDData/'\n",
        "files = glob(data_dir+'*.csv')\n",
        "print(files)\n",
        "random.shuffle(files)\n",
        "data=pd.concat([pd.read_csv(file,lineterminator='\\n') for file in files[:10]])\n",
        "data_test = data[['sent_vader','harm_tweet']].dropna().astype(float)\n",
        "data_test = data_test[pd.to_numeric(data_test['sent_vader'], errors='coerce').notnull()]\n",
        "\n",
        "#tweet_stats = pd.concat([pd.read_csv(data_dir+'neg_bias_datacoronavirus-clean-'+str(year)+'-'+str(month).zfill(2)+'-'+str(day).zfill(2)+'_subset.csv') for day in range(21,32)])\n",
        "#tweet_stats = tweet_stats.reset_index()\n",
        "#tweet_stats['date'] = pd.to_datetime(tweet_stats['date'])\n"
      ],
      "metadata": {
        "id": "Cw1PxC98in4N",
        "colab": {
          "base_uri": "https://localhost:8080/",
          "height": 669
        },
        "outputId": "72b6eada-2cae-4f39-cb24-0c42568545e2"
      },
      "execution_count": null,
      "outputs": [
        {
          "output_type": "stream",
          "name": "stdout",
          "text": [
            "['TwitterCOVIDData/neg_bias_datacoronavirus-clean-2020-02-05-02.csv', 'TwitterCOVIDData/neg_bias_datacoronavirus-clean-2020-03-26-15.csv', 'TwitterCOVIDData/neg_bias_datacoronavirus-clean-2020-05-11-20.csv', 'TwitterCOVIDData/neg_bias_datacoronavirus-clean-2020-05-28-00.csv', 'TwitterCOVIDData/neg_bias_datacoronavirus-clean-2020-06-23-22.csv', 'TwitterCOVIDData/neg_bias_datacoronavirus-clean-2020-09-20-05.csv', 'TwitterCOVIDData/neg_bias_datacoronavirus-clean-2020-11-03-06.csv', 'TwitterCOVIDData/neg_bias_datacoronavirus-clean-2020-12-12-20.csv', 'TwitterCOVIDData/neg_bias_datacoronavirus-clean-2020-12-15-16.csv', 'TwitterCOVIDData/neg_bias_datacoronavirus-clean-2021-01-31-03.csv', 'TwitterCOVIDData/neg_bias_datacoronavirus-clean-2021-05-26-03.csv', 'TwitterCOVIDData/neg_bias_datacoronavirus-clean-2021-06-17-12.csv', 'TwitterCOVIDData/neg_bias_datacoronavirus-clean-2020-01-31-03.csv', 'TwitterCOVIDData/neg_bias_datacoronavirus-clean-2020-04-13-18.csv', 'TwitterCOVIDData/neg_bias_datacoronavirus-clean-2021-05-05-05.csv', 'TwitterCOVIDData/neg_bias_datacoronavirus-clean-2021-01-16-20.csv', 'TwitterCOVIDData/neg_bias_datacoronavirus-clean-2021-06-20-04.csv', 'TwitterCOVIDData/neg_bias_datacoronavirus-clean-2020-05-04-14.csv', 'TwitterCOVIDData/neg_bias_datacoronavirus-clean-2021-09-29-03.csv', 'TwitterCOVIDData/neg_bias_datacoronavirus-clean-2020-09-21-09.csv', 'TwitterCOVIDData/neg_bias_datacoronavirus-clean-2021-01-01-21.csv', 'TwitterCOVIDData/neg_bias_datacoronavirus-clean-2020-11-29-04.csv', 'TwitterCOVIDData/neg_bias_datacoronavirus-clean-2021-02-05-03.csv', 'TwitterCOVIDData/neg_bias_datacoronavirus-clean-2021-01-03-21.csv', 'TwitterCOVIDData/neg_bias_datacoronavirus-clean-2020-07-16-16.csv', 'TwitterCOVIDData/neg_bias_datacoronavirus-clean-2020-07-30-17.csv', 'TwitterCOVIDData/neg_bias_datacoronavirus-clean-2021-07-27-00.csv', 'TwitterCOVIDData/neg_bias_datacoronavirus-clean-2020-12-30-03.csv', 'TwitterCOVIDData/neg_bias_datacoronavirus-clean-2021-06-15-03.csv', 'TwitterCOVIDData/neg_bias_datacoronavirus-clean-2020-08-29-10.csv', 'TwitterCOVIDData/neg_bias_datacoronavirus-clean-2021-03-14-02.csv', 'TwitterCOVIDData/neg_bias_datacoronavirus-clean-2021-07-17-01.csv', 'TwitterCOVIDData/neg_bias_datacoronavirus-clean-2020-01-22-02.csv', 'TwitterCOVIDData/neg_bias_datacoronavirus-clean-2020-01-22-04.csv', 'TwitterCOVIDData/neg_bias_datacoronavirus-clean-2021-02-14-12.csv', 'TwitterCOVIDData/neg_bias_datacoronavirus-clean-2020-01-22-01.csv', 'TwitterCOVIDData/neg_bias_datacoronavirus-clean-2020-01-22-03.csv', 'TwitterCOVIDData/neg_bias_datacoronavirus-clean-2020-01-21-23.csv', 'TwitterCOVIDData/neg_bias_datacoronavirus-clean-2020-01-22-00.csv', 'TwitterCOVIDData/neg_bias_datacoronavirus-clean-2020-01-21-22.csv', 'TwitterCOVIDData/neg_bias_datacoronavirus-clean-2020-01-22-07.csv', 'TwitterCOVIDData/neg_bias_datacoronavirus-clean-2020-01-22-05.csv', 'TwitterCOVIDData/neg_bias_datacoronavirus-clean-2020-01-22-10.csv', 'TwitterCOVIDData/neg_bias_datacoronavirus-clean-2020-01-22-06.csv', 'TwitterCOVIDData/neg_bias_datacoronavirus-clean-2020-01-22-08.csv', 'TwitterCOVIDData/neg_bias_datacoronavirus-clean-2020-01-22-11.csv', 'TwitterCOVIDData/neg_bias_datacoronavirus-clean-2020-01-22-12.csv', 'TwitterCOVIDData/neg_bias_datacoronavirus-clean-2020-01-22-09.csv', 'TwitterCOVIDData/neg_bias_datacoronavirus-clean-2020-01-22-16.csv', 'TwitterCOVIDData/neg_bias_datacoronavirus-clean-2020-01-22-14.csv', 'TwitterCOVIDData/neg_bias_datacoronavirus-clean-2020-01-22-13.csv', 'TwitterCOVIDData/neg_bias_datacoronavirus-clean-2020-01-22-15.csv', 'TwitterCOVIDData/neg_bias_datacoronavirus-clean-2020-01-22-19.csv', 'TwitterCOVIDData/neg_bias_datacoronavirus-clean-2020-01-22-17.csv', 'TwitterCOVIDData/neg_bias_datacoronavirus-clean-2020-01-22-18.csv', 'TwitterCOVIDData/neg_bias_datacoronavirus-clean-2020-01-22-23.csv', 'TwitterCOVIDData/neg_bias_datacoronavirus-clean-2020-01-22-22.csv', 'TwitterCOVIDData/neg_bias_datacoronavirus-clean-2020-01-22-21.csv', 'TwitterCOVIDData/neg_bias_datacoronavirus-clean-2020-01-22-20.csv', 'TwitterCOVIDData/neg_bias_datacoronavirus-clean-2020-01-23-00.csv', 'TwitterCOVIDData/neg_bias_datacoronavirus-clean-2020-01-23-02.csv', 'TwitterCOVIDData/neg_bias_datacoronavirus-clean-2020-01-23-01.csv', 'TwitterCOVIDData/neg_bias_datacoronavirus-clean-2020-01-23-05.csv', 'TwitterCOVIDData/neg_bias_datacoronavirus-clean-2020-01-23-03.csv', 'TwitterCOVIDData/neg_bias_datacoronavirus-clean-2020-01-23-04.csv', 'TwitterCOVIDData/neg_bias_datacoronavirus-clean-2020-01-23-06.csv', 'TwitterCOVIDData/neg_bias_datacoronavirus-clean-2020-01-23-09.csv', 'TwitterCOVIDData/neg_bias_datacoronavirus-clean-2020-01-23-08.csv', 'TwitterCOVIDData/neg_bias_datacoronavirus-clean-2020-01-23-07.csv', 'TwitterCOVIDData/neg_bias_datacoronavirus-clean-2020-01-23-11.csv', 'TwitterCOVIDData/neg_bias_datacoronavirus-clean-2020-01-23-10.csv', 'TwitterCOVIDData/neg_bias_datacoronavirus-clean-2020-01-23-13.csv', 'TwitterCOVIDData/neg_bias_datacoronavirus-clean-2020-01-23-12.csv', 'TwitterCOVIDData/neg_bias_datacoronavirus-clean-2020-01-23-14.csv', 'TwitterCOVIDData/neg_bias_datacoronavirus-clean-2020-01-23-15.csv', 'TwitterCOVIDData/neg_bias_datacoronavirus-clean-2020-01-23-16.csv', 'TwitterCOVIDData/neg_bias_datacoronavirus-clean-2020-01-23-17.csv', 'TwitterCOVIDData/neg_bias_datacoronavirus-clean-2020-01-23-18.csv', 'TwitterCOVIDData/neg_bias_datacoronavirus-clean-2020-01-23-19.csv', 'TwitterCOVIDData/neg_bias_datacoronavirus-clean-2020-01-23-20.csv', 'TwitterCOVIDData/neg_bias_datacoronavirus-clean-2020-01-23-21.csv', 'TwitterCOVIDData/neg_bias_datacoronavirus-clean-2020-01-23-22.csv', 'TwitterCOVIDData/neg_bias_datacoronavirus-clean-2020-01-23-23.csv', 'TwitterCOVIDData/neg_bias_datacoronavirus-clean-2020-01-24-00.csv', 'TwitterCOVIDData/neg_bias_datacoronavirus-clean-2020-01-24-01.csv', 'TwitterCOVIDData/neg_bias_datacoronavirus-clean-2020-01-24-02.csv', 'TwitterCOVIDData/neg_bias_datacoronavirus-clean-2020-01-24-03.csv', 'TwitterCOVIDData/neg_bias_datacoronavirus-clean-2020-01-24-04.csv', 'TwitterCOVIDData/neg_bias_datacoronavirus-clean-2020-01-24-05.csv', 'TwitterCOVIDData/neg_bias_datacoronavirus-clean-2020-01-24-06.csv', 'TwitterCOVIDData/neg_bias_datacoronavirus-clean-2020-01-24-07.csv', 'TwitterCOVIDData/neg_bias_datacoronavirus-clean-2020-01-24-08.csv', 'TwitterCOVIDData/neg_bias_datacoronavirus-clean-2020-01-24-09.csv', 'TwitterCOVIDData/neg_bias_datacoronavirus-clean-2020-01-24-10.csv', 'TwitterCOVIDData/neg_bias_datacoronavirus-clean-2020-01-24-11.csv', 'TwitterCOVIDData/neg_bias_datacoronavirus-clean-2020-01-24-12.csv', 'TwitterCOVIDData/neg_bias_datacoronavirus-clean-2020-01-24-13.csv', 'TwitterCOVIDData/neg_bias_datacoronavirus-clean-2020-01-24-14.csv', 'TwitterCOVIDData/neg_bias_datacoronavirus-clean-2020-01-24-15.csv', 'TwitterCOVIDData/neg_bias_datacoronavirus-clean-2020-01-24-16.csv', 'TwitterCOVIDData/neg_bias_datacoronavirus-clean-2020-01-24-17.csv', 'TwitterCOVIDData/neg_bias_datacoronavirus-clean-2020-01-24-18.csv', 'TwitterCOVIDData/neg_bias_datacoronavirus-clean-2020-01-24-19.csv', 'TwitterCOVIDData/neg_bias_datacoronavirus-clean-2020-01-24-20.csv', 'TwitterCOVIDData/neg_bias_datacoronavirus-clean-2020-01-24-21.csv', 'TwitterCOVIDData/neg_bias_datacoronavirus-clean-2020-01-24-22.csv', 'TwitterCOVIDData/neg_bias_datacoronavirus-clean-2020-01-24-23.csv', 'TwitterCOVIDData/neg_bias_datacoronavirus-clean-2020-01-25-00.csv', 'TwitterCOVIDData/neg_bias_datacoronavirus-clean-2020-01-26_subset.csv', 'TwitterCOVIDData/neg_bias_datacoronavirus-clean-2020-01-27_subset.csv', 'TwitterCOVIDData/neg_bias_datacoronavirus-clean-2020-01-28_subset.csv', 'TwitterCOVIDData/neg_bias_datacoronavirus-clean-2020-01-29_subset.csv', 'TwitterCOVIDData/neg_bias_datacoronavirus-clean-2020-01-30_subset.csv', 'TwitterCOVIDData/neg_bias_datacoronavirus-clean-2020-01-21_subset.csv', 'TwitterCOVIDData/neg_bias_datacoronavirus-clean-2020-01-22_subset.csv', 'TwitterCOVIDData/neg_bias_datacoronavirus-clean-2020-01-23_subset.csv', 'TwitterCOVIDData/neg_bias_datacoronavirus-clean-2020-01-25_subset.csv', 'TwitterCOVIDData/neg_bias_datacoronavirus-clean-2020-01-24_subset.csv', 'TwitterCOVIDData/neg_bias_datacoronavirus-clean-2020-01-31_subset.csv', 'TwitterCOVIDData/neg_bias_datacoronavirus-clean-2020-02-05_subset.csv', 'TwitterCOVIDData/neg_bias_datacoronavirus-clean-2020-03-26_subset.csv', 'TwitterCOVIDData/neg_bias_datacoronavirus-clean-2020-04-13_subset.csv', 'TwitterCOVIDData/neg_bias_datacoronavirus-clean-2020-05-04_subset.csv', 'TwitterCOVIDData/neg_bias_datacoronavirus-clean-2020-05-11_subset.csv', 'TwitterCOVIDData/neg_bias_datacoronavirus-clean-2020-05-28_subset.csv', 'TwitterCOVIDData/neg_bias_datacoronavirus-clean-2020-06-23_subset.csv', 'TwitterCOVIDData/neg_bias_datacoronavirus-clean-2020-07-16_subset.csv', 'TwitterCOVIDData/neg_bias_datacoronavirus-clean-2020-07-30_subset.csv', 'TwitterCOVIDData/neg_bias_datacoronavirus-clean-2020-08-29_subset.csv', 'TwitterCOVIDData/neg_bias_datacoronavirus-clean-2020-09-20_subset.csv', 'TwitterCOVIDData/neg_bias_datacoronavirus-clean-2020-09-21_subset.csv', 'TwitterCOVIDData/neg_bias_datacoronavirus-clean-2020-11-03_subset.csv', 'TwitterCOVIDData/neg_bias_datacoronavirus-clean-2020-11-29_subset.csv', 'TwitterCOVIDData/neg_bias_datacoronavirus-clean-2020-12-12_subset.csv', 'TwitterCOVIDData/neg_bias_datacoronavirus-clean-2020-12-15_subset.csv', 'TwitterCOVIDData/neg_bias_datacoronavirus-clean-2020-12-30_subset.csv', 'TwitterCOVIDData/neg_bias_datacoronavirus-clean-2021-01-01_subset.csv', 'TwitterCOVIDData/neg_bias_datacoronavirus-clean-2021-01-03_subset.csv', 'TwitterCOVIDData/neg_bias_datacoronavirus-clean-2021-01-16_subset.csv', 'TwitterCOVIDData/neg_bias_datacoronavirus-clean-2021-01-31_subset.csv', 'TwitterCOVIDData/neg_bias_datacoronavirus-clean-2021-02-05_subset.csv', 'TwitterCOVIDData/neg_bias_datacoronavirus-clean-2021-02-14_subset.csv', 'TwitterCOVIDData/neg_bias_datacoronavirus-clean-2021-03-14_subset.csv', 'TwitterCOVIDData/neg_bias_datacoronavirus-clean-2021-05-05_subset.csv', 'TwitterCOVIDData/neg_bias_datacoronavirus-clean-2021-05-26_subset.csv', 'TwitterCOVIDData/neg_bias_datacoronavirus-clean-2021-06-15_subset.csv', 'TwitterCOVIDData/neg_bias_datacoronavirus-clean-2021-06-17_subset.csv', 'TwitterCOVIDData/neg_bias_datacoronavirus-clean-2021-06-20_subset.csv', 'TwitterCOVIDData/neg_bias_datacoronavirus-clean-2021-07-17_subset.csv', 'TwitterCOVIDData/neg_bias_datacoronavirus-clean-2021-07-27_subset.csv', 'TwitterCOVIDData/neg_bias_datacoronavirus-clean-2021-09-29_subset.csv']\n"
          ]
        },
        {
          "output_type": "stream",
          "name": "stderr",
          "text": [
            "<ipython-input-6-29678712da28>:11: DtypeWarning: Columns (17) have mixed types. Specify dtype option on import or set low_memory=False.\n",
            "  data=pd.concat([pd.read_csv(file,lineterminator='\\n') for file in files[:10]])\n",
            "<ipython-input-6-29678712da28>:11: DtypeWarning: Columns (17) have mixed types. Specify dtype option on import or set low_memory=False.\n",
            "  data=pd.concat([pd.read_csv(file,lineterminator='\\n') for file in files[:10]])\n",
            "<ipython-input-6-29678712da28>:11: DtypeWarning: Columns (0,1,2,3,4,5,6,7,8,9,10,11,12,13,14,15,16,17,18,19,20,21,22,23,24,25,26,27,28,29,30,31,32,33,34,35,36,37,38,40,41,42,44,47,48,49,50,51,52,53,54,56,57,58,59,60,61,62,63,64,65,66,67,68,69,70,71,72,73,74) have mixed types. Specify dtype option on import or set low_memory=False.\n",
            "  data=pd.concat([pd.read_csv(file,lineterminator='\\n') for file in files[:10]])\n",
            "<ipython-input-6-29678712da28>:11: DtypeWarning: Columns (17) have mixed types. Specify dtype option on import or set low_memory=False.\n",
            "  data=pd.concat([pd.read_csv(file,lineterminator='\\n') for file in files[:10]])\n",
            "<ipython-input-6-29678712da28>:11: DtypeWarning: Columns (0,1,18,20,22,23,24,25,26,27,44,47,50,56,57,58) have mixed types. Specify dtype option on import or set low_memory=False.\n",
            "  data=pd.concat([pd.read_csv(file,lineterminator='\\n') for file in files[:10]])\n"
          ]
        },
        {
          "output_type": "error",
          "ename": "TypeError",
          "evalue": "ignored",
          "traceback": [
            "\u001b[0;31m---------------------------------------------------------------------------\u001b[0m",
            "\u001b[0;31mTypeError\u001b[0m                                 Traceback (most recent call last)",
            "\u001b[0;32m/usr/local/lib/python3.10/dist-packages/numpy/core/fromnumeric.py\u001b[0m in \u001b[0;36m_wrapfunc\u001b[0;34m(obj, method, *args, **kwds)\u001b[0m\n\u001b[1;32m     56\u001b[0m     \u001b[0;32mtry\u001b[0m\u001b[0;34m:\u001b[0m\u001b[0;34m\u001b[0m\u001b[0;34m\u001b[0m\u001b[0m\n\u001b[0;32m---> 57\u001b[0;31m         \u001b[0;32mreturn\u001b[0m \u001b[0mbound\u001b[0m\u001b[0;34m(\u001b[0m\u001b[0;34m*\u001b[0m\u001b[0margs\u001b[0m\u001b[0;34m,\u001b[0m \u001b[0;34m**\u001b[0m\u001b[0mkwds\u001b[0m\u001b[0;34m)\u001b[0m\u001b[0;34m\u001b[0m\u001b[0;34m\u001b[0m\u001b[0m\n\u001b[0m\u001b[1;32m     58\u001b[0m     \u001b[0;32mexcept\u001b[0m \u001b[0mTypeError\u001b[0m\u001b[0;34m:\u001b[0m\u001b[0;34m\u001b[0m\u001b[0;34m\u001b[0m\u001b[0m\n",
            "\u001b[0;31mTypeError\u001b[0m: '<' not supported between instances of 'str' and 'float'",
            "\nDuring handling of the above exception, another exception occurred:\n",
            "\u001b[0;31mTypeError\u001b[0m                                 Traceback (most recent call last)",
            "\u001b[0;32m<ipython-input-6-29678712da28>\u001b[0m in \u001b[0;36m<cell line: 14>\u001b[0;34m()\u001b[0m\n\u001b[1;32m     12\u001b[0m \u001b[0mdata_test\u001b[0m \u001b[0;34m=\u001b[0m \u001b[0mdata\u001b[0m\u001b[0;34m[\u001b[0m\u001b[0;34m[\u001b[0m\u001b[0;34m'sent_vader'\u001b[0m\u001b[0;34m,\u001b[0m\u001b[0;34m'harm_tweet'\u001b[0m\u001b[0;34m]\u001b[0m\u001b[0;34m]\u001b[0m\u001b[0;34m.\u001b[0m\u001b[0mdropna\u001b[0m\u001b[0;34m(\u001b[0m\u001b[0;34m)\u001b[0m\u001b[0;34m\u001b[0m\u001b[0;34m\u001b[0m\u001b[0m\n\u001b[1;32m     13\u001b[0m \u001b[0mdata_test\u001b[0m \u001b[0;34m=\u001b[0m \u001b[0mdata_test\u001b[0m\u001b[0;34m[\u001b[0m\u001b[0mpd\u001b[0m\u001b[0;34m.\u001b[0m\u001b[0mto_numeric\u001b[0m\u001b[0;34m(\u001b[0m\u001b[0mdata_test\u001b[0m\u001b[0;34m[\u001b[0m\u001b[0;34m'sent_vader'\u001b[0m\u001b[0;34m]\u001b[0m\u001b[0;34m,\u001b[0m \u001b[0merrors\u001b[0m\u001b[0;34m=\u001b[0m\u001b[0;34m'coerce'\u001b[0m\u001b[0;34m)\u001b[0m\u001b[0;34m.\u001b[0m\u001b[0mnotnull\u001b[0m\u001b[0;34m(\u001b[0m\u001b[0;34m)\u001b[0m\u001b[0;34m]\u001b[0m\u001b[0;34m\u001b[0m\u001b[0;34m\u001b[0m\u001b[0m\n\u001b[0;32m---> 14\u001b[0;31m \u001b[0mspearmanr\u001b[0m\u001b[0;34m(\u001b[0m\u001b[0mdata_test\u001b[0m\u001b[0;34m[\u001b[0m\u001b[0;34m'sent_vader'\u001b[0m\u001b[0;34m]\u001b[0m\u001b[0;34m,\u001b[0m\u001b[0mdata_test\u001b[0m\u001b[0;34m[\u001b[0m\u001b[0;34m'harm_tweet'\u001b[0m\u001b[0;34m]\u001b[0m\u001b[0;34m)\u001b[0m\u001b[0;34m\u001b[0m\u001b[0;34m\u001b[0m\u001b[0m\n\u001b[0m\u001b[1;32m     15\u001b[0m \u001b[0;31m#tweet_stats = pd.concat([pd.read_csv(data_dir+'neg_bias_datacoronavirus-clean-'+str(year)+'-'+str(month).zfill(2)+'-'+str(day).zfill(2)+'_subset.csv') for day in range(21,32)])\u001b[0m\u001b[0;34m\u001b[0m\u001b[0;34m\u001b[0m\u001b[0m\n\u001b[1;32m     16\u001b[0m \u001b[0;31m#tweet_stats = tweet_stats.reset_index()\u001b[0m\u001b[0;34m\u001b[0m\u001b[0;34m\u001b[0m\u001b[0m\n",
            "\u001b[0;32m/usr/local/lib/python3.10/dist-packages/scipy/stats/_stats_py.py\u001b[0m in \u001b[0;36mspearmanr\u001b[0;34m(a, b, axis, nan_policy, alternative)\u001b[0m\n\u001b[1;32m   5472\u001b[0m                 \u001b[0mvariable_has_nan\u001b[0m \u001b[0;34m=\u001b[0m \u001b[0mnp\u001b[0m\u001b[0;34m.\u001b[0m\u001b[0misnan\u001b[0m\u001b[0;34m(\u001b[0m\u001b[0ma\u001b[0m\u001b[0;34m)\u001b[0m\u001b[0;34m.\u001b[0m\u001b[0many\u001b[0m\u001b[0;34m(\u001b[0m\u001b[0maxis\u001b[0m\u001b[0;34m=\u001b[0m\u001b[0maxisout\u001b[0m\u001b[0;34m)\u001b[0m\u001b[0;34m\u001b[0m\u001b[0;34m\u001b[0m\u001b[0m\n\u001b[1;32m   5473\u001b[0m \u001b[0;34m\u001b[0m\u001b[0m\n\u001b[0;32m-> 5474\u001b[0;31m     \u001b[0ma_ranked\u001b[0m \u001b[0;34m=\u001b[0m \u001b[0mnp\u001b[0m\u001b[0;34m.\u001b[0m\u001b[0mapply_along_axis\u001b[0m\u001b[0;34m(\u001b[0m\u001b[0mrankdata\u001b[0m\u001b[0;34m,\u001b[0m \u001b[0maxisout\u001b[0m\u001b[0;34m,\u001b[0m \u001b[0ma\u001b[0m\u001b[0;34m)\u001b[0m\u001b[0;34m\u001b[0m\u001b[0;34m\u001b[0m\u001b[0m\n\u001b[0m\u001b[1;32m   5475\u001b[0m     \u001b[0mrs\u001b[0m \u001b[0;34m=\u001b[0m \u001b[0mnp\u001b[0m\u001b[0;34m.\u001b[0m\u001b[0mcorrcoef\u001b[0m\u001b[0;34m(\u001b[0m\u001b[0ma_ranked\u001b[0m\u001b[0;34m,\u001b[0m \u001b[0mrowvar\u001b[0m\u001b[0;34m=\u001b[0m\u001b[0maxisout\u001b[0m\u001b[0;34m)\u001b[0m\u001b[0;34m\u001b[0m\u001b[0;34m\u001b[0m\u001b[0m\n\u001b[1;32m   5476\u001b[0m     \u001b[0mdof\u001b[0m \u001b[0;34m=\u001b[0m \u001b[0mn_obs\u001b[0m \u001b[0;34m-\u001b[0m \u001b[0;36m2\u001b[0m  \u001b[0;31m# degrees of freedom\u001b[0m\u001b[0;34m\u001b[0m\u001b[0;34m\u001b[0m\u001b[0m\n",
            "\u001b[0;32m/usr/local/lib/python3.10/dist-packages/numpy/core/overrides.py\u001b[0m in \u001b[0;36mapply_along_axis\u001b[0;34m(*args, **kwargs)\u001b[0m\n",
            "\u001b[0;32m/usr/local/lib/python3.10/dist-packages/numpy/lib/shape_base.py\u001b[0m in \u001b[0;36mapply_along_axis\u001b[0;34m(func1d, axis, arr, *args, **kwargs)\u001b[0m\n\u001b[1;32m    377\u001b[0m             \u001b[0;34m'Cannot apply_along_axis when any iteration dimensions are 0'\u001b[0m\u001b[0;34m\u001b[0m\u001b[0;34m\u001b[0m\u001b[0m\n\u001b[1;32m    378\u001b[0m         ) from None\n\u001b[0;32m--> 379\u001b[0;31m     \u001b[0mres\u001b[0m \u001b[0;34m=\u001b[0m \u001b[0masanyarray\u001b[0m\u001b[0;34m(\u001b[0m\u001b[0mfunc1d\u001b[0m\u001b[0;34m(\u001b[0m\u001b[0minarr_view\u001b[0m\u001b[0;34m[\u001b[0m\u001b[0mind0\u001b[0m\u001b[0;34m]\u001b[0m\u001b[0;34m,\u001b[0m \u001b[0;34m*\u001b[0m\u001b[0margs\u001b[0m\u001b[0;34m,\u001b[0m \u001b[0;34m**\u001b[0m\u001b[0mkwargs\u001b[0m\u001b[0;34m)\u001b[0m\u001b[0;34m)\u001b[0m\u001b[0;34m\u001b[0m\u001b[0;34m\u001b[0m\u001b[0m\n\u001b[0m\u001b[1;32m    380\u001b[0m \u001b[0;34m\u001b[0m\u001b[0m\n\u001b[1;32m    381\u001b[0m     \u001b[0;31m# build a buffer for storing evaluations of func1d.\u001b[0m\u001b[0;34m\u001b[0m\u001b[0;34m\u001b[0m\u001b[0m\n",
            "\u001b[0;32m/usr/local/lib/python3.10/dist-packages/scipy/stats/_stats_py.py\u001b[0m in \u001b[0;36mrankdata\u001b[0;34m(a, method, axis, nan_policy)\u001b[0m\n\u001b[1;32m  10234\u001b[0m \u001b[0;34m\u001b[0m\u001b[0m\n\u001b[1;32m  10235\u001b[0m     \u001b[0malgo\u001b[0m \u001b[0;34m=\u001b[0m \u001b[0;34m'mergesort'\u001b[0m \u001b[0;32mif\u001b[0m \u001b[0mmethod\u001b[0m \u001b[0;34m==\u001b[0m \u001b[0;34m'ordinal'\u001b[0m \u001b[0;32melse\u001b[0m \u001b[0;34m'quicksort'\u001b[0m\u001b[0;34m\u001b[0m\u001b[0;34m\u001b[0m\u001b[0m\n\u001b[0;32m> 10236\u001b[0;31m     \u001b[0msorter\u001b[0m \u001b[0;34m=\u001b[0m \u001b[0mnp\u001b[0m\u001b[0;34m.\u001b[0m\u001b[0margsort\u001b[0m\u001b[0;34m(\u001b[0m\u001b[0marr\u001b[0m\u001b[0;34m,\u001b[0m \u001b[0mkind\u001b[0m\u001b[0;34m=\u001b[0m\u001b[0malgo\u001b[0m\u001b[0;34m)\u001b[0m\u001b[0;34m\u001b[0m\u001b[0;34m\u001b[0m\u001b[0m\n\u001b[0m\u001b[1;32m  10237\u001b[0m \u001b[0;34m\u001b[0m\u001b[0m\n\u001b[1;32m  10238\u001b[0m     \u001b[0minv\u001b[0m \u001b[0;34m=\u001b[0m \u001b[0mnp\u001b[0m\u001b[0;34m.\u001b[0m\u001b[0mempty\u001b[0m\u001b[0;34m(\u001b[0m\u001b[0msorter\u001b[0m\u001b[0;34m.\u001b[0m\u001b[0msize\u001b[0m\u001b[0;34m,\u001b[0m \u001b[0mdtype\u001b[0m\u001b[0;34m=\u001b[0m\u001b[0mnp\u001b[0m\u001b[0;34m.\u001b[0m\u001b[0mintp\u001b[0m\u001b[0;34m)\u001b[0m\u001b[0;34m\u001b[0m\u001b[0;34m\u001b[0m\u001b[0m\n",
            "\u001b[0;32m/usr/local/lib/python3.10/dist-packages/numpy/core/overrides.py\u001b[0m in \u001b[0;36margsort\u001b[0;34m(*args, **kwargs)\u001b[0m\n",
            "\u001b[0;32m/usr/local/lib/python3.10/dist-packages/numpy/core/fromnumeric.py\u001b[0m in \u001b[0;36margsort\u001b[0;34m(a, axis, kind, order)\u001b[0m\n\u001b[1;32m   1118\u001b[0m \u001b[0;34m\u001b[0m\u001b[0m\n\u001b[1;32m   1119\u001b[0m     \"\"\"\n\u001b[0;32m-> 1120\u001b[0;31m     \u001b[0;32mreturn\u001b[0m \u001b[0m_wrapfunc\u001b[0m\u001b[0;34m(\u001b[0m\u001b[0ma\u001b[0m\u001b[0;34m,\u001b[0m \u001b[0;34m'argsort'\u001b[0m\u001b[0;34m,\u001b[0m \u001b[0maxis\u001b[0m\u001b[0;34m=\u001b[0m\u001b[0maxis\u001b[0m\u001b[0;34m,\u001b[0m \u001b[0mkind\u001b[0m\u001b[0;34m=\u001b[0m\u001b[0mkind\u001b[0m\u001b[0;34m,\u001b[0m \u001b[0morder\u001b[0m\u001b[0;34m=\u001b[0m\u001b[0morder\u001b[0m\u001b[0;34m)\u001b[0m\u001b[0;34m\u001b[0m\u001b[0;34m\u001b[0m\u001b[0m\n\u001b[0m\u001b[1;32m   1121\u001b[0m \u001b[0;34m\u001b[0m\u001b[0m\n\u001b[1;32m   1122\u001b[0m \u001b[0;34m\u001b[0m\u001b[0m\n",
            "\u001b[0;32m/usr/local/lib/python3.10/dist-packages/numpy/core/fromnumeric.py\u001b[0m in \u001b[0;36m_wrapfunc\u001b[0;34m(obj, method, *args, **kwds)\u001b[0m\n\u001b[1;32m     64\u001b[0m         \u001b[0;31m# Call _wrapit from within the except clause to ensure a potential\u001b[0m\u001b[0;34m\u001b[0m\u001b[0;34m\u001b[0m\u001b[0m\n\u001b[1;32m     65\u001b[0m         \u001b[0;31m# exception has a traceback chain.\u001b[0m\u001b[0;34m\u001b[0m\u001b[0;34m\u001b[0m\u001b[0m\n\u001b[0;32m---> 66\u001b[0;31m         \u001b[0;32mreturn\u001b[0m \u001b[0m_wrapit\u001b[0m\u001b[0;34m(\u001b[0m\u001b[0mobj\u001b[0m\u001b[0;34m,\u001b[0m \u001b[0mmethod\u001b[0m\u001b[0;34m,\u001b[0m \u001b[0;34m*\u001b[0m\u001b[0margs\u001b[0m\u001b[0;34m,\u001b[0m \u001b[0;34m**\u001b[0m\u001b[0mkwds\u001b[0m\u001b[0;34m)\u001b[0m\u001b[0;34m\u001b[0m\u001b[0;34m\u001b[0m\u001b[0m\n\u001b[0m\u001b[1;32m     67\u001b[0m \u001b[0;34m\u001b[0m\u001b[0m\n\u001b[1;32m     68\u001b[0m \u001b[0;34m\u001b[0m\u001b[0m\n",
            "\u001b[0;32m/usr/local/lib/python3.10/dist-packages/numpy/core/fromnumeric.py\u001b[0m in \u001b[0;36m_wrapit\u001b[0;34m(obj, method, *args, **kwds)\u001b[0m\n\u001b[1;32m     41\u001b[0m     \u001b[0;32mexcept\u001b[0m \u001b[0mAttributeError\u001b[0m\u001b[0;34m:\u001b[0m\u001b[0;34m\u001b[0m\u001b[0;34m\u001b[0m\u001b[0m\n\u001b[1;32m     42\u001b[0m         \u001b[0mwrap\u001b[0m \u001b[0;34m=\u001b[0m \u001b[0;32mNone\u001b[0m\u001b[0;34m\u001b[0m\u001b[0;34m\u001b[0m\u001b[0m\n\u001b[0;32m---> 43\u001b[0;31m     \u001b[0mresult\u001b[0m \u001b[0;34m=\u001b[0m \u001b[0mgetattr\u001b[0m\u001b[0;34m(\u001b[0m\u001b[0masarray\u001b[0m\u001b[0;34m(\u001b[0m\u001b[0mobj\u001b[0m\u001b[0;34m)\u001b[0m\u001b[0;34m,\u001b[0m \u001b[0mmethod\u001b[0m\u001b[0;34m)\u001b[0m\u001b[0;34m(\u001b[0m\u001b[0;34m*\u001b[0m\u001b[0margs\u001b[0m\u001b[0;34m,\u001b[0m \u001b[0;34m**\u001b[0m\u001b[0mkwds\u001b[0m\u001b[0;34m)\u001b[0m\u001b[0;34m\u001b[0m\u001b[0;34m\u001b[0m\u001b[0m\n\u001b[0m\u001b[1;32m     44\u001b[0m     \u001b[0;32mif\u001b[0m \u001b[0mwrap\u001b[0m\u001b[0;34m:\u001b[0m\u001b[0;34m\u001b[0m\u001b[0;34m\u001b[0m\u001b[0m\n\u001b[1;32m     45\u001b[0m         \u001b[0;32mif\u001b[0m \u001b[0;32mnot\u001b[0m \u001b[0misinstance\u001b[0m\u001b[0;34m(\u001b[0m\u001b[0mresult\u001b[0m\u001b[0;34m,\u001b[0m \u001b[0mmu\u001b[0m\u001b[0;34m.\u001b[0m\u001b[0mndarray\u001b[0m\u001b[0;34m)\u001b[0m\u001b[0;34m:\u001b[0m\u001b[0;34m\u001b[0m\u001b[0;34m\u001b[0m\u001b[0m\n",
            "\u001b[0;31mTypeError\u001b[0m: '<' not supported between instances of 'str' and 'float'"
          ]
        }
      ]
    },
    {
      "cell_type": "code",
      "source": [
        "spearmanr(data_test['sent_vader'].astype(float),data_test['harm_tweet'].astype(float))"
      ],
      "metadata": {
        "colab": {
          "base_uri": "https://localhost:8080/"
        },
        "id": "CZzxkV3FaMGs",
        "outputId": "919aa43b-b7e9-4847-828e-d661abcbb2c8"
      },
      "execution_count": null,
      "outputs": [
        {
          "output_type": "execute_result",
          "data": {
            "text/plain": [
              "SignificanceResult(statistic=-0.1911084217986515, pvalue=0.0)"
            ]
          },
          "metadata": {},
          "execution_count": 17
        }
      ]
    },
    {
      "cell_type": "code",
      "source": [
        "#spearmanr(data_test['sent_vader'].astype(float),data_test['harm_tweet'].astype(float))\n",
        "# create emotion model: https://github.com/gchochla/Demux-MEmo\n"
      ],
      "metadata": {
        "id": "KE10KCKUmOlB"
      },
      "execution_count": null,
      "outputs": []
    },
    {
      "cell_type": "code",
      "source": [
        "data_test.loc[[str(s) is not 'nan' and str(h) is not 'nan' for s,h in data_test.values]]"
      ],
      "metadata": {
        "id": "Ze4DMO4QSLIJ",
        "colab": {
          "base_uri": "https://localhost:8080/",
          "height": 567
        },
        "outputId": "1a71e277-2352-4e13-8616-9aa5791df66b"
      },
      "execution_count": null,
      "outputs": [
        {
          "output_type": "stream",
          "name": "stderr",
          "text": [
            "<>:1: SyntaxWarning: \"is not\" with a literal. Did you mean \"!=\"?\n",
            "<>:1: SyntaxWarning: \"is not\" with a literal. Did you mean \"!=\"?\n",
            "<>:1: SyntaxWarning: \"is not\" with a literal. Did you mean \"!=\"?\n",
            "<>:1: SyntaxWarning: \"is not\" with a literal. Did you mean \"!=\"?\n",
            "<ipython-input-16-8eab1300e1f2>:1: SyntaxWarning: \"is not\" with a literal. Did you mean \"!=\"?\n",
            "  data_test.loc[[str(s) is not 'nan' and str(h) is not 'nan' for s,h in data_test.values]]\n",
            "<ipython-input-16-8eab1300e1f2>:1: SyntaxWarning: \"is not\" with a literal. Did you mean \"!=\"?\n",
            "  data_test.loc[[str(s) is not 'nan' and str(h) is not 'nan' for s,h in data_test.values]]\n"
          ]
        },
        {
          "output_type": "execute_result",
          "data": {
            "text/plain": [
              "      sent_vader  harm_tweet\n",
              "0         0.6407    0.548819\n",
              "1            0.0    0.422119\n",
              "2        -0.3818    0.678057\n",
              "3        -0.4939    0.642452\n",
              "4            0.0    0.500000\n",
              "...          ...         ...\n",
              "54806     -0.296    0.614809\n",
              "54807        0.0    0.441974\n",
              "54808        0.0    0.286926\n",
              "54809        0.0    0.328656\n",
              "54810     0.0772    0.607698\n",
              "\n",
              "[407400 rows x 2 columns]"
            ],
            "text/html": [
              "\n",
              "  <div id=\"df-2e082043-7156-4a6a-b8d4-889d5024c4b0\" class=\"colab-df-container\">\n",
              "    <div>\n",
              "<style scoped>\n",
              "    .dataframe tbody tr th:only-of-type {\n",
              "        vertical-align: middle;\n",
              "    }\n",
              "\n",
              "    .dataframe tbody tr th {\n",
              "        vertical-align: top;\n",
              "    }\n",
              "\n",
              "    .dataframe thead th {\n",
              "        text-align: right;\n",
              "    }\n",
              "</style>\n",
              "<table border=\"1\" class=\"dataframe\">\n",
              "  <thead>\n",
              "    <tr style=\"text-align: right;\">\n",
              "      <th></th>\n",
              "      <th>sent_vader</th>\n",
              "      <th>harm_tweet</th>\n",
              "    </tr>\n",
              "  </thead>\n",
              "  <tbody>\n",
              "    <tr>\n",
              "      <th>0</th>\n",
              "      <td>0.6407</td>\n",
              "      <td>0.548819</td>\n",
              "    </tr>\n",
              "    <tr>\n",
              "      <th>1</th>\n",
              "      <td>0.0</td>\n",
              "      <td>0.422119</td>\n",
              "    </tr>\n",
              "    <tr>\n",
              "      <th>2</th>\n",
              "      <td>-0.3818</td>\n",
              "      <td>0.678057</td>\n",
              "    </tr>\n",
              "    <tr>\n",
              "      <th>3</th>\n",
              "      <td>-0.4939</td>\n",
              "      <td>0.642452</td>\n",
              "    </tr>\n",
              "    <tr>\n",
              "      <th>4</th>\n",
              "      <td>0.0</td>\n",
              "      <td>0.500000</td>\n",
              "    </tr>\n",
              "    <tr>\n",
              "      <th>...</th>\n",
              "      <td>...</td>\n",
              "      <td>...</td>\n",
              "    </tr>\n",
              "    <tr>\n",
              "      <th>54806</th>\n",
              "      <td>-0.296</td>\n",
              "      <td>0.614809</td>\n",
              "    </tr>\n",
              "    <tr>\n",
              "      <th>54807</th>\n",
              "      <td>0.0</td>\n",
              "      <td>0.441974</td>\n",
              "    </tr>\n",
              "    <tr>\n",
              "      <th>54808</th>\n",
              "      <td>0.0</td>\n",
              "      <td>0.286926</td>\n",
              "    </tr>\n",
              "    <tr>\n",
              "      <th>54809</th>\n",
              "      <td>0.0</td>\n",
              "      <td>0.328656</td>\n",
              "    </tr>\n",
              "    <tr>\n",
              "      <th>54810</th>\n",
              "      <td>0.0772</td>\n",
              "      <td>0.607698</td>\n",
              "    </tr>\n",
              "  </tbody>\n",
              "</table>\n",
              "<p>407400 rows × 2 columns</p>\n",
              "</div>\n",
              "    <div class=\"colab-df-buttons\">\n",
              "\n",
              "  <div class=\"colab-df-container\">\n",
              "    <button class=\"colab-df-convert\" onclick=\"convertToInteractive('df-2e082043-7156-4a6a-b8d4-889d5024c4b0')\"\n",
              "            title=\"Convert this dataframe to an interactive table.\"\n",
              "            style=\"display:none;\">\n",
              "\n",
              "  <svg xmlns=\"http://www.w3.org/2000/svg\" height=\"24px\" viewBox=\"0 -960 960 960\">\n",
              "    <path d=\"M120-120v-720h720v720H120Zm60-500h600v-160H180v160Zm220 220h160v-160H400v160Zm0 220h160v-160H400v160ZM180-400h160v-160H180v160Zm440 0h160v-160H620v160ZM180-180h160v-160H180v160Zm440 0h160v-160H620v160Z\"/>\n",
              "  </svg>\n",
              "    </button>\n",
              "\n",
              "  <style>\n",
              "    .colab-df-container {\n",
              "      display:flex;\n",
              "      gap: 12px;\n",
              "    }\n",
              "\n",
              "    .colab-df-convert {\n",
              "      background-color: #E8F0FE;\n",
              "      border: none;\n",
              "      border-radius: 50%;\n",
              "      cursor: pointer;\n",
              "      display: none;\n",
              "      fill: #1967D2;\n",
              "      height: 32px;\n",
              "      padding: 0 0 0 0;\n",
              "      width: 32px;\n",
              "    }\n",
              "\n",
              "    .colab-df-convert:hover {\n",
              "      background-color: #E2EBFA;\n",
              "      box-shadow: 0px 1px 2px rgba(60, 64, 67, 0.3), 0px 1px 3px 1px rgba(60, 64, 67, 0.15);\n",
              "      fill: #174EA6;\n",
              "    }\n",
              "\n",
              "    .colab-df-buttons div {\n",
              "      margin-bottom: 4px;\n",
              "    }\n",
              "\n",
              "    [theme=dark] .colab-df-convert {\n",
              "      background-color: #3B4455;\n",
              "      fill: #D2E3FC;\n",
              "    }\n",
              "\n",
              "    [theme=dark] .colab-df-convert:hover {\n",
              "      background-color: #434B5C;\n",
              "      box-shadow: 0px 1px 3px 1px rgba(0, 0, 0, 0.15);\n",
              "      filter: drop-shadow(0px 1px 2px rgba(0, 0, 0, 0.3));\n",
              "      fill: #FFFFFF;\n",
              "    }\n",
              "  </style>\n",
              "\n",
              "    <script>\n",
              "      const buttonEl =\n",
              "        document.querySelector('#df-2e082043-7156-4a6a-b8d4-889d5024c4b0 button.colab-df-convert');\n",
              "      buttonEl.style.display =\n",
              "        google.colab.kernel.accessAllowed ? 'block' : 'none';\n",
              "\n",
              "      async function convertToInteractive(key) {\n",
              "        const element = document.querySelector('#df-2e082043-7156-4a6a-b8d4-889d5024c4b0');\n",
              "        const dataTable =\n",
              "          await google.colab.kernel.invokeFunction('convertToInteractive',\n",
              "                                                    [key], {});\n",
              "        if (!dataTable) return;\n",
              "\n",
              "        const docLinkHtml = 'Like what you see? Visit the ' +\n",
              "          '<a target=\"_blank\" href=https://colab.research.google.com/notebooks/data_table.ipynb>data table notebook</a>'\n",
              "          + ' to learn more about interactive tables.';\n",
              "        element.innerHTML = '';\n",
              "        dataTable['output_type'] = 'display_data';\n",
              "        await google.colab.output.renderOutput(dataTable, element);\n",
              "        const docLink = document.createElement('div');\n",
              "        docLink.innerHTML = docLinkHtml;\n",
              "        element.appendChild(docLink);\n",
              "      }\n",
              "    </script>\n",
              "  </div>\n",
              "\n",
              "\n",
              "<div id=\"df-f08ec707-e9e2-498d-aca0-f44dc4537a87\">\n",
              "  <button class=\"colab-df-quickchart\" onclick=\"quickchart('df-f08ec707-e9e2-498d-aca0-f44dc4537a87')\"\n",
              "            title=\"Suggest charts\"\n",
              "            style=\"display:none;\">\n",
              "\n",
              "<svg xmlns=\"http://www.w3.org/2000/svg\" height=\"24px\"viewBox=\"0 0 24 24\"\n",
              "     width=\"24px\">\n",
              "    <g>\n",
              "        <path d=\"M19 3H5c-1.1 0-2 .9-2 2v14c0 1.1.9 2 2 2h14c1.1 0 2-.9 2-2V5c0-1.1-.9-2-2-2zM9 17H7v-7h2v7zm4 0h-2V7h2v10zm4 0h-2v-4h2v4z\"/>\n",
              "    </g>\n",
              "</svg>\n",
              "  </button>\n",
              "\n",
              "<style>\n",
              "  .colab-df-quickchart {\n",
              "      --bg-color: #E8F0FE;\n",
              "      --fill-color: #1967D2;\n",
              "      --hover-bg-color: #E2EBFA;\n",
              "      --hover-fill-color: #174EA6;\n",
              "      --disabled-fill-color: #AAA;\n",
              "      --disabled-bg-color: #DDD;\n",
              "  }\n",
              "\n",
              "  [theme=dark] .colab-df-quickchart {\n",
              "      --bg-color: #3B4455;\n",
              "      --fill-color: #D2E3FC;\n",
              "      --hover-bg-color: #434B5C;\n",
              "      --hover-fill-color: #FFFFFF;\n",
              "      --disabled-bg-color: #3B4455;\n",
              "      --disabled-fill-color: #666;\n",
              "  }\n",
              "\n",
              "  .colab-df-quickchart {\n",
              "    background-color: var(--bg-color);\n",
              "    border: none;\n",
              "    border-radius: 50%;\n",
              "    cursor: pointer;\n",
              "    display: none;\n",
              "    fill: var(--fill-color);\n",
              "    height: 32px;\n",
              "    padding: 0;\n",
              "    width: 32px;\n",
              "  }\n",
              "\n",
              "  .colab-df-quickchart:hover {\n",
              "    background-color: var(--hover-bg-color);\n",
              "    box-shadow: 0 1px 2px rgba(60, 64, 67, 0.3), 0 1px 3px 1px rgba(60, 64, 67, 0.15);\n",
              "    fill: var(--button-hover-fill-color);\n",
              "  }\n",
              "\n",
              "  .colab-df-quickchart-complete:disabled,\n",
              "  .colab-df-quickchart-complete:disabled:hover {\n",
              "    background-color: var(--disabled-bg-color);\n",
              "    fill: var(--disabled-fill-color);\n",
              "    box-shadow: none;\n",
              "  }\n",
              "\n",
              "  .colab-df-spinner {\n",
              "    border: 2px solid var(--fill-color);\n",
              "    border-color: transparent;\n",
              "    border-bottom-color: var(--fill-color);\n",
              "    animation:\n",
              "      spin 1s steps(1) infinite;\n",
              "  }\n",
              "\n",
              "  @keyframes spin {\n",
              "    0% {\n",
              "      border-color: transparent;\n",
              "      border-bottom-color: var(--fill-color);\n",
              "      border-left-color: var(--fill-color);\n",
              "    }\n",
              "    20% {\n",
              "      border-color: transparent;\n",
              "      border-left-color: var(--fill-color);\n",
              "      border-top-color: var(--fill-color);\n",
              "    }\n",
              "    30% {\n",
              "      border-color: transparent;\n",
              "      border-left-color: var(--fill-color);\n",
              "      border-top-color: var(--fill-color);\n",
              "      border-right-color: var(--fill-color);\n",
              "    }\n",
              "    40% {\n",
              "      border-color: transparent;\n",
              "      border-right-color: var(--fill-color);\n",
              "      border-top-color: var(--fill-color);\n",
              "    }\n",
              "    60% {\n",
              "      border-color: transparent;\n",
              "      border-right-color: var(--fill-color);\n",
              "    }\n",
              "    80% {\n",
              "      border-color: transparent;\n",
              "      border-right-color: var(--fill-color);\n",
              "      border-bottom-color: var(--fill-color);\n",
              "    }\n",
              "    90% {\n",
              "      border-color: transparent;\n",
              "      border-bottom-color: var(--fill-color);\n",
              "    }\n",
              "  }\n",
              "</style>\n",
              "\n",
              "  <script>\n",
              "    async function quickchart(key) {\n",
              "      const quickchartButtonEl =\n",
              "        document.querySelector('#' + key + ' button');\n",
              "      quickchartButtonEl.disabled = true;  // To prevent multiple clicks.\n",
              "      quickchartButtonEl.classList.add('colab-df-spinner');\n",
              "      try {\n",
              "        const charts = await google.colab.kernel.invokeFunction(\n",
              "            'suggestCharts', [key], {});\n",
              "      } catch (error) {\n",
              "        console.error('Error during call to suggestCharts:', error);\n",
              "      }\n",
              "      quickchartButtonEl.classList.remove('colab-df-spinner');\n",
              "      quickchartButtonEl.classList.add('colab-df-quickchart-complete');\n",
              "    }\n",
              "    (() => {\n",
              "      let quickchartButtonEl =\n",
              "        document.querySelector('#df-f08ec707-e9e2-498d-aca0-f44dc4537a87 button');\n",
              "      quickchartButtonEl.style.display =\n",
              "        google.colab.kernel.accessAllowed ? 'block' : 'none';\n",
              "    })();\n",
              "  </script>\n",
              "</div>\n",
              "    </div>\n",
              "  </div>\n"
            ]
          },
          "metadata": {},
          "execution_count": 16
        }
      ]
    },
    {
      "cell_type": "code",
      "source": [
        "from scipy.stats import mannwhitneyu\n",
        "matplotlib.rcParams.update({'font.size': 15})\n",
        "labelfonts = {'fontname':'Arial','fontsize':15}\n",
        "\n",
        "fig,ax = plt.subplots(1,1,figsize=(6,6))\n",
        "non_rt_harm = rt_data.loc[~np.isnan(rt_data['rt_polit']) & np.isnan(rt_data['time_since_orig']),['tweet_id','harm_tweet']].drop_duplicates()['harm_tweet'].values\n",
        "rt_harm = rt_data.loc[~np.isnan(rt_data['rt_polit']) & ~np.isnan(rt_data['time_since_orig']),['tweet_id','harm_tweet']].drop_duplicates()['harm_tweet'].values\n",
        "sns.kdeplot(non_rt_harm,color='r',linewidth=3,ax=ax,label='Not Retweeted')\n",
        "sns.kdeplot(rt_harm,color='b',linestyle='--',linewidth=3,ax=ax,label='Retweeted')\n",
        "plt.xlabel('harm')\n",
        "plt.legend(fontsize=15)\n",
        "plt.show()\n",
        "print(mannwhitneyu(rt_harm,non_rt_harm))\n",
        "\n",
        "lib_nort_harm = rt_data.loc[~np.isnan(rt_data['rt_polit']) & np.isnan(rt_data['time_since_orig']) & (rt_data['rt_polit'] < 0.5),['tweet_id','harm_tweet']].drop_duplicates()['harm_tweet'].values\n",
        "cons_nort_harm = rt_data.loc[~np.isnan(rt_data['rt_polit']) & np.isnan(rt_data['time_since_orig']) & (rt_data['rt_polit'] > 0.5),['tweet_id','harm_tweet']].drop_duplicates()['harm_tweet'].values\n",
        "\n",
        "lib_rt_harm = rt_data.loc[~np.isnan(rt_data['rt_polit']) & ~np.isnan(rt_data['time_since_orig']) & (rt_data['rt_polit'] < 0.5),['tweet_id','harm_tweet']].drop_duplicates()['harm_tweet'].values\n",
        "cons_rt_harm = rt_data.loc[~np.isnan(rt_data['rt_polit']) & ~np.isnan(rt_data['time_since_orig']) & (rt_data['rt_polit'] > 0.5),['tweet_id','harm_tweet']].drop_duplicates()['harm_tweet'].values\n",
        "fig,ax = plt.subplots(1,1,figsize=(6,6))\n",
        "sns.kdeplot(lib_nort_harm,color='b',linestyle='-',ax=ax,label='lib nort')\n",
        "sns.kdeplot(cons_nort_harm,color='r',linestyle='--',ax=ax,label='cons nort')\n",
        "\n",
        "sns.kdeplot(lib_rt_harm,color='c',linestyle='-',ax=ax,label='lib rt')\n",
        "sns.kdeplot(cons_rt_harm,color='m',linestyle='--',ax=ax,label='cons rt')\n",
        "plt.xlabel('harm')\n",
        "\n",
        "plt.legend()\n",
        "plt.show()\n",
        "print(mannwhitneyu(lib_rt_harm,cons_rt_harm))\n",
        "\n",
        "fig,ax = plt.subplots(1,1,figsize=(6,6))\n",
        "no_harm = rt_data.loc[~np.isnan(rt_data['rt_polit']) & ~np.isnan(rt_data['time_since_orig']) & (rt_data['harm_tweet'] < 0.5),['tweet_id','rt_polit']].drop_duplicates()['rt_polit'].values\n",
        "harm = rt_data.loc[~np.isnan(rt_data['rt_polit']) & ~np.isnan(rt_data['time_since_orig']) & (rt_data['harm_tweet'] > 0.5),['tweet_id','rt_polit']].drop_duplicates()['rt_polit'].values\n",
        "sns.kdeplot(no_harm,color='m',linestyle='-',ax=ax,label='no harm')\n",
        "sns.kdeplot(harm,color='c',linestyle='--',ax=ax,label='harm')\n",
        "plt.xlabel('partisanship')\n",
        "\n",
        "plt.legend()\n",
        "plt.show()\n",
        "print(mannwhitneyu(no_harm,harm))\n",
        "\n"
      ],
      "metadata": {
        "id": "oJcjKfG0z59D",
        "colab": {
          "base_uri": "https://localhost:8080/",
          "height": 962
        },
        "outputId": "5df11da9-9411-4803-ff00-f82fa5029616"
      },
      "execution_count": null,
      "outputs": [
        {
          "output_type": "stream",
          "name": "stderr",
          "text": [
            "WARNING:matplotlib.legend:No artists with labels found to put in legend.  Note that artists whose label start with an underscore are ignored when legend() is called with no argument.\n"
          ]
        },
        {
          "output_type": "display_data",
          "data": {
            "text/plain": [
              "<Figure size 600x600 with 1 Axes>"
            ],
            "image/png": "[encoded data removed]"
          },
          "metadata": {}
        },
        {
          "output_type": "error",
          "ename": "ValueError",
          "evalue": "ignored",
          "traceback": [
            "\u001b[0;31m---------------------------------------------------------------------------\u001b[0m",
            "\u001b[0;31mValueError\u001b[0m                                Traceback (most recent call last)",
            "\u001b[0;32m<ipython-input-8-10c4869811aa>\u001b[0m in \u001b[0;36m<cell line: 13>\u001b[0;34m()\u001b[0m\n\u001b[1;32m     11\u001b[0m \u001b[0mplt\u001b[0m\u001b[0;34m.\u001b[0m\u001b[0mlegend\u001b[0m\u001b[0;34m(\u001b[0m\u001b[0mfontsize\u001b[0m\u001b[0;34m=\u001b[0m\u001b[0;36m15\u001b[0m\u001b[0;34m)\u001b[0m\u001b[0;34m\u001b[0m\u001b[0;34m\u001b[0m\u001b[0m\n\u001b[1;32m     12\u001b[0m \u001b[0mplt\u001b[0m\u001b[0;34m.\u001b[0m\u001b[0mshow\u001b[0m\u001b[0;34m(\u001b[0m\u001b[0;34m)\u001b[0m\u001b[0;34m\u001b[0m\u001b[0;34m\u001b[0m\u001b[0m\n\u001b[0;32m---> 13\u001b[0;31m \u001b[0mprint\u001b[0m\u001b[0;34m(\u001b[0m\u001b[0mmannwhitneyu\u001b[0m\u001b[0;34m(\u001b[0m\u001b[0mrt_harm\u001b[0m\u001b[0;34m,\u001b[0m\u001b[0mnon_rt_harm\u001b[0m\u001b[0;34m)\u001b[0m\u001b[0;34m)\u001b[0m\u001b[0;34m\u001b[0m\u001b[0;34m\u001b[0m\u001b[0m\n\u001b[0m\u001b[1;32m     14\u001b[0m \u001b[0;34m\u001b[0m\u001b[0m\n\u001b[1;32m     15\u001b[0m \u001b[0mlib_nort_harm\u001b[0m \u001b[0;34m=\u001b[0m \u001b[0mrt_data\u001b[0m\u001b[0;34m.\u001b[0m\u001b[0mloc\u001b[0m\u001b[0;34m[\u001b[0m\u001b[0;34m~\u001b[0m\u001b[0mnp\u001b[0m\u001b[0;34m.\u001b[0m\u001b[0misnan\u001b[0m\u001b[0;34m(\u001b[0m\u001b[0mrt_data\u001b[0m\u001b[0;34m[\u001b[0m\u001b[0;34m'rt_polit'\u001b[0m\u001b[0;34m]\u001b[0m\u001b[0;34m)\u001b[0m \u001b[0;34m&\u001b[0m \u001b[0mnp\u001b[0m\u001b[0;34m.\u001b[0m\u001b[0misnan\u001b[0m\u001b[0;34m(\u001b[0m\u001b[0mrt_data\u001b[0m\u001b[0;34m[\u001b[0m\u001b[0;34m'time_since_orig'\u001b[0m\u001b[0;34m]\u001b[0m\u001b[0;34m)\u001b[0m \u001b[0;34m&\u001b[0m \u001b[0;34m(\u001b[0m\u001b[0mrt_data\u001b[0m\u001b[0;34m[\u001b[0m\u001b[0;34m'rt_polit'\u001b[0m\u001b[0;34m]\u001b[0m \u001b[0;34m<\u001b[0m \u001b[0;36m0.5\u001b[0m\u001b[0;34m)\u001b[0m\u001b[0;34m,\u001b[0m\u001b[0;34m[\u001b[0m\u001b[0;34m'tweet_id'\u001b[0m\u001b[0;34m,\u001b[0m\u001b[0;34m'harm_tweet'\u001b[0m\u001b[0;34m]\u001b[0m\u001b[0;34m]\u001b[0m\u001b[0;34m.\u001b[0m\u001b[0mdrop_duplicates\u001b[0m\u001b[0;34m(\u001b[0m\u001b[0;34m)\u001b[0m\u001b[0;34m[\u001b[0m\u001b[0;34m'harm_tweet'\u001b[0m\u001b[0;34m]\u001b[0m\u001b[0;34m.\u001b[0m\u001b[0mvalues\u001b[0m\u001b[0;34m\u001b[0m\u001b[0;34m\u001b[0m\u001b[0m\n",
            "\u001b[0;32m/usr/local/lib/python3.10/dist-packages/scipy/stats/_axis_nan_policy.py\u001b[0m in \u001b[0;36maxis_nan_policy_wrapper\u001b[0;34m(***failed resolving arguments***)\u001b[0m\n\u001b[1;32m    521\u001b[0m                 \u001b[0;32mif\u001b[0m \u001b[0msentinel\u001b[0m\u001b[0;34m:\u001b[0m\u001b[0;34m\u001b[0m\u001b[0;34m\u001b[0m\u001b[0m\n\u001b[1;32m    522\u001b[0m                     \u001b[0msamples\u001b[0m \u001b[0;34m=\u001b[0m \u001b[0m_remove_sentinel\u001b[0m\u001b[0;34m(\u001b[0m\u001b[0msamples\u001b[0m\u001b[0;34m,\u001b[0m \u001b[0mpaired\u001b[0m\u001b[0;34m,\u001b[0m \u001b[0msentinel\u001b[0m\u001b[0;34m)\u001b[0m\u001b[0;34m\u001b[0m\u001b[0;34m\u001b[0m\u001b[0m\n\u001b[0;32m--> 523\u001b[0;31m                 \u001b[0mres\u001b[0m \u001b[0;34m=\u001b[0m \u001b[0mhypotest_fun_out\u001b[0m\u001b[0;34m(\u001b[0m\u001b[0;34m*\u001b[0m\u001b[0msamples\u001b[0m\u001b[0;34m,\u001b[0m \u001b[0;34m**\u001b[0m\u001b[0mkwds\u001b[0m\u001b[0;34m)\u001b[0m\u001b[0;34m\u001b[0m\u001b[0;34m\u001b[0m\u001b[0m\n\u001b[0m\u001b[1;32m    524\u001b[0m                 \u001b[0mres\u001b[0m \u001b[0;34m=\u001b[0m \u001b[0mresult_to_tuple\u001b[0m\u001b[0;34m(\u001b[0m\u001b[0mres\u001b[0m\u001b[0;34m)\u001b[0m\u001b[0;34m\u001b[0m\u001b[0;34m\u001b[0m\u001b[0m\n\u001b[1;32m    525\u001b[0m                 \u001b[0mres\u001b[0m \u001b[0;34m=\u001b[0m \u001b[0m_add_reduced_axes\u001b[0m\u001b[0;34m(\u001b[0m\u001b[0mres\u001b[0m\u001b[0;34m,\u001b[0m \u001b[0mreduced_axes\u001b[0m\u001b[0;34m,\u001b[0m \u001b[0mkeepdims\u001b[0m\u001b[0;34m)\u001b[0m\u001b[0;34m\u001b[0m\u001b[0;34m\u001b[0m\u001b[0m\n",
            "\u001b[0;32m/usr/local/lib/python3.10/dist-packages/scipy/stats/_mannwhitneyu.py\u001b[0m in \u001b[0;36mmannwhitneyu\u001b[0;34m(x, y, use_continuity, alternative, axis, method)\u001b[0m\n\u001b[1;32m    458\u001b[0m \u001b[0;34m\u001b[0m\u001b[0m\n\u001b[1;32m    459\u001b[0m     x, y, use_continuity, alternative, axis_int, method = (\n\u001b[0;32m--> 460\u001b[0;31m         _mwu_input_validation(x, y, use_continuity, alternative, axis, method))\n\u001b[0m\u001b[1;32m    461\u001b[0m \u001b[0;34m\u001b[0m\u001b[0m\n\u001b[1;32m    462\u001b[0m     \u001b[0mx\u001b[0m\u001b[0;34m,\u001b[0m \u001b[0my\u001b[0m\u001b[0;34m,\u001b[0m \u001b[0mxy\u001b[0m \u001b[0;34m=\u001b[0m \u001b[0m_broadcast_concatenate\u001b[0m\u001b[0;34m(\u001b[0m\u001b[0mx\u001b[0m\u001b[0;34m,\u001b[0m \u001b[0my\u001b[0m\u001b[0;34m,\u001b[0m \u001b[0maxis\u001b[0m\u001b[0;34m)\u001b[0m\u001b[0;34m\u001b[0m\u001b[0;34m\u001b[0m\u001b[0m\n",
            "\u001b[0;32m/usr/local/lib/python3.10/dist-packages/scipy/stats/_mannwhitneyu.py\u001b[0m in \u001b[0;36m_mwu_input_validation\u001b[0;34m(x, y, use_continuity, alternative, axis, method)\u001b[0m\n\u001b[1;32m    201\u001b[0m         \u001b[0;32mraise\u001b[0m \u001b[0mValueError\u001b[0m\u001b[0;34m(\u001b[0m\u001b[0;34m'`x` and `y` must not contain NaNs.'\u001b[0m\u001b[0;34m)\u001b[0m\u001b[0;34m\u001b[0m\u001b[0;34m\u001b[0m\u001b[0m\n\u001b[1;32m    202\u001b[0m     \u001b[0;32mif\u001b[0m \u001b[0mnp\u001b[0m\u001b[0;34m.\u001b[0m\u001b[0msize\u001b[0m\u001b[0;34m(\u001b[0m\u001b[0mx\u001b[0m\u001b[0;34m)\u001b[0m \u001b[0;34m==\u001b[0m \u001b[0;36m0\u001b[0m \u001b[0;32mor\u001b[0m \u001b[0mnp\u001b[0m\u001b[0;34m.\u001b[0m\u001b[0msize\u001b[0m\u001b[0;34m(\u001b[0m\u001b[0my\u001b[0m\u001b[0;34m)\u001b[0m \u001b[0;34m==\u001b[0m \u001b[0;36m0\u001b[0m\u001b[0;34m:\u001b[0m\u001b[0;34m\u001b[0m\u001b[0;34m\u001b[0m\u001b[0m\n\u001b[0;32m--> 203\u001b[0;31m         \u001b[0;32mraise\u001b[0m \u001b[0mValueError\u001b[0m\u001b[0;34m(\u001b[0m\u001b[0;34m'`x` and `y` must be of nonzero size.'\u001b[0m\u001b[0;34m)\u001b[0m\u001b[0;34m\u001b[0m\u001b[0;34m\u001b[0m\u001b[0m\n\u001b[0m\u001b[1;32m    204\u001b[0m \u001b[0;34m\u001b[0m\u001b[0m\n\u001b[1;32m    205\u001b[0m     \u001b[0mbools\u001b[0m \u001b[0;34m=\u001b[0m \u001b[0;34m{\u001b[0m\u001b[0;32mTrue\u001b[0m\u001b[0;34m,\u001b[0m \u001b[0;32mFalse\u001b[0m\u001b[0;34m}\u001b[0m\u001b[0;34m\u001b[0m\u001b[0;34m\u001b[0m\u001b[0m\n",
            "\u001b[0;31mValueError\u001b[0m: `x` and `y` must be of nonzero size."
          ]
        }
      ]
    },
    {
      "cell_type": "code",
      "source": [
        "print(mannwhitneyu(no_harm,harm))\n",
        "print(np.median(harm)-np.median(no_harm))"
      ],
      "metadata": {
        "id": "Zm_WPfiShG7T"
      },
      "execution_count": null,
      "outputs": []
    },
    {
      "cell_type": "code",
      "source": [
        "print(mannwhitneyu(lib_rt_harm,lib_nort_harm))\n",
        "print(np.median(lib_rt_harm)-np.median(lib_nort_harm))\n",
        "print(mannwhitneyu(cons_rt_harm,cons_nort_harm))\n",
        "print(np.median(cons_rt_harm)-np.median(cons_nort_harm))\n",
        "print(mannwhitneyu(lib_rt_harm-np.median(lib_nort_harm),cons_rt_harm-np.median(cons_nort_harm)))\n",
        "\n"
      ],
      "metadata": {
        "id": "vqxRgxCzgIU-"
      },
      "execution_count": null,
      "outputs": []
    },
    {
      "cell_type": "code",
      "source": [
        "print(mannwhitneyu(lib_rt_harm,cons_rt_harm))\n",
        "print(np.median(lib_rt_harm)-np.median(cons_rt_harm))\n",
        "print(mannwhitneyu(lib_nort_harm,cons_nort_harm))\n",
        "print(np.median(lib_nort_harm)-np.median(cons_nort_harm))"
      ],
      "metadata": {
        "id": "ATuvIGavhutH"
      },
      "execution_count": null,
      "outputs": []
    },
    {
      "cell_type": "code",
      "source": [
        "tweet_stats"
      ],
      "metadata": {
        "id": "JOYRGAKFiUDI"
      },
      "execution_count": null,
      "outputs": []
    },
    {
      "cell_type": "code",
      "source": [
        "from scipy.stats import mannwhitneyu,spearmanr\n",
        "rt2num = {}\n",
        "for tweetid in rt_data['tweet_id'].drop_duplicates().values:\n",
        "  rts = rt_data.loc[rt_data['tweet_id']==tweetid,'time_since_orig'].dropna()\n",
        "  num_rts = len(rts)\n",
        "  rt2num[tweetid] = num_rts\n",
        "rt_data ['num_rts'] = [rt2num[tweetid] for tweetid in rt_data['tweet_id'].values]\n",
        "num_rt_vs_harm = rt_data.loc[~np.isnan(rt_data['time_since_orig']) ,['tweet_id','harm_tweet','num_rts']].drop_duplicates()[['harm_tweet','num_rts']]\n",
        "\n",
        "\n",
        "print(spearmanr(num_rt_vs_harm['harm_tweet'],num_rt_vs_harm['num_rts']))\n",
        "\n",
        "# compare harm vs emotions, sentiment, morals\n",
        "\n"
      ],
      "metadata": {
        "id": "GZ-bRtt2KZqu"
      },
      "execution_count": null,
      "outputs": []
    },
    {
      "cell_type": "code",
      "source": [
        "# Phase 1A Data\n",
        "french_twitter_data = pd.read_csv('Phase 1A Data/AllCombinedTwitterData+text_new.csv')\n",
        "\n",
        "# because text is identical, we first take the set:\n",
        "unique_tweets = list(set(french_twitter_data['contentText'].values.tolist()))\n",
        "\n",
        "model = SentenceTransformer('stsb-xlm-r-multilingual')#'all-mpnet-base-v2')\n",
        "\n",
        "\n",
        "clf = pk.load(open('finalized_model_SVM.sav','rb'))#SVC(probability=True)\n",
        "all_pred = []\n",
        "for tweet in unique_tweets:\n",
        "    embedding = model.encode(tweet)\n",
        "    pred_prob = clf.predict_proba([embedding])[:,1]\n",
        "    all_pred.append(pred_prob)\n"
      ],
      "metadata": {
        "id": "UGLz4cTulwHi"
      },
      "execution_count": null,
      "outputs": []
    },
    {
      "cell_type": "code",
      "source": [
        "dict_pred = {t:p for t,p in zip(unique_tweets,pred_prob)}\n",
        "\n",
        "french_twitter_data['hazard'] = [dict_pred[t] for t in french_twitter_data['contentText'].values]\n",
        "\n"
      ],
      "metadata": {
        "id": "A34HH7ZGmn_O"
      },
      "execution_count": null,
      "outputs": []
    },
    {
      "cell_type": "code",
      "source": [
        "french_twitter_data[['id','contentText','hazard']].to_csv('Phase1AHazards.csv')"
      ],
      "metadata": {
        "id": "KYSrv6kfm8GK"
      },
      "execution_count": null,
      "outputs": []
    },
    {
      "cell_type": "code",
      "source": [
        "#Sentences are encoded by calling model.encode()\n",
        "model = SentenceTransformer('stsb-xlm-r-multilingual')#'all-mpnet-base-v2')\n",
        "df = pd.read_csv('all_5M_features_counts.csv')\n",
        "embeddings = model.encode(df['text'].values)\n",
        "#embeddings = model.encode(GT_labels['text'].values)\n",
        "#GT_labels['embeddings'] = [e for e in embeddings]\n",
        "\n",
        "\n"
      ],
      "metadata": {
        "colab": {
          "base_uri": "https://localhost:8080/"
        },
        "id": "g1oNFXIXMAYU",
        "outputId": "f513c02b-2a98-4590-f67e-bdc2559277ce"
      },
      "execution_count": null,
      "outputs": [
        {
          "metadata": {
            "tags": null
          },
          "name": "stderr",
          "output_type": "stream",
          "text": [
            "<ipython-input-8-03a7e6920fe0>:3: DtypeWarning: Columns (16,21) have mixed types. Specify dtype option on import or set low_memory=False.\n",
            "  df = pd.read_csv('all_5M_features_counts.csv')\n"
          ]
        }
      ]
    },
    {
      "cell_type": "code",
      "source": [
        "df['embeddings'] = embeddings"
      ],
      "metadata": {
        "id": "mAWfU9EZO9q9"
      },
      "execution_count": null,
      "outputs": []
    },
    {
      "cell_type": "code",
      "source": [
        "df.columns"
      ],
      "metadata": {
        "id": "1u9sGXZWVwQh"
      },
      "execution_count": null,
      "outputs": []
    },
    {
      "cell_type": "code",
      "source": [
        "df['will_rt'] = [rt>0 for rt in df['num_rt_24'].values]"
      ],
      "metadata": {
        "id": "zbCfh-cvVzxk"
      },
      "execution_count": null,
      "outputs": []
    },
    {
      "cell_type": "code",
      "source": [
        "pk.dump(embeddings,open('rvw_embeddings.pkl','wb'))"
      ],
      "metadata": {
        "id": "vWhcu8x1X64_"
      },
      "execution_count": null,
      "outputs": []
    },
    {
      "cell_type": "code",
      "source": [
        "orig_df = df.loc[df['orig'],]"
      ],
      "metadata": {
        "id": "MTKFz4XYWbnA"
      },
      "execution_count": null,
      "outputs": []
    },
    {
      "cell_type": "code",
      "source": [
        "from sklearn.model_selection import train_test_split\n",
        "from sklearn.ensemble import RandomForestClassifier\n",
        "embedding_dim = 768\n",
        "#loaded_model = pk.load(open(filename, 'rb'))\n",
        "#embed_model = SentenceTransformer('stsb-xlm-r-multilingual')#'all-mpnet-base-v2')\n",
        "#labeled_data['']\n",
        "#embeddings = embed_model.encode(labeled_data['summary'].values.astype(str))\n",
        "from tensorflow import keras\n",
        "\n",
        "#filename = 'finalized_model.sav'\n",
        "#loaded_model = pk.load(open(filename, 'rb'))\n",
        "\n",
        "X = embeddings\n",
        "y = orig_df['will_rt'].values\n",
        "#index = list(range(len(orig_df)))\n",
        "#num = labeled_data['number'].values\n",
        "metrics = {'SVM_pre_f1':[],'SVM_pre_auc':[],'SVM_f1':[],'SVM_auc':[],'RF_pre_f1':[],'RF_pre_auc':[],'RF_f1':[],'RF_auc':[],'XGB_pre_f1':[],'XGB_pre_auc':[],'XGB_f1':[],'XGB_auc':[],'NN_pre_f1':[],'NN_pre_auc':[],'NN_f1':[],'NN_auc':[],'base_f1':[]}\n",
        "for i in range(50):\n",
        "\n",
        "  X_train, X_test, y_train, y_test = train_test_split(X, y, test_size=0.2, random_state=i*3141)\n",
        "\n",
        "  clf = RandomForestClassifier(max_depth=5, random_state=0)\n",
        "  clf.fit(X, y)\n",
        "\n",
        "\n",
        "  #num_list = list(np.unique(num))\n",
        "  #random.shuffle(num_list)\n",
        "  #train_ind = np.where(np.in1d(num, num_list[:190]))[0]\n",
        "  #test_ind = np.where(np.in1d(num, num_list[190:]))[0]\n",
        "  #print(set(list(test_ind)).intersection(set(list(train_ind))))\n",
        "  # 80% training, 20% testing\n",
        "  #X_train = X[train_ind]\n",
        "  #y_train = y[train_ind].round()\n",
        "  #X_test = X[test_ind]\n",
        "  #y_test = y[test_ind].round()\n",
        "  filename = 'finalized_model_SVM.sav'\n",
        "  loaded_model = pk.load(open(filename, 'rb'))\n",
        "  f1 = f1_score(y_test,loaded_model.predict(X_test))\n",
        "  auc = roc_auc_score(y_test,loaded_model.predict_proba(X_test)[:,1])\n",
        "  metrics['SVM_pre_f1'].append(f1)\n",
        "  metrics['SVM_pre_auc'].append(auc)\n",
        "  loaded_model.fit(X_train,y_train)\n",
        "  new_preds = loaded_model.predict_proba(X_test)[:,1]\n",
        "  f1 = f1_score(y_test,new_preds.round())\n",
        "  auc = roc_auc_score(y_test,new_preds)\n",
        "  print(auc)\n",
        "  metrics['SVM_f1'].append(f1)\n",
        "  metrics['SVM_auc'].append(auc)\n",
        "\n",
        "  filename = 'finalized_model_RF.sav'\n",
        "  loaded_model = pk.load(open(filename, 'rb'))\n",
        "  f1 = f1_score(y_test,loaded_model.predict(X_test))\n",
        "  auc = roc_auc_score(y_test,loaded_model.predict_proba(X_test)[:,1])\n",
        "  metrics['RF_pre_f1'].append(f1)\n",
        "  metrics['RF_pre_auc'].append(auc)\n",
        "  loaded_model.fit(X_train,y_train)\n",
        "  new_preds = loaded_model.predict_proba(X_test)[:,1]\n",
        "  f1 = f1_score(y_test,new_preds.round())\n",
        "  auc = roc_auc_score(y_test.round(),new_preds)\n",
        "  print(auc)\n",
        "  metrics['RF_f1'].append(f1)\n",
        "  metrics['RF_auc'].append(auc)\n",
        "\n",
        "  filename = 'finalized_model_XGB.sav'\n",
        "  loaded_model = pk.load(open(filename, 'rb'))\n",
        "  f1 = f1_score(y_test,loaded_model.predict(X_test))\n",
        "  auc = roc_auc_score(y_test,loaded_model.predict_proba(X_test)[:,1])\n",
        "  metrics['XGB_pre_f1'].append(f1)\n",
        "  metrics['XGB_pre_auc'].append(auc)\n",
        "  loaded_model.fit(X_train,y_train)\n",
        "  new_preds = loaded_model.predict_proba(X_test)[:,1]\n",
        "  f1 = f1_score(y_test,new_preds.round())\n",
        "  auc = roc_auc_score(y_test,new_preds)\n",
        "  print(auc)\n",
        "  metrics['XGB_f1'].append(f1)\n",
        "  metrics['XGB_auc'].append(auc)\n",
        "\n",
        "  loaded_model = keras.models.load_model('finalized_model_NN.sav')\n",
        "  embedding_normalizer = Normalization(input_shape=[embedding_dim,], axis=None)\n",
        "  embedding_normalizer.adapt(X_train)\n",
        "  def modeling(l2_lambda=0.001, relu_alpha=0.1, dropout_rate=0.7):\n",
        "      model = Sequential([\n",
        "      embedding_normalizer,\n",
        "      Dense(int(embedding_dim/3),kernel_regularizer=regularizers.l2(l2_lambda)),\n",
        "      LeakyReLU(relu_alpha), #alpha=negative coefficient for the slope\n",
        "      BatchNormalization(),\n",
        "      Dropout(dropout_rate),\n",
        "      Dense(int(embedding_dim/9), kernel_regularizer=regularizers.l2(l2_lambda)),\n",
        "      LeakyReLU(relu_alpha),\n",
        "      BatchNormalization(),\n",
        "      Dropout(dropout_rate),\n",
        "      Dense(int(embedding_dim/27),kernel_regularizer=regularizers.l2(l2_lambda)),\n",
        "      LeakyReLU(relu_alpha),\n",
        "      BatchNormalization(),\n",
        "      Dropout(dropout_rate),\n",
        "      #Dense(int(embedding_dim/16),kernel_regularizer=regularizers.l2(l2_lambda)),\n",
        "      #LeakyReLU(relu_alpha),\n",
        "      #BatchNormalization(),\n",
        "      #Dropout(dropout_rate),\n",
        "      Dense(1, activation=tf.keras.activations.sigmoid)\n",
        "      ])\n",
        "      model.compile(loss='binary_crossentropy',optimizer='adam',metrics=['binary_crossentropy',AUC()])\n",
        "      return model\n",
        "\n",
        "  es = EarlyStopping(monitor='val_loss', mode='min', verbose=1, patience=5) #min_delta=1 #baseline=26\n",
        "  y_pred = loaded_model.predict(X_test)\n",
        "  metrics['NN_pre_auc'].append(roc_auc_score(y_test, y_pred))\n",
        "  metrics['NN_pre_f1'].append(f1_score(y_test,y_pred.round()))\n",
        "  history = loaded_model.fit(X_train, y_train, validation_split=0.1, epochs=100, batch_size=32, verbose=2,callbacks=[es]) #callbacks=[es])\n",
        "  y_pred = loaded_model.predict(X_test)\n",
        "  metrics['NN_auc'].append(roc_auc_score(y_test, y_pred))\n",
        "  metrics['NN_f1'].append(f1_score(y_test,y_pred.round()))\n",
        "\n",
        "  f1_base=f1_score(y_test,[1]*len(y_test))\n",
        "  metrics['base_f1'].append(f1_base)\n",
        "\n",
        "pd.DataFrame(metrics).to_csv('UL_metrics.csv',index=False)\n",
        "\n",
        "\n",
        "embedding_dim = 768\n",
        "#loaded_model = pk.load(open(filename, 'rb'))\n",
        "embed_model = SentenceTransformer('stsb-xlm-r-multilingual')#'all-mpnet-base-v2')\n",
        "#labeled_data['']\n",
        "embeddings = embed_model.encode(labeled_data['summary'].values.astype(str))\n",
        "from tensorflow import keras\n",
        "\n",
        "#embed_model = SentenceTransformer('all-mpnet-base-v2')\n",
        "#labeled_data['']\n",
        "#embeddings = embed_model.encode(labeled_data['Claim'].values.astype(str))\n",
        "X = embeddings\n",
        "y = labeled_data['hazard'].values.round()\n",
        "\n",
        "model = keras.models.load_model('finalized_model_NN.sav')\n",
        "embedding_normalizer = Normalization(input_shape=[embedding_dim,], axis=None)\n",
        "embedding_normalizer.adapt(X)\n",
        "def modeling(l2_lambda=0.001, relu_alpha=0.1, dropout_rate=0.7):\n",
        "    model = Sequential([\n",
        "    embedding_normalizer,\n",
        "    Dense(int(embedding_dim/3),kernel_regularizer=regularizers.l2(l2_lambda)),\n",
        "    LeakyReLU(relu_alpha), #alpha=negative coefficient for the slope\n",
        "    BatchNormalization(),\n",
        "    Dropout(dropout_rate),\n",
        "    Dense(int(embedding_dim/9), kernel_regularizer=regularizers.l2(l2_lambda)),\n",
        "    LeakyReLU(relu_alpha),\n",
        "    BatchNormalization(),\n",
        "    Dropout(dropout_rate),\n",
        "    Dense(int(embedding_dim/27),kernel_regularizer=regularizers.l2(l2_lambda)),\n",
        "    LeakyReLU(relu_alpha),\n",
        "    BatchNormalization(),\n",
        "    Dropout(dropout_rate),\n",
        "    #Dense(int(embedding_dim/16),kernel_regularizer=regularizers.l2(l2_lambda)),\n",
        "    #LeakyReLU(relu_alpha),\n",
        "    #BatchNormalization(),\n",
        "    #Dropout(dropout_rate),\n",
        "    Dense(1, activation=tf.keras.activations.sigmoid)\n",
        "    ])\n",
        "    model.compile(loss='binary_crossentropy',optimizer='adam',metrics=['binary_crossentropy',AUC()])\n",
        "    return model\n",
        "\n",
        "es = EarlyStopping(monitor='val_loss', mode='min', verbose=1, patience=5) #min_delta=1 #baseline=26\n",
        "history = model.fit(X, y, validation_split=0.1, epochs=100, batch_size=32, verbose=2,callbacks=[es]) #callbacks=[es])\n",
        "\n",
        "\n",
        "model.save('finalized_model_NN_UL.sav')"
      ],
      "metadata": {
        "id": "9o_eUyEIPGNN"
      },
      "execution_count": null,
      "outputs": []
    }
  ],
  "metadata": {
    "accelerator": "GPU",
    "colab": {
      "provenance": []
    },
    "gpuClass": "standard",
    "kernelspec": {
      "display_name": "Python 3",
      "name": "python3"
    },
    "language_info": {
      "name": "python"
    }
  },
  "nbformat": 4,
  "nbformat_minor": 0
}